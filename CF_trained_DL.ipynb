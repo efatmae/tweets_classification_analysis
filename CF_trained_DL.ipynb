{
 "cells": [
  {
   "cell_type": "code",
   "execution_count": 1,
   "metadata": {
    "collapsed": true
   },
   "outputs": [],
   "source": [
    "import pandas as pd\n",
    "from sklearn import metrics\n",
    "import matplotlib.pyplot as plt\n",
    "import numpy as np\n",
    "from scipy.interpolate import spline\n",
    "from scipy.interpolate import interp1d"
   ]
  },
  {
   "cell_type": "code",
   "execution_count": 2,
   "metadata": {
    "collapsed": true
   },
   "outputs": [],
   "source": [
    "def perf_measure(y_actual, y_hat):\n",
    "    TP = 0\n",
    "    FP = 0\n",
    "    TN = 0\n",
    "    FN = 0\n",
    "\n",
    "    for i in range(len(y_hat)): \n",
    "        if y_actual[i]==y_hat[i]==1:\n",
    "           TP += 1\n",
    "        if y_hat[i]==1 and y_actual[i]!=y_hat[i]:\n",
    "           FP += 1\n",
    "        if y_actual[i]==y_hat[i]==0:\n",
    "           TN += 1\n",
    "        if y_hat[i]==0 and y_actual[i]!=y_hat[i]:\n",
    "           FN += 1\n",
    "        \n",
    "    return TP, FP,TN, FN       "
   ]
  },
  {
   "cell_type": "code",
   "execution_count": 3,
   "metadata": {
    "collapsed": false
   },
   "outputs": [],
   "source": [
    "pro_x = []\n",
    "pro_y = []\n",
    "with open ('Data/CF_trained_probabilities.txt') as f:\n",
    "    lines = f.readlines()\n",
    "    for x in lines:\n",
    "        x = x[1:-2]\n",
    "        x = x.lstrip()\n",
    "        x = x.rstrip()\n",
    "        y = x.strip().split(\"  \")\n",
    "        pro_x.append(y[0].strip())\n",
    "        pro_y.append(y[1].strip())"
   ]
  },
  {
   "cell_type": "code",
   "execution_count": 4,
   "metadata": {
    "collapsed": false
   },
   "outputs": [],
   "source": [
    "with open ('Data/CF_trained_DL_probabilities_x.txt','w') as f:\n",
    "    f.write(\"\\n\".join(map(lambda x: x, pro_x)) + \"\\n\")\n"
   ]
  },
  {
   "cell_type": "code",
   "execution_count": 5,
   "metadata": {
    "collapsed": false
   },
   "outputs": [],
   "source": [
    "with open ('Data/CF_trained_DL_probabilities_y.txt','w') as f:\n",
    "    f.write(\"\\n\".join(map(lambda x: x, pro_y)) + \"\\n\")"
   ]
  },
  {
   "cell_type": "code",
   "execution_count": 6,
   "metadata": {
    "collapsed": true
   },
   "outputs": [],
   "source": [
    "GT = pd.read_excel(\"Data/CF_trained_DL_test_set_vocab.xlsx\")"
   ]
  },
  {
   "cell_type": "code",
   "execution_count": 7,
   "metadata": {
    "collapsed": true
   },
   "outputs": [],
   "source": [
    "fpr, tpr, thresholds = metrics.roc_curve(GT.actual_label.values, GT.prediction.values, pos_label=1)"
   ]
  },
  {
   "cell_type": "code",
   "execution_count": 8,
   "metadata": {
    "collapsed": false
   },
   "outputs": [
    {
     "data": {
      "text/plain": [
       "0.57205452775073029"
      ]
     },
     "execution_count": 8,
     "metadata": {},
     "output_type": "execute_result"
    }
   ],
   "source": [
    "metrics.auc(fpr, tpr)"
   ]
  },
  {
   "cell_type": "code",
   "execution_count": 9,
   "metadata": {
    "collapsed": false
   },
   "outputs": [
    {
     "data": {
      "text/plain": [
       "0.70652173913043481"
      ]
     },
     "execution_count": 9,
     "metadata": {},
     "output_type": "execute_result"
    }
   ],
   "source": [
    "metrics.accuracy_score(GT.actual_label.values, GT.prediction.values)"
   ]
  },
  {
   "cell_type": "code",
   "execution_count": 10,
   "metadata": {
    "collapsed": true
   },
   "outputs": [],
   "source": [
    "TP, FP,TN, FN  = perf_measure(GT.actual_label.values, GT.prediction.values)"
   ]
  },
  {
   "cell_type": "code",
   "execution_count": 11,
   "metadata": {
    "collapsed": false
   },
   "outputs": [
    {
     "data": {
      "text/plain": [
       "(5, 19, 60, 8)"
      ]
     },
     "execution_count": 11,
     "metadata": {},
     "output_type": "execute_result"
    }
   ],
   "source": [
    "TP, FP,TN, FN"
   ]
  },
  {
   "cell_type": "code",
   "execution_count": 12,
   "metadata": {
    "collapsed": false
   },
   "outputs": [
    {
     "name": "stdout",
     "output_type": "stream",
     "text": [
      "('len actual_non_vio', 79)\n",
      "('len actual_vio', 13)\n"
     ]
    }
   ],
   "source": [
    "actual_non_vio = GT[GT.actual_label==0]\n",
    "actual_vio = GT[GT.actual_label==1]\n",
    "print(\"len actual_non_vio\",len(actual_non_vio))\n",
    "print(\"len actual_vio\",len(actual_vio))"
   ]
  },
  {
   "cell_type": "code",
   "execution_count": 14,
   "metadata": {
    "collapsed": false
   },
   "outputs": [
    {
     "name": "stdout",
     "output_type": "stream",
     "text": [
      "('len prediction_non_vio', 68)\n",
      "('len prediction_vio', 24)\n"
     ]
    }
   ],
   "source": [
    "prediction_non_vio = GT[GT.prediction==0]\n",
    "prediction_vio = GT[GT.prediction==1]\n",
    "print(\"len prediction_non_vio\",len(prediction_non_vio))\n",
    "print(\"len prediction_vio\",len(prediction_vio))"
   ]
  },
  {
   "cell_type": "code",
   "execution_count": 15,
   "metadata": {
    "collapsed": true
   },
   "outputs": [],
   "source": [
    "non_vio_probab_x = GT.probabilities_non_violence.values\n",
    "non_v_probab_y = np.zeros(92)\n",
    "\n",
    "vio_probab_x = GT.probabilities_violence.values\n",
    "v_probab_y = np.zeros(92)"
   ]
  },
  {
   "cell_type": "code",
   "execution_count": 16,
   "metadata": {
    "collapsed": false
   },
   "outputs": [
    {
     "data": {
      "image/png": "[encoded data removed]",
      "text/plain": [
       "<matplotlib.figure.Figure at 0x1149f0090>"
      ]
     },
     "metadata": {},
     "output_type": "display_data"
    }
   ],
   "source": [
    "plt.hist([actual_non_vio.probabilities_non_violence,actual_vio.probabilities_violence],normed=0, histtype='bar', stacked=False, color = ['green','red'], label= [\"actual non vio(prob. non vio)\",\"actual vio(prob. vio)\"])\n",
    "plt.plot(non_vio_probab_x, non_v_probab_y, \"bx\",label='prob. non. violent' )\n",
    "plt.plot(vio_probab_x, v_probab_y, \"yx\",label='prob. violent' )\n",
    "plt.legend()\n",
    "plt.savefig(\"Data/CF_trained_actual_vio_actual_non_prob. dist.pdf\")\n",
    "plt.show()"
   ]
  },
  {
   "cell_type": "code",
   "execution_count": null,
   "metadata": {
    "collapsed": true
   },
   "outputs": [],
   "source": []
  },
  {
   "cell_type": "code",
   "execution_count": null,
   "metadata": {
    "collapsed": true
   },
   "outputs": [],
   "source": []
  }
 ],
 "metadata": {
  "kernelspec": {
   "display_name": "Python 2",
   "language": "python",
   "name": "python2"
  },
  "language_info": {
   "codemirror_mode": {
    "name": "ipython",
    "version": 2
   },
   "file_extension": ".py",
   "mimetype": "text/x-python",
   "name": "python",
   "nbconvert_exporter": "python",
   "pygments_lexer": "ipython2",
   "version": "2.7.13"
  }
 },
 "nbformat": 4,
 "nbformat_minor": 2
}
