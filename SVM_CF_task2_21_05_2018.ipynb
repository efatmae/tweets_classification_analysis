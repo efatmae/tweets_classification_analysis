{
 "cells": [
  {
   "cell_type": "code",
   "execution_count": 243,
   "metadata": {},
   "outputs": [],
   "source": [
    "import nltk\n",
    "import pandas as pd\n",
    "from sklearn.naive_bayes import MultinomialNB\n",
    "from sklearn.naive_bayes import BernoulliNB\n",
    "from sklearn.svm import SVC\n",
    "from sklearn.linear_model import SGDClassifier\n",
    "from sklearn.pipeline import Pipeline\n",
    "from sklearn.cross_validation import KFold, cross_val_score\n",
    "from sklearn.model_selection import cross_val_predict\n",
    "from sklearn.metrics import confusion_matrix, f1_score, precision_score, recall_score\n",
    "from sklearn.model_selection import train_test_split\n",
    "import numpy as np\n",
    "from sklearn.model_selection import train_test_split\n",
    "from sklearn.feature_extraction.text import CountVectorizer\n",
    "from sklearn.feature_extraction.text import TfidfTransformer\n",
    "from sklearn import metrics \n",
    "import matplotlib.pyplot as plt\n",
    "from sklearn.model_selection import learning_curve\n",
    "from sklearn.model_selection import ShuffleSplit\n",
    "from sklearn.model_selection import StratifiedKFold\n",
    "from sklearn.model_selection import permutation_test_score\n",
    "import re\n",
    "import random\n",
    "from sklearn.linear_model import LogisticRegression"
   ]
  },
  {
   "cell_type": "code",
   "execution_count": 244,
   "metadata": {},
   "outputs": [
    {
     "name": "stdout",
     "output_type": "stream",
     "text": [
      "[nltk_data] Downloading package stopwords to /Users/fatma/nltk_data...\n",
      "[nltk_data]   Package stopwords is already up-to-date!\n"
     ]
    }
   ],
   "source": [
    "import nltk\n",
    "nltk.download('stopwords')\n",
    "from nltk.corpus import stopwords"
   ]
  },
  {
   "cell_type": "code",
   "execution_count": 245,
   "metadata": {},
   "outputs": [],
   "source": [
    "def clean_str(string):\n",
    "    \"\"\"\n",
    "    Tokenization/string cleaning for all datasets except for SST.\n",
    "    Original taken from https://github.com/yoonkim/CNN_sentence/blob/master/process_data.py\n",
    "    \"\"\"\n",
    "    string = re.sub(r\"[^A-Za-z0-9(),!?\\'\\`]\", \" \", string)\n",
    "    string = re.sub(r\"\\'s\", \" \", string)\n",
    "    string = re.sub(r\"\\'ve\", \" \", string)\n",
    "    string = re.sub(r\"n\\'t\", \" \", string)\n",
    "    string = re.sub(r\"n\\'s\", \" \", string)\n",
    "    string = re.sub(r\"\\'re\", \" \", string)\n",
    "    string = re.sub(r\"\\'d\", \" \", string)\n",
    "    string = re.sub(r\"\\'ll\", \" \", string)\n",
    "    string = re.sub(r\",\", \" \", string)\n",
    "    string = re.sub(r\"!\", \" \", string)\n",
    "    string = re.sub(r\"\\(\", \" \", string)\n",
    "    string = re.sub(r\"\\)\", \" \", string)\n",
    "    string = re.sub(r\"\\?\", \" \", string)\n",
    "    string = re.sub(r\"\\s{2,}\", \" \", string)\n",
    "    string = re.sub(r\"\\//?\", \" \", string)\n",
    "    string = re.sub(r\"\\d+\", \" \", string)\n",
    "    string = re.sub(r\"\\$\", \" \", string)\n",
    "    string = re.sub(r\"\\#\", \" \", string)\n",
    "    return string.strip().lower()"
   ]
  },
  {
   "cell_type": "code",
   "execution_count": 621,
   "metadata": {},
   "outputs": [],
   "source": [
    "def remove_stop(str):\n",
    "    stop = set(stopwords.words('english'))\n",
    "    lst = str.split()\n",
    "    lst = [i for i in lst if i not in stop]\n",
    "    return ' '.join(lst)\n",
    "\n",
    "def stem (str):\n",
    "    lst = str.split()\n",
    "    lst = [st.stem(x) for x in lst]\n",
    "    return ' '.join(lst)\n",
    "\n",
    "#def remove_unwanted_words(str):\n",
    "##    unwanted_words = [\"httpaddress\", \"usrid\", \"D\", \"dd\", \"rt\", \"amp\", \"am\", \"pm\", '``',\n",
    "#                      \"''\", \"\", \"//\", \"\\\\\", \"\\\\'s\", \"\\\\?\", \"\\?\",\"http\",\"httpaddresshttpaddresst\", \"cohttpaddressek\", \"sat\", \"sun\", \"mon\",\n",
    "#                     \"tue\", \"wed\", \"thu\", \"fri\", \"jan\", \"feb\", \"mar\", \"apr\", \"may\", \"jun\", \"jul\", \"aug\", \"sep\", \"oct\", \"nov\", \"dec\"]\n",
    "#    lst = str.split(\" \")\n",
    "#    lst = [i for i in lst if i not in unwanted_words]\n",
    "#    return ' '.join(lst)\n",
    "\n",
    "\n",
    "def remove_unwanted_words(str):\n",
    "    unwanted_words = [\"httpaddress\", \"usrid\", \"D\", \"dd\", \"rt\", \"amp\", \"am\", \"pm\", '``',\n",
    "                      \"''\", \"\", \"//\", \"\\\\\", \"\\\\'s\", \"\\\\?\", \"\\?\",\"http\",\"httpaddresshttpaddresst\", \"cohttpaddressek\",\n",
    "                      \"taksim\",\"gezi\", \"park\", \"direngeziparki\", \"occupygezi\", \"istanbul\", \"turkish\",\"turkey\",\n",
    "                      \"protest\",\"direngezipark\",\"direnankara\",\"geziparki\", \"protesters\", \"protests\", \"sat\", \"sun\", \"mon,\",\n",
    "                     \"tue\", \"wed\", \"thu\", \"fri\", \"jan\", \"feb\", \"mar\", \"apr\", \"may\", \"jun\", \"jul\", \"aug\", \"sep\", \"oct\", \"nov\", \"dec\"]\n",
    "    lst = str.split(\" \")\n",
    "    lst = [i for i in lst if i not in unwanted_words]\n",
    "    return ' '.join(lst)\n",
    "\n",
    "def toLower(str):\n",
    "    lst = str.split()\n",
    "    lst = [i.lower() for i in lst]\n",
    "    return ' '.join(lst)\n",
    "\n",
    "def word_len (str):\n",
    "    lst = str.split()\n",
    "    lst = [i for i in lst if len(i)>1 and len(i) <7]\n",
    "    return ' '.join(lst)\n",
    "\n",
    "def sent_len (str):\n",
    "    lst = str.split()\n",
    "    if len(lst)>=3:\n",
    "        return ' '.join(lst)"
   ]
  },
  {
   "cell_type": "code",
   "execution_count": 622,
   "metadata": {},
   "outputs": [],
   "source": [
    "def clean_data(data):\n",
    "    \"\"\"\n",
    "    Loads MR polarity african_data from files, splits the african_data into words and generates labels.\n",
    "    Returns split sentences and labels.\n",
    "    \"\"\"\n",
    "    # Load african_data from files\n",
    "    positive_examples = data\n",
    "    positive_examples = positive_examples.strip() \n",
    "    positive_examples = remove_stop(positive_examples) \n",
    "    #print(positive_examples[0])\n",
    "    positive_examples = toLower(positive_examples) \n",
    "    #rint(positive_examples[0])\n",
    "    positive_examples = clean_str(positive_examples) \n",
    "    #rint(positive_examples[0])\n",
    "    #positive_examples = [stem(item) for item in positive_examples]\n",
    "    #rint(positive_examples[0])\n",
    "    positive_examples = remove_unwanted_words(positive_examples)\n",
    "    #positive_examples = word_len(positive_examples) \n",
    "    positive_examples = sent_len(positive_examples) \n",
    "    \n",
    "    return positive_examples\n",
    "    "
   ]
  },
  {
   "cell_type": "code",
   "execution_count": 765,
   "metadata": {},
   "outputs": [],
   "source": [
    "df_cf_judgments = pd.read_csv('Data/CF_label_confidence_judgments_finalized_22_05_2018.csv')"
   ]
  },
  {
   "cell_type": "code",
   "execution_count": 766,
   "metadata": {},
   "outputs": [
    {
     "data": {
      "text/plain": [
       "Index(['Unnamed: 0', '_unit_id', '_golden', '_unit_state_x',\n",
       "       '_trusted_judgments', '_last_judgment_at_x', 'violence_judgment',\n",
       "       'violence', 'violence_confidence', 'protest_judgment_x', 'protest',\n",
       "       'protest_confidence', 'created_at', 'id', 'proccd_text'],\n",
       "      dtype='object')"
      ]
     },
     "execution_count": 766,
     "metadata": {},
     "output_type": "execute_result"
    }
   ],
   "source": [
    "df_cf_judgments.columns"
   ]
  },
  {
   "cell_type": "code",
   "execution_count": 767,
   "metadata": {},
   "outputs": [
    {
     "data": {
      "text/plain": [
       "1315"
      ]
     },
     "execution_count": 767,
     "metadata": {},
     "output_type": "execute_result"
    }
   ],
   "source": [
    "len(df_cf_judgments)"
   ]
  },
  {
   "cell_type": "code",
   "execution_count": 768,
   "metadata": {},
   "outputs": [
    {
     "data": {
      "text/plain": [
       "Index(['Unnamed: 0', '_unit_id', '_golden', '_unit_state_x',\n",
       "       '_trusted_judgments', '_last_judgment_at_x', 'violence_judgment',\n",
       "       'violence', 'violence_confidence', 'protest_judgment_x', 'protest',\n",
       "       'protest_confidence', 'created_at', 'id', 'proccd_text'],\n",
       "      dtype='object')"
      ]
     },
     "execution_count": 768,
     "metadata": {},
     "output_type": "execute_result"
    }
   ],
   "source": [
    "df_cf_judgments.columns"
   ]
  },
  {
   "cell_type": "code",
   "execution_count": 769,
   "metadata": {},
   "outputs": [],
   "source": [
    "df_cf_judgments = df_cf_judgments[df_cf_judgments['_golden']==False]"
   ]
  },
  {
   "cell_type": "code",
   "execution_count": 770,
   "metadata": {},
   "outputs": [
    {
     "data": {
      "text/plain": [
       "1315"
      ]
     },
     "execution_count": 770,
     "metadata": {},
     "output_type": "execute_result"
    }
   ],
   "source": [
    "len(df_cf_judgments)"
   ]
  },
  {
   "cell_type": "code",
   "execution_count": 771,
   "metadata": {},
   "outputs": [
    {
     "data": {
      "text/plain": [
       "1315"
      ]
     },
     "execution_count": 771,
     "metadata": {},
     "output_type": "execute_result"
    }
   ],
   "source": [
    "len(df_cf_judgments.drop_duplicates())"
   ]
  },
  {
   "cell_type": "code",
   "execution_count": 772,
   "metadata": {},
   "outputs": [],
   "source": [
    "df_cf_judgments['violence'] = df_cf_judgments['violence'].fillna(0)\n",
    "df_cf_judgments['violence_confidence'] = df_cf_judgments['violence_confidence'].fillna(0)\n",
    "df_cf_judgments['violence_judgment'] = df_cf_judgments['violence_judgment'].fillna(1)"
   ]
  },
  {
   "cell_type": "code",
   "execution_count": 773,
   "metadata": {},
   "outputs": [
    {
     "data": {
      "text/plain": [
       "1315"
      ]
     },
     "execution_count": 773,
     "metadata": {},
     "output_type": "execute_result"
    }
   ],
   "source": [
    "len(df_cf_judgments.dropna())"
   ]
  },
  {
   "cell_type": "code",
   "execution_count": 774,
   "metadata": {},
   "outputs": [],
   "source": [
    "df_cf_judgments = df_cf_judgments[df_cf_judgments['violence']!=-1]"
   ]
  },
  {
   "cell_type": "code",
   "execution_count": 775,
   "metadata": {},
   "outputs": [
    {
     "data": {
      "text/plain": [
       "1315"
      ]
     },
     "execution_count": 775,
     "metadata": {},
     "output_type": "execute_result"
    }
   ],
   "source": [
    "len(df_cf_judgments)"
   ]
  },
  {
   "cell_type": "code",
   "execution_count": 776,
   "metadata": {
    "scrolled": true
   },
   "outputs": [],
   "source": [
    "df_cf_judgments['clean_text'] = df_cf_judgments['proccd_text'].apply(lambda x:clean_data(x) )"
   ]
  },
  {
   "cell_type": "code",
   "execution_count": 777,
   "metadata": {},
   "outputs": [
    {
     "data": {
      "text/plain": [
       "1315"
      ]
     },
     "execution_count": 777,
     "metadata": {},
     "output_type": "execute_result"
    }
   ],
   "source": [
    "len(df_cf_judgments)"
   ]
  },
  {
   "cell_type": "code",
   "execution_count": 778,
   "metadata": {},
   "outputs": [],
   "source": [
    "df_cf_judgments['clean_text'] = df_cf_judgments['clean_text'].dropna()"
   ]
  },
  {
   "cell_type": "code",
   "execution_count": 779,
   "metadata": {},
   "outputs": [],
   "source": [
    "df_cf_judgments = df_cf_judgments.drop_duplicates()"
   ]
  },
  {
   "cell_type": "code",
   "execution_count": 780,
   "metadata": {},
   "outputs": [],
   "source": [
    "df_cf_judgments = df_cf_judgments[df_cf_judgments['clean_text']!=\"\"]"
   ]
  },
  {
   "cell_type": "code",
   "execution_count": 781,
   "metadata": {},
   "outputs": [
    {
     "data": {
      "text/plain": [
       "0       lawn goose clothes lot outfit pattern sewing u...\n",
       "1                       police blacked id numbers helmuts\n",
       "2                                    occupy call akp govt\n",
       "3       erdogan says vandals entering mosques beer bot...\n",
       "4       photoset forest dreams needs support always me...\n",
       "5       set barricades halt cops marching back sq hopi...\n",
       "6                                                     NaN\n",
       "7       moroccans protesting erdogan visit says crimin...\n",
       "8             square designing common present future past\n",
       "9                     investors baffled moneybeat wsj via\n",
       "10         media ignoring ntv airing cooking show kidding\n",
       "11                       police crush ankara photos video\n",
       "12                    july turkeys human rights hypocrisy\n",
       "13      borsa chapulled loses reached since chapullers...\n",
       "14      police detaining protestors residents asked op...\n",
       "15               guess everybody forgot london riots host\n",
       "16                cbs riot police rush crush renewed news\n",
       "17         welcome revolution ntv occupyturkey revolution\n",
       "18      akp genius created standing men standing stand...\n",
       "19       solidarity though regime learn neighbors mideast\n",
       "20                                  world watching strong\n",
       "21       brother fucked slam peice prick go holiday jokes\n",
       "22      kiralkkatilahmetahbaz name cop shot killed una...\n",
       "23      hi everyone closing live blog volunteer collec...\n",
       "24                             new form standing silently\n",
       "25                        blocking bulldozers tear gassed\n",
       "26                        washington post guide happening\n",
       "27      status update hours ago many reporters eu mini...\n",
       "28      paulocoelho shame us tear gas used demonstrato...\n",
       "29      ifj journalists call international action end ...\n",
       "                              ...                        \n",
       "1280        night falls tensions rising stay tuned latest\n",
       "1281    dictator erdogan blames twitter unrest coward ...\n",
       "1284                          first nasty photos arriving\n",
       "1285    engulfed across several cities riot police tur...\n",
       "1286                          another photo clean morning\n",
       "1287                            standing people duranadam\n",
       "1288    world police fire tear gas anti government con...\n",
       "1289                        want justice get sooner later\n",
       "1290    help us spread news helpforhumanrightsinturkey...\n",
       "1291    please tell international media want coverage ...\n",
       "1292    reacts popes remarks called armenian genocide ...\n",
       "1293    justin kam kom gel turkishbelieberswantnewconc...\n",
       "1296                 clashes erdogan says spring bbc news\n",
       "1297                   carries wounded policeman gkhnbykl\n",
       "1298             burning going tour tunisia algeria bravo\n",
       "1299                        guy fawkes masks taksimsquare\n",
       "1300    say av ever happier d month away summer abouttime\n",
       "1301           peacefull protestors attack please go live\n",
       "1302    heavy police presence british nationals avoid ...\n",
       "1303    police teargasing women children cnn bbcworld ...\n",
       "1304    hey calling arrest deportation seems ok attest...\n",
       "1305                            football fans call resign\n",
       "1306                                    wanna go bath lol\n",
       "1307                 made us hamburgers fucking delicious\n",
       "1308    punished well standing seculars alawites israe...\n",
       "1309    set spectacular opening ceremony prime ministe...\n",
       "1310    amazing photo people walking towards d last night\n",
       "1312    apart alternative story bbc london riots wayy ...\n",
       "1313    great photo riot police fire tear gas clashes ...\n",
       "1314                  latest silent standing man inspires\n",
       "Name: clean_text, Length: 1211, dtype: object"
      ]
     },
     "execution_count": 781,
     "metadata": {},
     "output_type": "execute_result"
    }
   ],
   "source": [
    "df_cf_judgments['clean_text'].drop_duplicates()"
   ]
  },
  {
   "cell_type": "code",
   "execution_count": 782,
   "metadata": {},
   "outputs": [],
   "source": [
    "df_cf_judgments = df_cf_judgments[df_cf_judgments['clean_text']!=\" \"]"
   ]
  },
  {
   "cell_type": "code",
   "execution_count": 783,
   "metadata": {},
   "outputs": [],
   "source": [
    "df_cf_judgments = df_cf_judgments[df_cf_judgments['clean_text'].isnull() == False]"
   ]
  },
  {
   "cell_type": "code",
   "execution_count": 784,
   "metadata": {},
   "outputs": [
    {
     "data": {
      "text/plain": [
       "1214"
      ]
     },
     "execution_count": 784,
     "metadata": {},
     "output_type": "execute_result"
    }
   ],
   "source": [
    "len(df_cf_judgments)"
   ]
  },
  {
   "cell_type": "code",
   "execution_count": 785,
   "metadata": {},
   "outputs": [],
   "source": [
    "df_cf_judgments.to_csv('Data/CF_label_confidence_judgments_finalized_clean_text_22_05_2018.csv')"
   ]
  },
  {
   "cell_type": "code",
   "execution_count": 786,
   "metadata": {},
   "outputs": [
    {
     "data": {
      "text/plain": [
       "Index(['Unnamed: 0', '_unit_id', '_golden', '_unit_state_x',\n",
       "       '_trusted_judgments', '_last_judgment_at_x', 'violence_judgment',\n",
       "       'violence', 'violence_confidence', 'protest_judgment_x', 'protest',\n",
       "       'protest_confidence', 'created_at', 'id', 'proccd_text', 'clean_text'],\n",
       "      dtype='object')"
      ]
     },
     "execution_count": 786,
     "metadata": {},
     "output_type": "execute_result"
    }
   ],
   "source": [
    "df_cf_judgments.columns"
   ]
  },
  {
   "cell_type": "code",
   "execution_count": 787,
   "metadata": {
    "scrolled": true
   },
   "outputs": [
    {
     "name": "stdout",
     "output_type": "stream",
     "text": [
      "training set size 607\n",
      "training pos 79\n",
      "training neg 528\n",
      "test set size 607\n",
      "test pos 79\n",
      "test neg 528\n",
      "scores [0.85245902 0.8852459  0.83606557 0.86885246 0.86885246 0.93442623\n",
      " 0.85245902 0.80327869 0.91666667 0.88135593]\n",
      "scores mean 0.8699661943132352\n",
      "scores std 0.07186427405072515\n",
      "cv auc 0.6237893172228616\n",
      "test set auc 0.6987917146144994\n",
      "[[504  24]\n",
      " [ 44  35]]\n",
      "training set size 607\n",
      "training pos 76\n",
      "training neg 531\n",
      "test set size 607\n",
      "test pos 82\n",
      "test neg 525\n",
      "scores [0.91935484 0.8852459  0.8852459  0.81967213 0.90163934 0.75409836\n",
      " 0.96666667 0.9        0.91666667 0.85      ]\n",
      "scores mean 0.8798589811387274\n",
      "scores std 0.11263771084357424\n",
      "cv auc 0.7057686589354742\n",
      "test set auc 0.6678861788617886\n",
      "[[490  35]\n",
      " [ 49  33]]\n",
      "training set size 607\n",
      "training pos 79\n",
      "training neg 528\n",
      "test set size 607\n",
      "test pos 79\n",
      "test neg 528\n",
      "scores [0.8852459  0.85245902 0.95081967 0.85245902 0.90163934 0.85245902\n",
      " 0.91803279 0.85245902 0.85       0.93220339]\n",
      "scores mean 0.8847777160322311\n",
      "scores std 0.07318101081605766\n",
      "cv auc 0.6699870540851554\n",
      "test set auc 0.7064154200230149\n",
      "[[492  36]\n",
      " [ 41  38]]\n",
      "training set size 607\n",
      "training pos 76\n",
      "training neg 531\n",
      "test set size 607\n",
      "test pos 82\n",
      "test neg 525\n",
      "scores [0.88709677 0.85245902 0.91803279 0.86885246 0.90163934 0.83606557\n",
      " 0.88333333 0.91666667 0.86666667 0.86666667]\n",
      "scores mean 0.879747928785475\n",
      "scores std 0.05094546602227918\n",
      "cv auc 0.6550327088908712\n",
      "test set auc 0.6732171893147502\n",
      "[[502  23]\n",
      " [ 50  32]]\n",
      "training set size 607\n",
      "training pos 71\n",
      "training neg 536\n",
      "test set size 607\n",
      "test pos 87\n",
      "test neg 520\n",
      "scores [0.90322581 0.85245902 0.90163934 0.86885246 0.85245902 0.8852459\n",
      " 0.91666667 0.91666667 0.9        0.86666667]\n",
      "scores mean 0.8863881544156531\n",
      "scores std 0.04705349939691407\n",
      "cv auc 0.6423822787471095\n",
      "test set auc 0.6235079575596818\n",
      "[[505  15]\n",
      " [ 63  24]]\n",
      "training set size 607\n",
      "training pos 82\n",
      "training neg 525\n",
      "test set size 607\n",
      "test pos 76\n",
      "test neg 531\n",
      "scores [0.85483871 0.87096774 0.86885246 0.91803279 0.8852459  0.86666667\n",
      " 0.9        0.81666667 0.85       0.9       ]\n",
      "scores mean 0.8731270932487221\n",
      "scores std 0.05560385837497924\n",
      "cv auc 0.65397212543554\n",
      "test set auc 0.6399791852512637\n",
      "[[498  33]\n",
      " [ 50  26]]\n",
      "training set size 607\n",
      "training pos 82\n",
      "training neg 525\n",
      "test set size 607\n",
      "test pos 76\n",
      "test neg 531\n",
      "scores [0.85483871 0.83870968 0.8852459  0.80327869 0.8852459  0.88333333\n",
      " 0.85       0.88333333 0.83333333 0.81666667]\n",
      "scores mean 0.853398554556672\n",
      "scores std 0.05766774483679642\n",
      "cv auc 0.6271080139372823\n",
      "test set auc 0.7048394290811775\n",
      "[[504  27]\n",
      " [ 41  35]]\n",
      "training set size 607\n",
      "training pos 87\n",
      "training neg 520\n",
      "test set size 607\n",
      "test pos 71\n",
      "test neg 536\n",
      "scores [0.85245902 0.83606557 0.91803279 0.85245902 0.7704918  0.91803279\n",
      " 0.90163934 0.9        0.86666667 0.88333333]\n",
      "scores mean 0.8699180327868852\n",
      "scores std 0.08572739527116814\n",
      "cv auc 0.6751878868258179\n",
      "test set auc 0.6847277696026907\n",
      "[[500  36]\n",
      " [ 40  31]]\n",
      "training set size 607\n",
      "training pos 74\n",
      "training neg 533\n",
      "test set size 607\n",
      "test pos 84\n",
      "test neg 523\n",
      "scores [0.88709677 0.87096774 0.85483871 0.8852459  0.86666667 0.86666667\n",
      " 0.93333333 0.9        0.88333333 0.95      ]\n",
      "scores mean 0.8898149127445795\n",
      "scores std 0.05775930018162995\n",
      "cv auc 0.66948937680645\n",
      "test set auc 0.6563666575616863\n",
      "[[506  17]\n",
      " [ 55  29]]\n"
     ]
    }
   ],
   "source": [
    "test_predict_auc_all =[]\n",
    "svm_labels = []\n",
    "\n",
    "for i in range(1,10):\n",
    "    df_X_train, df_X_test, df_y_train, df_y_test = train_test_split(df_cf_judgments.clean_text, \n",
    "                                                    df_cf_judgments.violence, \n",
    "                                                    test_size=0.5)\n",
    "    df_train_df = pd.concat([df_X_train,df_y_train],axis=1)\n",
    "    df_test_df = pd.concat([df_X_test,df_y_test],axis = 1)\n",
    "    print('training set size', len(df_train_df))\n",
    "    print('training pos', len(df_train_df[df_train_df[\"violence\"]==1]))\n",
    "    print('training neg', len(df_train_df[df_train_df[\"violence\"]==0]))\n",
    "    print('test set size', len(df_test_df))\n",
    "    print('test pos', len(df_test_df[df_test_df[\"violence\"]==1]))\n",
    "    print('test neg', len(df_test_df[df_test_df[\"violence\"]==0]))\n",
    "    \n",
    "    df_pipeline_violence_Svc = Pipeline([\n",
    "    ('vectorizer',  CountVectorizer(ngram_range=(1, 2),stop_words='english',  min_df=3)),\n",
    "    ('classifier',  SVC(kernel='linear', probability=True)) ])\n",
    "\n",
    "    \n",
    "    df_scores = cross_val_score(df_pipeline_violence_Svc, df_train_df.clean_text, df_train_df.violence, cv=10)\n",
    "    print('scores',df_scores)\n",
    "    print('scores mean',df_scores.mean())\n",
    "    print('scores std',df_scores.std() * 2)\n",
    "    \n",
    "    df_cv_predict = cross_val_predict(df_pipeline_violence_Svc, df_train_df.clean_text, df_train_df.violence, cv=10)\n",
    "    df_cv_predict_scores = metrics.roc_auc_score(df_train_df.violence, df_cv_predict)\n",
    "    print('cv auc', df_cv_predict_scores)\n",
    "    \n",
    "    df_pipeline_violence_Svc_model = df_pipeline_violence_Svc.fit(df_train_df.clean_text, df_train_df.violence)\n",
    "    df_prediction = df_pipeline_violence_Svc_model.predict(df_test_df.clean_text)\n",
    "    df_predict_prob = df_pipeline_violence_Svc_model.predict_proba(df_test_df.clean_text)\n",
    "    test_predict_auc = metrics.roc_auc_score(df_test_df.violence,df_prediction)\n",
    "    print('test set auc', test_predict_auc)\n",
    "    test_predict_auc_all.append(test_predict_auc)\n",
    "    print(metrics.confusion_matrix(df_test_df.violence,df_prediction))"
   ]
  },
  {
   "cell_type": "code",
   "execution_count": 788,
   "metadata": {},
   "outputs": [
    {
     "name": "stdout",
     "output_type": "stream",
     "text": [
      "avg aucs on tests 0.6728590557633948\n"
     ]
    }
   ],
   "source": [
    "print('avg aucs on tests', np.mean(test_predict_auc_all))"
   ]
  },
  {
   "cell_type": "code",
   "execution_count": 764,
   "metadata": {},
   "outputs": [],
   "source": [
    "#cv = CountVectorizer(ngram_range=(1, 2),stop_words='english',  min_df=3)\n",
    "#cv = cv.fit(df_train_df.clean_text)\n",
    "#svm = SVC(kernel='linear', probability=True)\n",
    "#svm.fit(cv, df_train_df.violence)\n",
    "\n",
    "#svm.support_vectors_"
   ]
  },
  {
   "cell_type": "code",
   "execution_count": 789,
   "metadata": {},
   "outputs": [],
   "source": [
    "svm_test_results_df = pd.DataFrame({'clean_text':df_test_df.clean_text,'violence_prediction':df_prediction,\n",
    "                                    'non_vio_prob':df_predict_prob[:,0],'vio_prob':df_predict_prob[:,1]})"
   ]
  },
  {
   "cell_type": "code",
   "execution_count": 790,
   "metadata": {},
   "outputs": [
    {
     "data": {
      "text/plain": [
       "607"
      ]
     },
     "execution_count": 790,
     "metadata": {},
     "output_type": "execute_result"
    }
   ],
   "source": [
    "len(svm_test_results_df)"
   ]
  },
  {
   "cell_type": "code",
   "execution_count": 791,
   "metadata": {},
   "outputs": [
    {
     "data": {
      "text/plain": [
       "607"
      ]
     },
     "execution_count": 791,
     "metadata": {},
     "output_type": "execute_result"
    }
   ],
   "source": [
    "len(svm_test_results_df.drop_duplicates())"
   ]
  },
  {
   "cell_type": "code",
   "execution_count": 792,
   "metadata": {},
   "outputs": [],
   "source": [
    "svm_test_results_df = svm_test_results_df.drop_duplicates()"
   ]
  },
  {
   "cell_type": "code",
   "execution_count": 793,
   "metadata": {},
   "outputs": [],
   "source": [
    "svm_test_results_df.to_csv('Data/svm_cf_task_results_22_05_2018.csv')"
   ]
  },
  {
   "cell_type": "code",
   "execution_count": 794,
   "metadata": {},
   "outputs": [
    {
     "data": {
      "text/plain": [
       "607"
      ]
     },
     "execution_count": 794,
     "metadata": {},
     "output_type": "execute_result"
    }
   ],
   "source": [
    "len(pd.read_csv('Data/svm_cf_task_results_22_05_2018.csv'))"
   ]
  },
  {
   "cell_type": "code",
   "execution_count": 795,
   "metadata": {},
   "outputs": [],
   "source": [
    "svm_results_CF_judgment_merged = df_cf_judgments.merge(svm_test_results_df,\n",
    "                                                      on='clean_text',\n",
    "                                                      how='right')"
   ]
  },
  {
   "cell_type": "code",
   "execution_count": 796,
   "metadata": {},
   "outputs": [
    {
     "data": {
      "text/plain": [
       "Index(['Unnamed: 0', '_unit_id', '_golden', '_unit_state_x',\n",
       "       '_trusted_judgments', '_last_judgment_at_x', 'violence_judgment',\n",
       "       'violence', 'violence_confidence', 'protest_judgment_x', 'protest',\n",
       "       'protest_confidence', 'created_at', 'id', 'proccd_text', 'clean_text',\n",
       "       'non_vio_prob', 'vio_prob', 'violence_prediction'],\n",
       "      dtype='object')"
      ]
     },
     "execution_count": 796,
     "metadata": {},
     "output_type": "execute_result"
    }
   ],
   "source": [
    "svm_results_CF_judgment_merged.columns"
   ]
  },
  {
   "cell_type": "code",
   "execution_count": 797,
   "metadata": {},
   "outputs": [
    {
     "data": {
      "text/plain": [
       "610"
      ]
     },
     "execution_count": 797,
     "metadata": {},
     "output_type": "execute_result"
    }
   ],
   "source": [
    "len(svm_results_CF_judgment_merged['_unit_id'].drop_duplicates())"
   ]
  },
  {
   "cell_type": "code",
   "execution_count": 798,
   "metadata": {},
   "outputs": [
    {
     "data": {
      "text/plain": [
       "610"
      ]
     },
     "execution_count": 798,
     "metadata": {},
     "output_type": "execute_result"
    }
   ],
   "source": [
    "len(svm_results_CF_judgment_merged.dropna())"
   ]
  },
  {
   "cell_type": "code",
   "execution_count": 799,
   "metadata": {},
   "outputs": [
    {
     "data": {
      "text/plain": [
       "610"
      ]
     },
     "execution_count": 799,
     "metadata": {},
     "output_type": "execute_result"
    }
   ],
   "source": [
    "len(svm_results_CF_judgment_merged.drop_duplicates())"
   ]
  },
  {
   "cell_type": "code",
   "execution_count": 800,
   "metadata": {},
   "outputs": [],
   "source": [
    "svm_results_CF_judgment_merged.to_csv('Data/svm_results_CF_judgment_merged_22_05_2018.csv')"
   ]
  },
  {
   "cell_type": "code",
   "execution_count": 801,
   "metadata": {},
   "outputs": [
    {
     "data": {
      "text/plain": [
       "610"
      ]
     },
     "execution_count": 801,
     "metadata": {},
     "output_type": "execute_result"
    }
   ],
   "source": [
    "len(pd.read_csv('Data/svm_results_CF_judgment_merged_22_05_2018.csv'))"
   ]
  },
  {
   "cell_type": "code",
   "execution_count": 802,
   "metadata": {},
   "outputs": [],
   "source": [
    "svm_results_CF_judgment_merged['violence_confidence'] = svm_results_CF_judgment_merged['violence_confidence'].fillna(0) "
   ]
  },
  {
   "cell_type": "code",
   "execution_count": 803,
   "metadata": {},
   "outputs": [
    {
     "name": "stdout",
     "output_type": "stream",
     "text": [
      "avg CF user confidence on violent tweets 0.7389458823529412\n"
     ]
    }
   ],
   "source": [
    "violent_tweets = svm_results_CF_judgment_merged[svm_results_CF_judgment_merged['violence']==1]\n",
    "\n",
    "print('avg CF user confidence on violent tweets',\n",
    "      np.mean(violent_tweets['violence_confidence']))"
   ]
  },
  {
   "cell_type": "code",
   "execution_count": 804,
   "metadata": {},
   "outputs": [
    {
     "name": "stdout",
     "output_type": "stream",
     "text": [
      "avg CF user protest confidence on violent tweets 0.8969352941176472\n"
     ]
    }
   ],
   "source": [
    "print('avg CF user protest confidence on violent tweets',\n",
    "      np.mean(violent_tweets['protest_confidence']))"
   ]
  },
  {
   "cell_type": "code",
   "execution_count": 805,
   "metadata": {},
   "outputs": [
    {
     "data": {
      "text/plain": [
       "Text(0.5,1,'the user confidence on violent tweets')"
      ]
     },
     "execution_count": 805,
     "metadata": {},
     "output_type": "execute_result"
    },
    {
     "data": {
      "image/png": "[encoded data removed]",
      "text/plain": [
       "<Figure size 432x288 with 1 Axes>"
      ]
     },
     "metadata": {},
     "output_type": "display_data"
    }
   ],
   "source": [
    "plt.hist(violent_tweets['violence_confidence'])\n",
    "plt.title('the user confidence on violent tweets')"
   ]
  },
  {
   "cell_type": "code",
   "execution_count": 806,
   "metadata": {},
   "outputs": [
    {
     "name": "stdout",
     "output_type": "stream",
     "text": [
      "avg CF user confidence on non-violent tweets 0.3362940952380953\n"
     ]
    }
   ],
   "source": [
    "non_violent_tweets = svm_results_CF_judgment_merged[svm_results_CF_judgment_merged['violence']==0]\n",
    "\n",
    "print('avg CF user confidence on non-violent tweets',\n",
    "     np.mean(non_violent_tweets['violence_confidence']))"
   ]
  },
  {
   "cell_type": "code",
   "execution_count": 807,
   "metadata": {},
   "outputs": [
    {
     "name": "stdout",
     "output_type": "stream",
     "text": [
      "avg CF user protest confidence on violent tweets 0.9171401904761904\n"
     ]
    }
   ],
   "source": [
    "print('avg CF user protest confidence on violent tweets',\n",
    "      np.mean(non_violent_tweets['protest_confidence']))"
   ]
  },
  {
   "cell_type": "code",
   "execution_count": 808,
   "metadata": {},
   "outputs": [
    {
     "data": {
      "text/plain": [
       "Text(0.5,1,'the user confidence on non-violent tweets')"
      ]
     },
     "execution_count": 808,
     "metadata": {},
     "output_type": "execute_result"
    },
    {
     "data": {
      "image/png": "[encoded data removed]",
      "text/plain": [
       "<Figure size 432x288 with 1 Axes>"
      ]
     },
     "metadata": {},
     "output_type": "display_data"
    }
   ],
   "source": [
    "plt.hist(non_violent_tweets['violence_confidence'])\n",
    "plt.title('the user confidence on non-violent tweets')"
   ]
  },
  {
   "cell_type": "code",
   "execution_count": 809,
   "metadata": {},
   "outputs": [
    {
     "data": {
      "text/html": [
       "<div>\n",
       "<style scoped>\n",
       "    .dataframe tbody tr th:only-of-type {\n",
       "        vertical-align: middle;\n",
       "    }\n",
       "\n",
       "    .dataframe tbody tr th {\n",
       "        vertical-align: top;\n",
       "    }\n",
       "\n",
       "    .dataframe thead th {\n",
       "        text-align: right;\n",
       "    }\n",
       "</style>\n",
       "<table border=\"1\" class=\"dataframe\">\n",
       "  <thead>\n",
       "    <tr style=\"text-align: right;\">\n",
       "      <th></th>\n",
       "      <th>Unnamed: 0</th>\n",
       "      <th>_unit_id</th>\n",
       "      <th>_golden</th>\n",
       "      <th>_unit_state_x</th>\n",
       "      <th>_trusted_judgments</th>\n",
       "      <th>_last_judgment_at_x</th>\n",
       "      <th>violence_judgment</th>\n",
       "      <th>violence</th>\n",
       "      <th>violence_confidence</th>\n",
       "      <th>protest_judgment_x</th>\n",
       "      <th>protest</th>\n",
       "      <th>protest_confidence</th>\n",
       "      <th>created_at</th>\n",
       "      <th>id</th>\n",
       "      <th>proccd_text</th>\n",
       "      <th>clean_text</th>\n",
       "      <th>non_vio_prob</th>\n",
       "      <th>vio_prob</th>\n",
       "      <th>violence_prediction</th>\n",
       "    </tr>\n",
       "  </thead>\n",
       "  <tbody>\n",
       "    <tr>\n",
       "      <th>9</th>\n",
       "      <td>16</td>\n",
       "      <td>1657977956</td>\n",
       "      <td>False</td>\n",
       "      <td>finalized</td>\n",
       "      <td>3</td>\n",
       "      <td>04/05/18 11:50</td>\n",
       "      <td>\"11\"</td>\n",
       "      <td>1.0</td>\n",
       "      <td>0.6250</td>\n",
       "      <td>\"101\"</td>\n",
       "      <td>1</td>\n",
       "      <td>0.6250</td>\n",
       "      <td>Sun Jun 16 11:41:34 +0000 2013</td>\n",
       "      <td>3.462310e+17</td>\n",
       "      <td>cbs riot police rush to crush renewed turkey p...</td>\n",
       "      <td>cbs riot police rush crush renewed news</td>\n",
       "      <td>0.940054</td>\n",
       "      <td>0.059946</td>\n",
       "      <td>0.0</td>\n",
       "    </tr>\n",
       "    <tr>\n",
       "      <th>23</th>\n",
       "      <td>49</td>\n",
       "      <td>1657977998</td>\n",
       "      <td>False</td>\n",
       "      <td>finalized</td>\n",
       "      <td>3</td>\n",
       "      <td>04/05/18 11:50</td>\n",
       "      <td>\"01\"</td>\n",
       "      <td>1.0</td>\n",
       "      <td>0.3125</td>\n",
       "      <td>\"101\"</td>\n",
       "      <td>1</td>\n",
       "      <td>0.6250</td>\n",
       "      <td>Sun Jun 16 19:34:30 +0000 2013</td>\n",
       "      <td>3.463500e+17</td>\n",
       "      <td>rt usrId #istanbul #protestors holding their g...</td>\n",
       "      <td>protestors holding ground despite organized at...</td>\n",
       "      <td>0.806367</td>\n",
       "      <td>0.193633</td>\n",
       "      <td>0.0</td>\n",
       "    </tr>\n",
       "    <tr>\n",
       "      <th>25</th>\n",
       "      <td>58</td>\n",
       "      <td>1657978009</td>\n",
       "      <td>False</td>\n",
       "      <td>finalized</td>\n",
       "      <td>3</td>\n",
       "      <td>3/30/2018 15:09:17</td>\n",
       "      <td>\"110\"</td>\n",
       "      <td>1.0</td>\n",
       "      <td>0.6581</td>\n",
       "      <td>\"111\"</td>\n",
       "      <td>1</td>\n",
       "      <td>1.0000</td>\n",
       "      <td>Sun Jun 16 10:41:39 +0000 2013</td>\n",
       "      <td>3.462160e+17</td>\n",
       "      <td>rt usrId police detaining the doctors at ramad...</td>\n",
       "      <td>police detaining doctors ramada hotel treating...</td>\n",
       "      <td>0.789181</td>\n",
       "      <td>0.210819</td>\n",
       "      <td>0.0</td>\n",
       "    </tr>\n",
       "    <tr>\n",
       "      <th>27</th>\n",
       "      <td>60</td>\n",
       "      <td>1657978012</td>\n",
       "      <td>False</td>\n",
       "      <td>finalized</td>\n",
       "      <td>3</td>\n",
       "      <td>3/30/2018 15:02:31</td>\n",
       "      <td>\"111\"</td>\n",
       "      <td>1.0</td>\n",
       "      <td>1.0000</td>\n",
       "      <td>\"111\"</td>\n",
       "      <td>1</td>\n",
       "      <td>1.0000</td>\n",
       "      <td>Wed Jun 12 18:49:45 +0000 2013</td>\n",
       "      <td>3.448890e+17</td>\n",
       "      <td>usrId riot police fire water cannon at protest...</td>\n",
       "      <td>riot police fire water cannon protester wheelc...</td>\n",
       "      <td>0.844936</td>\n",
       "      <td>0.155064</td>\n",
       "      <td>0.0</td>\n",
       "    </tr>\n",
       "    <tr>\n",
       "      <th>29</th>\n",
       "      <td>63</td>\n",
       "      <td>1657978015</td>\n",
       "      <td>False</td>\n",
       "      <td>finalized</td>\n",
       "      <td>3</td>\n",
       "      <td>3/30/2018 15:04:47</td>\n",
       "      <td>\"011\"</td>\n",
       "      <td>1.0</td>\n",
       "      <td>0.6594</td>\n",
       "      <td>\"111\"</td>\n",
       "      <td>1</td>\n",
       "      <td>1.0000</td>\n",
       "      <td>Mon Jun 03 17:58:30 +0000 2013</td>\n",
       "      <td>3.416150e+17</td>\n",
       "      <td>rt usrId police chopper circling over crowd of...</td>\n",
       "      <td>police chopper circling crowd tens thousands f...</td>\n",
       "      <td>0.963006</td>\n",
       "      <td>0.036994</td>\n",
       "      <td>0.0</td>\n",
       "    </tr>\n",
       "    <tr>\n",
       "      <th>45</th>\n",
       "      <td>94</td>\n",
       "      <td>1657978052</td>\n",
       "      <td>False</td>\n",
       "      <td>finalized</td>\n",
       "      <td>3</td>\n",
       "      <td>3/30/2018 15:29:27</td>\n",
       "      <td>\"10\"</td>\n",
       "      <td>1.0</td>\n",
       "      <td>0.3388</td>\n",
       "      <td>\"011\"</td>\n",
       "      <td>1</td>\n",
       "      <td>0.6748</td>\n",
       "      <td>Mon Jun 24 10:27:31 +0000 2013</td>\n",
       "      <td>3.491120e+17</td>\n",
       "      <td>rt usrId #simsek says some journalists killed ...</td>\n",
       "      <td>simsek says journalists killed people robbed m...</td>\n",
       "      <td>0.943174</td>\n",
       "      <td>0.056826</td>\n",
       "      <td>0.0</td>\n",
       "    </tr>\n",
       "    <tr>\n",
       "      <th>46</th>\n",
       "      <td>95</td>\n",
       "      <td>1657978053</td>\n",
       "      <td>False</td>\n",
       "      <td>finalized</td>\n",
       "      <td>3</td>\n",
       "      <td>3/30/2018 15:16:10</td>\n",
       "      <td>\"11\"</td>\n",
       "      <td>1.0</td>\n",
       "      <td>0.6640</td>\n",
       "      <td>\"011\"</td>\n",
       "      <td>1</td>\n",
       "      <td>0.6640</td>\n",
       "      <td>Sat Jun 01 18:57:26 +0000 2013</td>\n",
       "      <td>3.409050e+17</td>\n",
       "      <td>bbc news turkish protesters pack taksim square...</td>\n",
       "      <td>bbc news pack square police withdraw</td>\n",
       "      <td>0.545037</td>\n",
       "      <td>0.454963</td>\n",
       "      <td>1.0</td>\n",
       "    </tr>\n",
       "    <tr>\n",
       "      <th>47</th>\n",
       "      <td>96</td>\n",
       "      <td>1657978054</td>\n",
       "      <td>False</td>\n",
       "      <td>finalized</td>\n",
       "      <td>3</td>\n",
       "      <td>3/30/2018 15:24:33</td>\n",
       "      <td>\"11\"</td>\n",
       "      <td>1.0</td>\n",
       "      <td>0.6594</td>\n",
       "      <td>\"011\"</td>\n",
       "      <td>1</td>\n",
       "      <td>0.6594</td>\n",
       "      <td>Tue Jun 11 11:49:37 +0000 2013</td>\n",
       "      <td>3.444210e+17</td>\n",
       "      <td>turkish secret police agents provocateurs infi...</td>\n",
       "      <td>secret police agents provocateurs infiltrating...</td>\n",
       "      <td>0.792744</td>\n",
       "      <td>0.207256</td>\n",
       "      <td>0.0</td>\n",
       "    </tr>\n",
       "    <tr>\n",
       "      <th>87</th>\n",
       "      <td>206</td>\n",
       "      <td>1657978210</td>\n",
       "      <td>False</td>\n",
       "      <td>finalized</td>\n",
       "      <td>3</td>\n",
       "      <td>04/03/18 20:14</td>\n",
       "      <td>\"101\"</td>\n",
       "      <td>1.0</td>\n",
       "      <td>0.6640</td>\n",
       "      <td>\"111\"</td>\n",
       "      <td>1</td>\n",
       "      <td>1.0000</td>\n",
       "      <td>Sun Jun 02 23:08:29 +0000 2013</td>\n",
       "      <td>3.413310e+17</td>\n",
       "      <td>rt usrId 100s arrested in httpAddress protesto...</td>\n",
       "      <td>s arrested protestors locked basketball people...</td>\n",
       "      <td>0.979409</td>\n",
       "      <td>0.020591</td>\n",
       "      <td>0.0</td>\n",
       "    </tr>\n",
       "    <tr>\n",
       "      <th>88</th>\n",
       "      <td>213</td>\n",
       "      <td>1657978229</td>\n",
       "      <td>False</td>\n",
       "      <td>finalized</td>\n",
       "      <td>3</td>\n",
       "      <td>04/03/18 17:15</td>\n",
       "      <td>\"111\"</td>\n",
       "      <td>1.0</td>\n",
       "      <td>1.0000</td>\n",
       "      <td>\"111\"</td>\n",
       "      <td>1</td>\n",
       "      <td>1.0000</td>\n",
       "      <td>Thu Jun 13 17:59:50 +0000 2013</td>\n",
       "      <td>3.452390e+17</td>\n",
       "      <td>rt usrId fashionable to wear gas mask helmet g...</td>\n",
       "      <td>fashionable wear gas mask helmet goggles downt...</td>\n",
       "      <td>0.749047</td>\n",
       "      <td>0.250953</td>\n",
       "      <td>0.0</td>\n",
       "    </tr>\n",
       "    <tr>\n",
       "      <th>101</th>\n",
       "      <td>241</td>\n",
       "      <td>1657978277</td>\n",
       "      <td>False</td>\n",
       "      <td>finalized</td>\n",
       "      <td>3</td>\n",
       "      <td>04/09/18 16:53</td>\n",
       "      <td>\"111\"</td>\n",
       "      <td>1.0</td>\n",
       "      <td>1.0000</td>\n",
       "      <td>\"111\"</td>\n",
       "      <td>1</td>\n",
       "      <td>1.0000</td>\n",
       "      <td>Sun Jun 02 16:33:12 +0000 2013</td>\n",
       "      <td>3.412310e+17</td>\n",
       "      <td>rt usrId cnn turk vs cnn the media blackout in...</td>\n",
       "      <td>cnn turk vs cnn media blackout dear carl pleas...</td>\n",
       "      <td>0.973676</td>\n",
       "      <td>0.026324</td>\n",
       "      <td>0.0</td>\n",
       "    </tr>\n",
       "    <tr>\n",
       "      <th>107</th>\n",
       "      <td>258</td>\n",
       "      <td>1657978312</td>\n",
       "      <td>False</td>\n",
       "      <td>finalized</td>\n",
       "      <td>3</td>\n",
       "      <td>04/06/18 12:54</td>\n",
       "      <td>\"101\"</td>\n",
       "      <td>1.0</td>\n",
       "      <td>0.6666</td>\n",
       "      <td>\"111\"</td>\n",
       "      <td>1</td>\n",
       "      <td>1.0000</td>\n",
       "      <td>Sat Jun 15 18:17:11 +0000 2013</td>\n",
       "      <td>3.459680e+17</td>\n",
       "      <td>heavy attack on gezi park right httpAddress po...</td>\n",
       "      <td>heavy attack right police cleared square heading</td>\n",
       "      <td>0.889573</td>\n",
       "      <td>0.110427</td>\n",
       "      <td>0.0</td>\n",
       "    </tr>\n",
       "    <tr>\n",
       "      <th>120</th>\n",
       "      <td>290</td>\n",
       "      <td>1657978372</td>\n",
       "      <td>False</td>\n",
       "      <td>finalized</td>\n",
       "      <td>3</td>\n",
       "      <td>04/04/18 09:01</td>\n",
       "      <td>\"01\"</td>\n",
       "      <td>1.0</td>\n",
       "      <td>0.3342</td>\n",
       "      <td>\"110\"</td>\n",
       "      <td>1</td>\n",
       "      <td>0.6658</td>\n",
       "      <td>Fri May 31 15:46:23 +0000 2013</td>\n",
       "      <td>3.404940e+17</td>\n",
       "      <td>rt usrId after a day of ignoring protests and ...</td>\n",
       "      <td>day ignoring police violence every major chann...</td>\n",
       "      <td>0.456935</td>\n",
       "      <td>0.543065</td>\n",
       "      <td>1.0</td>\n",
       "    </tr>\n",
       "    <tr>\n",
       "      <th>123</th>\n",
       "      <td>295</td>\n",
       "      <td>1657978379</td>\n",
       "      <td>False</td>\n",
       "      <td>finalized</td>\n",
       "      <td>3</td>\n",
       "      <td>04/06/18 14:35</td>\n",
       "      <td>\"011\"</td>\n",
       "      <td>1.0</td>\n",
       "      <td>0.6666</td>\n",
       "      <td>\"111\"</td>\n",
       "      <td>1</td>\n",
       "      <td>1.0000</td>\n",
       "      <td>Sat Jun 08 22:25:14 +0000 2013</td>\n",
       "      <td>3.434940e+17</td>\n",
       "      <td>rt usrId had to spray my eyes with malox httpA...</td>\n",
       "      <td>spray eyes malox standing fire smoke helps tea...</td>\n",
       "      <td>0.963496</td>\n",
       "      <td>0.036504</td>\n",
       "      <td>0.0</td>\n",
       "    </tr>\n",
       "    <tr>\n",
       "      <th>126</th>\n",
       "      <td>301</td>\n",
       "      <td>1657978385</td>\n",
       "      <td>False</td>\n",
       "      <td>finalized</td>\n",
       "      <td>3</td>\n",
       "      <td>04/03/18 17:11</td>\n",
       "      <td>\"111\"</td>\n",
       "      <td>1.0</td>\n",
       "      <td>1.0000</td>\n",
       "      <td>\"111\"</td>\n",
       "      <td>1</td>\n",
       "      <td>1.0000</td>\n",
       "      <td>Sun Jun 02 08:18:36 +0000 2013</td>\n",
       "      <td>3.411070e+17</td>\n",
       "      <td>rt usrId people helping out street animals aff...</td>\n",
       "      <td>people helping street animals affected tear st...</td>\n",
       "      <td>0.109076</td>\n",
       "      <td>0.890924</td>\n",
       "      <td>1.0</td>\n",
       "    </tr>\n",
       "    <tr>\n",
       "      <th>133</th>\n",
       "      <td>311</td>\n",
       "      <td>1657978402</td>\n",
       "      <td>False</td>\n",
       "      <td>finalized</td>\n",
       "      <td>3</td>\n",
       "      <td>4/14/2018 05:48:51</td>\n",
       "      <td>\"11\"</td>\n",
       "      <td>1.0</td>\n",
       "      <td>0.6667</td>\n",
       "      <td>\"110\"</td>\n",
       "      <td>1</td>\n",
       "      <td>0.6667</td>\n",
       "      <td>Sat Jun 01 07:38:20 +0000 2013</td>\n",
       "      <td>3.407340e+17</td>\n",
       "      <td>rt usrId a shopping mall opened its doors to p...</td>\n",
       "      <td>shopping mall opened doors people running away...</td>\n",
       "      <td>0.909777</td>\n",
       "      <td>0.090223</td>\n",
       "      <td>0.0</td>\n",
       "    </tr>\n",
       "    <tr>\n",
       "      <th>134</th>\n",
       "      <td>314</td>\n",
       "      <td>1657978406</td>\n",
       "      <td>False</td>\n",
       "      <td>finalized</td>\n",
       "      <td>3</td>\n",
       "      <td>04/03/18 21:18</td>\n",
       "      <td>\"011\"</td>\n",
       "      <td>1.0</td>\n",
       "      <td>0.6594</td>\n",
       "      <td>\"111\"</td>\n",
       "      <td>1</td>\n",
       "      <td>1.0000</td>\n",
       "      <td>Fri May 31 21:09:42 +0000 2013</td>\n",
       "      <td>3.405760e+17</td>\n",
       "      <td>rt usrId this old man lost an ear #occupygezi ...</td>\n",
       "      <td>old man lost ear police allow ambulance move</td>\n",
       "      <td>0.663765</td>\n",
       "      <td>0.336235</td>\n",
       "      <td>1.0</td>\n",
       "    </tr>\n",
       "    <tr>\n",
       "      <th>143</th>\n",
       "      <td>326</td>\n",
       "      <td>1657978429</td>\n",
       "      <td>False</td>\n",
       "      <td>finalized</td>\n",
       "      <td>3</td>\n",
       "      <td>04/07/18 15:51</td>\n",
       "      <td>\"101\"</td>\n",
       "      <td>1.0</td>\n",
       "      <td>0.6667</td>\n",
       "      <td>\"111\"</td>\n",
       "      <td>1</td>\n",
       "      <td>1.0000</td>\n",
       "      <td>Sat Jun 01 07:40:14 +0000 2013</td>\n",
       "      <td>3.407350e+17</td>\n",
       "      <td>rt usrId already had our morning dose of tear ...</td>\n",
       "      <td>already morning dose tear good morning riot po...</td>\n",
       "      <td>0.880605</td>\n",
       "      <td>0.119395</td>\n",
       "      <td>0.0</td>\n",
       "    </tr>\n",
       "    <tr>\n",
       "      <th>147</th>\n",
       "      <td>338</td>\n",
       "      <td>1657978444</td>\n",
       "      <td>False</td>\n",
       "      <td>finalized</td>\n",
       "      <td>3</td>\n",
       "      <td>04/06/18 13:28</td>\n",
       "      <td>\"101\"</td>\n",
       "      <td>1.0</td>\n",
       "      <td>0.6666</td>\n",
       "      <td>\"111\"</td>\n",
       "      <td>1</td>\n",
       "      <td>1.0000</td>\n",
       "      <td>Fri May 31 23:34:05 +0000 2013</td>\n",
       "      <td>3.406120e+17</td>\n",
       "      <td>rt usrId shocking scenes of brutality from tur...</td>\n",
       "      <td>shocking scenes brutality people standing tyranny</td>\n",
       "      <td>0.944383</td>\n",
       "      <td>0.055617</td>\n",
       "      <td>0.0</td>\n",
       "    </tr>\n",
       "    <tr>\n",
       "      <th>149</th>\n",
       "      <td>341</td>\n",
       "      <td>1657978453</td>\n",
       "      <td>False</td>\n",
       "      <td>finalized</td>\n",
       "      <td>3</td>\n",
       "      <td>04/06/18 14:07</td>\n",
       "      <td>\"111\"</td>\n",
       "      <td>1.0</td>\n",
       "      <td>1.0000</td>\n",
       "      <td>\"111\"</td>\n",
       "      <td>1</td>\n",
       "      <td>1.0000</td>\n",
       "      <td>Sat Jun 15 23:04:02 +0000 2013</td>\n",
       "      <td>3.460400e+17</td>\n",
       "      <td>rt usrId rt usrId #taksim solidarity platform ...</td>\n",
       "      <td>solidarity platform police uses extensive rubb...</td>\n",
       "      <td>0.689397</td>\n",
       "      <td>0.310603</td>\n",
       "      <td>0.0</td>\n",
       "    </tr>\n",
       "    <tr>\n",
       "      <th>166</th>\n",
       "      <td>381</td>\n",
       "      <td>1657978513</td>\n",
       "      <td>False</td>\n",
       "      <td>finalized</td>\n",
       "      <td>3</td>\n",
       "      <td>04/07/18 17:04</td>\n",
       "      <td>\"11\"</td>\n",
       "      <td>1.0</td>\n",
       "      <td>0.6667</td>\n",
       "      <td>\"011\"</td>\n",
       "      <td>1</td>\n",
       "      <td>0.6667</td>\n",
       "      <td>Sat Jun 01 08:03:22 +0000 2013</td>\n",
       "      <td>3.407400e+17</td>\n",
       "      <td>rt usrId having spent afternoon around taksim ...</td>\n",
       "      <td>spent afternoon around police behavior worse a...</td>\n",
       "      <td>0.748892</td>\n",
       "      <td>0.251108</td>\n",
       "      <td>0.0</td>\n",
       "    </tr>\n",
       "    <tr>\n",
       "      <th>192</th>\n",
       "      <td>426</td>\n",
       "      <td>1657978594</td>\n",
       "      <td>False</td>\n",
       "      <td>finalized</td>\n",
       "      <td>3</td>\n",
       "      <td>04/03/18 17:51</td>\n",
       "      <td>\"110\"</td>\n",
       "      <td>1.0</td>\n",
       "      <td>0.6612</td>\n",
       "      <td>\"111\"</td>\n",
       "      <td>1</td>\n",
       "      <td>1.0000</td>\n",
       "      <td>Tue Jun 04 15:05:24 +0000 2013</td>\n",
       "      <td>3.419340e+17</td>\n",
       "      <td>turkey deputy pm sorry for excessive force htt...</td>\n",
       "      <td>deputy sorry excessive force truth freedom</td>\n",
       "      <td>0.952292</td>\n",
       "      <td>0.047708</td>\n",
       "      <td>0.0</td>\n",
       "    </tr>\n",
       "    <tr>\n",
       "      <th>200</th>\n",
       "      <td>451</td>\n",
       "      <td>1657978640</td>\n",
       "      <td>False</td>\n",
       "      <td>finalized</td>\n",
       "      <td>3</td>\n",
       "      <td>4/24/2018 20:23:09</td>\n",
       "      <td>\"11\"</td>\n",
       "      <td>1.0</td>\n",
       "      <td>0.6667</td>\n",
       "      <td>\"011\"</td>\n",
       "      <td>1</td>\n",
       "      <td>0.6667</td>\n",
       "      <td>Tue Jun 18 09:12:04 +0000 2013</td>\n",
       "      <td>3.469180e+17</td>\n",
       "      <td>rt usrId timeline of events in #turkey police ...</td>\n",
       "      <td>timeline events police escalate attacks health...</td>\n",
       "      <td>0.837015</td>\n",
       "      <td>0.162985</td>\n",
       "      <td>0.0</td>\n",
       "    </tr>\n",
       "    <tr>\n",
       "      <th>216</th>\n",
       "      <td>479</td>\n",
       "      <td>1657978700</td>\n",
       "      <td>False</td>\n",
       "      <td>finalized</td>\n",
       "      <td>3</td>\n",
       "      <td>04/03/18 19:14</td>\n",
       "      <td>\"111\"</td>\n",
       "      <td>1.0</td>\n",
       "      <td>1.0000</td>\n",
       "      <td>\"111\"</td>\n",
       "      <td>1</td>\n",
       "      <td>1.0000</td>\n",
       "      <td>Sat Jun 01 23:40:07 +0000 2013</td>\n",
       "      <td>3.409760e+17</td>\n",
       "      <td>rt usrId chemicals are used people throwing up...</td>\n",
       "      <td>chemicals used people throwing bleeding everyw...</td>\n",
       "      <td>0.805359</td>\n",
       "      <td>0.194641</td>\n",
       "      <td>0.0</td>\n",
       "    </tr>\n",
       "    <tr>\n",
       "      <th>228</th>\n",
       "      <td>504</td>\n",
       "      <td>1657978747</td>\n",
       "      <td>False</td>\n",
       "      <td>finalized</td>\n",
       "      <td>3</td>\n",
       "      <td>4/24/2018 20:23:09</td>\n",
       "      <td>\"11\"</td>\n",
       "      <td>1.0</td>\n",
       "      <td>0.6667</td>\n",
       "      <td>\"011\"</td>\n",
       "      <td>1</td>\n",
       "      <td>0.6667</td>\n",
       "      <td>Thu Jun 06 10:27:27 +0000 2013</td>\n",
       "      <td>3.425890e+17</td>\n",
       "      <td>rt usrId the woman in red being sprayed by tea...</td>\n",
       "      <td>woman red sprayed tear gas iconic photo academ...</td>\n",
       "      <td>0.453820</td>\n",
       "      <td>0.546180</td>\n",
       "      <td>1.0</td>\n",
       "    </tr>\n",
       "    <tr>\n",
       "      <th>234</th>\n",
       "      <td>518</td>\n",
       "      <td>1657978772</td>\n",
       "      <td>False</td>\n",
       "      <td>finalized</td>\n",
       "      <td>3</td>\n",
       "      <td>04/03/18 17:33</td>\n",
       "      <td>\"111\"</td>\n",
       "      <td>1.0</td>\n",
       "      <td>1.0000</td>\n",
       "      <td>\"111\"</td>\n",
       "      <td>1</td>\n",
       "      <td>1.0000</td>\n",
       "      <td>Sat Jun 01 18:38:07 +0000 2013</td>\n",
       "      <td>3.409000e+17</td>\n",
       "      <td>rt usrId cnn report police crackdown triggers ...</td>\n",
       "      <td>cnn report police crackdown triggers anti gove...</td>\n",
       "      <td>0.486306</td>\n",
       "      <td>0.513694</td>\n",
       "      <td>1.0</td>\n",
       "    </tr>\n",
       "    <tr>\n",
       "      <th>238</th>\n",
       "      <td>529</td>\n",
       "      <td>1657978789</td>\n",
       "      <td>False</td>\n",
       "      <td>finalized</td>\n",
       "      <td>3</td>\n",
       "      <td>04/03/18 21:53</td>\n",
       "      <td>\"101\"</td>\n",
       "      <td>1.0</td>\n",
       "      <td>0.6594</td>\n",
       "      <td>\"111\"</td>\n",
       "      <td>1</td>\n",
       "      <td>1.0000</td>\n",
       "      <td>Wed Jun 05 18:52:46 +0000 2013</td>\n",
       "      <td>3.423530e+17</td>\n",
       "      <td>rt usrId httpAddress who took it ? mt usrId am...</td>\n",
       "      <td>took mt amazing picture man wearing gas mask t...</td>\n",
       "      <td>0.915523</td>\n",
       "      <td>0.084477</td>\n",
       "      <td>0.0</td>\n",
       "    </tr>\n",
       "    <tr>\n",
       "      <th>252</th>\n",
       "      <td>564</td>\n",
       "      <td>1657978844</td>\n",
       "      <td>False</td>\n",
       "      <td>finalized</td>\n",
       "      <td>3</td>\n",
       "      <td>04/09/18 20:32</td>\n",
       "      <td>\"111\"</td>\n",
       "      <td>1.0</td>\n",
       "      <td>1.0000</td>\n",
       "      <td>\"111\"</td>\n",
       "      <td>1</td>\n",
       "      <td>1.0000</td>\n",
       "      <td>Sat Jun 15 18:50:55 +0000 2013</td>\n",
       "      <td>3.459770e+17</td>\n",
       "      <td>rt usrId photo #gezipark in panic as httpAddre...</td>\n",
       "      <td>photo gezipark panic used clear riot police</td>\n",
       "      <td>0.856507</td>\n",
       "      <td>0.143493</td>\n",
       "      <td>0.0</td>\n",
       "    </tr>\n",
       "    <tr>\n",
       "      <th>265</th>\n",
       "      <td>593</td>\n",
       "      <td>1657978895</td>\n",
       "      <td>False</td>\n",
       "      <td>finalized</td>\n",
       "      <td>3</td>\n",
       "      <td>04/03/18 19:51</td>\n",
       "      <td>\"110\"</td>\n",
       "      <td>1.0</td>\n",
       "      <td>0.6570</td>\n",
       "      <td>\"111\"</td>\n",
       "      <td>1</td>\n",
       "      <td>1.0000</td>\n",
       "      <td>Tue Jun 11 17:37:43 +0000 2013</td>\n",
       "      <td>3.445090e+17</td>\n",
       "      <td>rt usrId massive tear gas clouds fill istanbul...</td>\n",
       "      <td>massive tear gas clouds fill square riot polic...</td>\n",
       "      <td>0.766279</td>\n",
       "      <td>0.233721</td>\n",
       "      <td>0.0</td>\n",
       "    </tr>\n",
       "    <tr>\n",
       "      <th>275</th>\n",
       "      <td>612</td>\n",
       "      <td>1657978935</td>\n",
       "      <td>False</td>\n",
       "      <td>finalized</td>\n",
       "      <td>3</td>\n",
       "      <td>4/23/2018 09:37:26</td>\n",
       "      <td>\"111\"</td>\n",
       "      <td>1.0</td>\n",
       "      <td>1.0000</td>\n",
       "      <td>\"111\"</td>\n",
       "      <td>1</td>\n",
       "      <td>1.0000</td>\n",
       "      <td>Sat Jun 01 01:24:31 +0000 2013</td>\n",
       "      <td>3.406400e+17</td>\n",
       "      <td>rt usrId police attacked a nearby military bar...</td>\n",
       "      <td>police attacked nearby military barracks stop ...</td>\n",
       "      <td>0.538436</td>\n",
       "      <td>0.461564</td>\n",
       "      <td>1.0</td>\n",
       "    </tr>\n",
       "    <tr>\n",
       "      <th>...</th>\n",
       "      <td>...</td>\n",
       "      <td>...</td>\n",
       "      <td>...</td>\n",
       "      <td>...</td>\n",
       "      <td>...</td>\n",
       "      <td>...</td>\n",
       "      <td>...</td>\n",
       "      <td>...</td>\n",
       "      <td>...</td>\n",
       "      <td>...</td>\n",
       "      <td>...</td>\n",
       "      <td>...</td>\n",
       "      <td>...</td>\n",
       "      <td>...</td>\n",
       "      <td>...</td>\n",
       "      <td>...</td>\n",
       "      <td>...</td>\n",
       "      <td>...</td>\n",
       "      <td>...</td>\n",
       "    </tr>\n",
       "    <tr>\n",
       "      <th>434</th>\n",
       "      <td>925</td>\n",
       "      <td>1657979501</td>\n",
       "      <td>False</td>\n",
       "      <td>finalized</td>\n",
       "      <td>3</td>\n",
       "      <td>04/07/18 17:12</td>\n",
       "      <td>\"111\"</td>\n",
       "      <td>1.0</td>\n",
       "      <td>1.0000</td>\n",
       "      <td>\"111\"</td>\n",
       "      <td>1</td>\n",
       "      <td>1.0000</td>\n",
       "      <td>Sat Jun 01 18:02:30 +0000 2013</td>\n",
       "      <td>3.408910e+17</td>\n",
       "      <td>rt usrId police doesn t discern between demons...</td>\n",
       "      <td>police discern demonstrators spectators people...</td>\n",
       "      <td>0.605319</td>\n",
       "      <td>0.394681</td>\n",
       "      <td>1.0</td>\n",
       "    </tr>\n",
       "    <tr>\n",
       "      <th>436</th>\n",
       "      <td>931</td>\n",
       "      <td>1657979509</td>\n",
       "      <td>False</td>\n",
       "      <td>finalized</td>\n",
       "      <td>3</td>\n",
       "      <td>04/04/18 09:21</td>\n",
       "      <td>\"011\"</td>\n",
       "      <td>1.0</td>\n",
       "      <td>0.6684</td>\n",
       "      <td>\"111\"</td>\n",
       "      <td>1</td>\n",
       "      <td>1.0000</td>\n",
       "      <td>Fri May 31 23:38:37 +0000 2013</td>\n",
       "      <td>3.406130e+17</td>\n",
       "      <td>rt usrId this is the evidence of the police ht...</td>\n",
       "      <td>evidence police ran panzer taksimgezipark dire...</td>\n",
       "      <td>0.835714</td>\n",
       "      <td>0.164286</td>\n",
       "      <td>0.0</td>\n",
       "    </tr>\n",
       "    <tr>\n",
       "      <th>439</th>\n",
       "      <td>940</td>\n",
       "      <td>1657979523</td>\n",
       "      <td>False</td>\n",
       "      <td>finalized</td>\n",
       "      <td>3</td>\n",
       "      <td>04/07/18 17:10</td>\n",
       "      <td>\"111\"</td>\n",
       "      <td>1.0</td>\n",
       "      <td>1.0000</td>\n",
       "      <td>\"111\"</td>\n",
       "      <td>1</td>\n",
       "      <td>1.0000</td>\n",
       "      <td>Tue Jun 04 00:33:08 +0000 2013</td>\n",
       "      <td>3.417140e+17</td>\n",
       "      <td>there are so many things going on in the world...</td>\n",
       "      <td>many things going world year old shot bullet k...</td>\n",
       "      <td>0.400992</td>\n",
       "      <td>0.599008</td>\n",
       "      <td>1.0</td>\n",
       "    </tr>\n",
       "    <tr>\n",
       "      <th>440</th>\n",
       "      <td>942</td>\n",
       "      <td>1657979525</td>\n",
       "      <td>False</td>\n",
       "      <td>finalized</td>\n",
       "      <td>3</td>\n",
       "      <td>04/03/18 17:04</td>\n",
       "      <td>\"111\"</td>\n",
       "      <td>1.0</td>\n",
       "      <td>1.0000</td>\n",
       "      <td>\"111\"</td>\n",
       "      <td>1</td>\n",
       "      <td>1.0000</td>\n",
       "      <td>Mon Jun 03 18:52:03 +0000 2013</td>\n",
       "      <td>3.416280e+17</td>\n",
       "      <td>rt usrId #turkey police are firing tear gas gr...</td>\n",
       "      <td>police firing tear gas grenades straight crowd...</td>\n",
       "      <td>0.687115</td>\n",
       "      <td>0.312885</td>\n",
       "      <td>0.0</td>\n",
       "    </tr>\n",
       "    <tr>\n",
       "      <th>444</th>\n",
       "      <td>951</td>\n",
       "      <td>1657979542</td>\n",
       "      <td>False</td>\n",
       "      <td>finalized</td>\n",
       "      <td>3</td>\n",
       "      <td>04/07/18 17:10</td>\n",
       "      <td>\"01\"</td>\n",
       "      <td>1.0</td>\n",
       "      <td>0.3333</td>\n",
       "      <td>\"011\"</td>\n",
       "      <td>1</td>\n",
       "      <td>0.6667</td>\n",
       "      <td>Tue Jun 11 17:28:08 +0000 2013</td>\n",
       "      <td>3.445060e+17</td>\n",
       "      <td>#stopgeziattack lawyers arrested today in turk...</td>\n",
       "      <td>stopgeziattack lawyers arrested today word wat...</td>\n",
       "      <td>0.995335</td>\n",
       "      <td>0.004665</td>\n",
       "      <td>0.0</td>\n",
       "    </tr>\n",
       "    <tr>\n",
       "      <th>459</th>\n",
       "      <td>974</td>\n",
       "      <td>1657979585</td>\n",
       "      <td>False</td>\n",
       "      <td>finalized</td>\n",
       "      <td>3</td>\n",
       "      <td>04/03/18 18:19</td>\n",
       "      <td>\"11\"</td>\n",
       "      <td>1.0</td>\n",
       "      <td>0.6721</td>\n",
       "      <td>\"011\"</td>\n",
       "      <td>1</td>\n",
       "      <td>0.6721</td>\n",
       "      <td>Tue Jun 11 18:02:25 +0000 2013</td>\n",
       "      <td>3.445150e+17</td>\n",
       "      <td>rt usrId several reports that police attacked ...</td>\n",
       "      <td>several reports police attacked disabled perso...</td>\n",
       "      <td>0.486532</td>\n",
       "      <td>0.513468</td>\n",
       "      <td>1.0</td>\n",
       "    </tr>\n",
       "    <tr>\n",
       "      <th>466</th>\n",
       "      <td>996</td>\n",
       "      <td>1657979625</td>\n",
       "      <td>False</td>\n",
       "      <td>finalized</td>\n",
       "      <td>3</td>\n",
       "      <td>04/03/18 18:47</td>\n",
       "      <td>\"111\"</td>\n",
       "      <td>1.0</td>\n",
       "      <td>1.0000</td>\n",
       "      <td>\"111\"</td>\n",
       "      <td>1</td>\n",
       "      <td>1.0000</td>\n",
       "      <td>Sat Jun 01 11:50:38 +0000 2013</td>\n",
       "      <td>3.407980e+17</td>\n",
       "      <td>usrId usrId many people are exposed to violanc...</td>\n",
       "      <td>many people exposed violance since dictatorshi...</td>\n",
       "      <td>0.940790</td>\n",
       "      <td>0.059210</td>\n",
       "      <td>0.0</td>\n",
       "    </tr>\n",
       "    <tr>\n",
       "      <th>472</th>\n",
       "      <td>1007</td>\n",
       "      <td>1657979644</td>\n",
       "      <td>False</td>\n",
       "      <td>finalized</td>\n",
       "      <td>3</td>\n",
       "      <td>04/08/18 21:50</td>\n",
       "      <td>\"10\"</td>\n",
       "      <td>1.0</td>\n",
       "      <td>0.3333</td>\n",
       "      <td>\"011\"</td>\n",
       "      <td>1</td>\n",
       "      <td>0.6667</td>\n",
       "      <td>Tue Jun 11 15:13:51 +0000 2013</td>\n",
       "      <td>3.444730e+17</td>\n",
       "      <td>rt usrId a pic from infirmary at taksim httpAd...</td>\n",
       "      <td>pic infirmary occupyturkey stopthisviolence</td>\n",
       "      <td>0.861437</td>\n",
       "      <td>0.138563</td>\n",
       "      <td>0.0</td>\n",
       "    </tr>\n",
       "    <tr>\n",
       "      <th>483</th>\n",
       "      <td>1031</td>\n",
       "      <td>1657979694</td>\n",
       "      <td>False</td>\n",
       "      <td>finalized</td>\n",
       "      <td>3</td>\n",
       "      <td>04/06/18 13:45</td>\n",
       "      <td>\"10\"</td>\n",
       "      <td>1.0</td>\n",
       "      <td>0.3361</td>\n",
       "      <td>\"110\"</td>\n",
       "      <td>1</td>\n",
       "      <td>0.6695</td>\n",
       "      <td>Mon Jun 03 18:25:39 +0000 2013</td>\n",
       "      <td>3.416220e+17</td>\n",
       "      <td>rt usrId gas seems to have dispersed from taks...</td>\n",
       "      <td>gas seems dispersed sad</td>\n",
       "      <td>0.926375</td>\n",
       "      <td>0.073625</td>\n",
       "      <td>0.0</td>\n",
       "    </tr>\n",
       "    <tr>\n",
       "      <th>488</th>\n",
       "      <td>1039</td>\n",
       "      <td>1657979707</td>\n",
       "      <td>False</td>\n",
       "      <td>finalized</td>\n",
       "      <td>3</td>\n",
       "      <td>04/03/18 21:27</td>\n",
       "      <td>\"111\"</td>\n",
       "      <td>1.0</td>\n",
       "      <td>1.0000</td>\n",
       "      <td>\"111\"</td>\n",
       "      <td>1</td>\n",
       "      <td>1.0000</td>\n",
       "      <td>Sat Jun 01 18:41:09 +0000 2013</td>\n",
       "      <td>3.409010e+17</td>\n",
       "      <td>the events that occured in turkey yesterday ar...</td>\n",
       "      <td>events occured yesterday horrifying sad televi...</td>\n",
       "      <td>0.948522</td>\n",
       "      <td>0.051478</td>\n",
       "      <td>0.0</td>\n",
       "    </tr>\n",
       "    <tr>\n",
       "      <th>489</th>\n",
       "      <td>1040</td>\n",
       "      <td>1657979708</td>\n",
       "      <td>False</td>\n",
       "      <td>finalized</td>\n",
       "      <td>3</td>\n",
       "      <td>04/03/18 18:39</td>\n",
       "      <td>\"101\"</td>\n",
       "      <td>1.0</td>\n",
       "      <td>0.6612</td>\n",
       "      <td>\"111\"</td>\n",
       "      <td>1</td>\n",
       "      <td>1.0000</td>\n",
       "      <td>Fri May 31 19:26:17 +0000 2013</td>\n",
       "      <td>3.405500e+17</td>\n",
       "      <td>rt usrId usrId usrId usrId animals are dying f...</td>\n",
       "      <td>animals dying police brutality wanted proctect...</td>\n",
       "      <td>0.913478</td>\n",
       "      <td>0.086522</td>\n",
       "      <td>0.0</td>\n",
       "    </tr>\n",
       "    <tr>\n",
       "      <th>492</th>\n",
       "      <td>1048</td>\n",
       "      <td>1657979720</td>\n",
       "      <td>False</td>\n",
       "      <td>finalized</td>\n",
       "      <td>3</td>\n",
       "      <td>04/03/18 22:25</td>\n",
       "      <td>\"11\"</td>\n",
       "      <td>1.0</td>\n",
       "      <td>0.6658</td>\n",
       "      <td>\"110\"</td>\n",
       "      <td>1</td>\n",
       "      <td>0.6658</td>\n",
       "      <td>Fri May 31 20:33:35 +0000 2013</td>\n",
       "      <td>3.405670e+17</td>\n",
       "      <td>rt usrId hooray ! the turks are firing america...</td>\n",
       "      <td>hooray turks firing american made tear gas v</td>\n",
       "      <td>0.834295</td>\n",
       "      <td>0.165705</td>\n",
       "      <td>0.0</td>\n",
       "    </tr>\n",
       "    <tr>\n",
       "      <th>494</th>\n",
       "      <td>1051</td>\n",
       "      <td>1657979727</td>\n",
       "      <td>False</td>\n",
       "      <td>finalized</td>\n",
       "      <td>3</td>\n",
       "      <td>04/03/18 22:25</td>\n",
       "      <td>\"11\"</td>\n",
       "      <td>1.0</td>\n",
       "      <td>0.6640</td>\n",
       "      <td>\"110\"</td>\n",
       "      <td>1</td>\n",
       "      <td>0.6640</td>\n",
       "      <td>Fri May 31 23:42:01 +0000 2013</td>\n",
       "      <td>3.406140e+17</td>\n",
       "      <td>rt usrId in turkey gov uses good old dictatori...</td>\n",
       "      <td>gov uses good old dictatorial methods shut loc...</td>\n",
       "      <td>0.755945</td>\n",
       "      <td>0.244055</td>\n",
       "      <td>0.0</td>\n",
       "    </tr>\n",
       "    <tr>\n",
       "      <th>497</th>\n",
       "      <td>1057</td>\n",
       "      <td>1657979737</td>\n",
       "      <td>False</td>\n",
       "      <td>finalized</td>\n",
       "      <td>3</td>\n",
       "      <td>04/03/18 17:54</td>\n",
       "      <td>\"111\"</td>\n",
       "      <td>1.0</td>\n",
       "      <td>1.0000</td>\n",
       "      <td>\"111\"</td>\n",
       "      <td>1</td>\n",
       "      <td>1.0000</td>\n",
       "      <td>Sat Jun 22 23:50:05 +0000 2013</td>\n",
       "      <td>3.485890e+17</td>\n",
       "      <td>rt usrId polices are using plastic bullets ! l...</td>\n",
       "      <td>polices using plastic bullets look capulculart...</td>\n",
       "      <td>0.959114</td>\n",
       "      <td>0.040886</td>\n",
       "      <td>0.0</td>\n",
       "    </tr>\n",
       "    <tr>\n",
       "      <th>511</th>\n",
       "      <td>1090</td>\n",
       "      <td>1657979789</td>\n",
       "      <td>False</td>\n",
       "      <td>finalized</td>\n",
       "      <td>3</td>\n",
       "      <td>04/06/18 12:09</td>\n",
       "      <td>\"11\"</td>\n",
       "      <td>1.0</td>\n",
       "      <td>0.6677</td>\n",
       "      <td>\"110\"</td>\n",
       "      <td>1</td>\n",
       "      <td>0.6677</td>\n",
       "      <td>Wed Jun 05 07:17:44 +0000 2013</td>\n",
       "      <td>3.421780e+17</td>\n",
       "      <td>rt usrId another proof showing that akp s yout...</td>\n",
       "      <td>another proof showing akp youth streets sticks...</td>\n",
       "      <td>0.935100</td>\n",
       "      <td>0.064900</td>\n",
       "      <td>0.0</td>\n",
       "    </tr>\n",
       "    <tr>\n",
       "      <th>517</th>\n",
       "      <td>1101</td>\n",
       "      <td>1657979809</td>\n",
       "      <td>False</td>\n",
       "      <td>finalized</td>\n",
       "      <td>3</td>\n",
       "      <td>04/05/18 13:14</td>\n",
       "      <td>\"11\"</td>\n",
       "      <td>1.0</td>\n",
       "      <td>0.6615</td>\n",
       "      <td>\"101\"</td>\n",
       "      <td>1</td>\n",
       "      <td>0.6615</td>\n",
       "      <td>Mon Jun 03 15:46:38 +0000 2013</td>\n",
       "      <td>3.415820e+17</td>\n",
       "      <td>this is neither hollywood nor httpAddress this...</td>\n",
       "      <td>neither hollywood made police turkishspring ge...</td>\n",
       "      <td>0.857809</td>\n",
       "      <td>0.142191</td>\n",
       "      <td>0.0</td>\n",
       "    </tr>\n",
       "    <tr>\n",
       "      <th>528</th>\n",
       "      <td>1135</td>\n",
       "      <td>1657979866</td>\n",
       "      <td>False</td>\n",
       "      <td>finalized</td>\n",
       "      <td>3</td>\n",
       "      <td>04/03/18 17:41</td>\n",
       "      <td>\"110\"</td>\n",
       "      <td>1.0</td>\n",
       "      <td>0.6612</td>\n",
       "      <td>\"111\"</td>\n",
       "      <td>1</td>\n",
       "      <td>1.0000</td>\n",
       "      <td>Fri May 31 16:05:27 +0000 2013</td>\n",
       "      <td>3.404990e+17</td>\n",
       "      <td>#occupygezi rt usrId violence tear gas greet p...</td>\n",
       "      <td>violence tear gas greet save one last public p...</td>\n",
       "      <td>0.603253</td>\n",
       "      <td>0.396747</td>\n",
       "      <td>1.0</td>\n",
       "    </tr>\n",
       "    <tr>\n",
       "      <th>530</th>\n",
       "      <td>1140</td>\n",
       "      <td>1657979871</td>\n",
       "      <td>False</td>\n",
       "      <td>finalized</td>\n",
       "      <td>3</td>\n",
       "      <td>04/03/18 21:47</td>\n",
       "      <td>\"011\"</td>\n",
       "      <td>1.0</td>\n",
       "      <td>0.6631</td>\n",
       "      <td>\"111\"</td>\n",
       "      <td>1</td>\n",
       "      <td>1.0000</td>\n",
       "      <td>Sat Jun 01 19:09:28 +0000 2013</td>\n",
       "      <td>3.409080e+17</td>\n",
       "      <td>rt usrId big party in httpAddress music firewo...</td>\n",
       "      <td>big party music fireworks demonstrators buildi...</td>\n",
       "      <td>0.918275</td>\n",
       "      <td>0.081725</td>\n",
       "      <td>0.0</td>\n",
       "    </tr>\n",
       "    <tr>\n",
       "      <th>537</th>\n",
       "      <td>1165</td>\n",
       "      <td>1657979907</td>\n",
       "      <td>False</td>\n",
       "      <td>finalized</td>\n",
       "      <td>3</td>\n",
       "      <td>04/03/18 17:19</td>\n",
       "      <td>\"110\"</td>\n",
       "      <td>1.0</td>\n",
       "      <td>0.6612</td>\n",
       "      <td>\"111\"</td>\n",
       "      <td>1</td>\n",
       "      <td>1.0000</td>\n",
       "      <td>Tue Jun 04 12:34:18 +0000 2013</td>\n",
       "      <td>3.418960e+17</td>\n",
       "      <td>rt usrId turkish deputy pm apologizes for poli...</td>\n",
       "      <td>deputy apologizes police aggression initial</td>\n",
       "      <td>0.835714</td>\n",
       "      <td>0.164286</td>\n",
       "      <td>0.0</td>\n",
       "    </tr>\n",
       "    <tr>\n",
       "      <th>539</th>\n",
       "      <td>1170</td>\n",
       "      <td>1657979917</td>\n",
       "      <td>False</td>\n",
       "      <td>finalized</td>\n",
       "      <td>3</td>\n",
       "      <td>04/08/18 21:51</td>\n",
       "      <td>\"111\"</td>\n",
       "      <td>1.0</td>\n",
       "      <td>1.0000</td>\n",
       "      <td>\"111\"</td>\n",
       "      <td>1</td>\n",
       "      <td>1.0000</td>\n",
       "      <td>Sat Jun 08 20:26:21 +0000 2013</td>\n",
       "      <td>3.434640e+17</td>\n",
       "      <td>rt usrId photo turkish police deploy water can...</td>\n",
       "      <td>photo police deploy water cannon tear gas ankara</td>\n",
       "      <td>0.057187</td>\n",
       "      <td>0.942813</td>\n",
       "      <td>1.0</td>\n",
       "    </tr>\n",
       "    <tr>\n",
       "      <th>552</th>\n",
       "      <td>1198</td>\n",
       "      <td>1657979962</td>\n",
       "      <td>False</td>\n",
       "      <td>finalized</td>\n",
       "      <td>3</td>\n",
       "      <td>04/03/18 18:36</td>\n",
       "      <td>\"101\"</td>\n",
       "      <td>1.0</td>\n",
       "      <td>0.6612</td>\n",
       "      <td>\"111\"</td>\n",
       "      <td>1</td>\n",
       "      <td>1.0000</td>\n",
       "      <td>Sat Jun 01 06:26:55 +0000 2013</td>\n",
       "      <td>3.407160e+17</td>\n",
       "      <td>via usrId another photo of female protester be...</td>\n",
       "      <td>via another photo female protester sprayed police</td>\n",
       "      <td>0.678328</td>\n",
       "      <td>0.321672</td>\n",
       "      <td>1.0</td>\n",
       "    </tr>\n",
       "    <tr>\n",
       "      <th>558</th>\n",
       "      <td>1209</td>\n",
       "      <td>1657979981</td>\n",
       "      <td>False</td>\n",
       "      <td>finalized</td>\n",
       "      <td>3</td>\n",
       "      <td>04/04/18 09:01</td>\n",
       "      <td>\"111\"</td>\n",
       "      <td>1.0</td>\n",
       "      <td>1.0000</td>\n",
       "      <td>\"111\"</td>\n",
       "      <td>1</td>\n",
       "      <td>1.0000</td>\n",
       "      <td>Tue Jun 11 11:07:34 +0000 2013</td>\n",
       "      <td>3.444110e+17</td>\n",
       "      <td>rt usrId police now using water cannons to pus...</td>\n",
       "      <td>police using water cannons push people tear ga...</td>\n",
       "      <td>0.155976</td>\n",
       "      <td>0.844024</td>\n",
       "      <td>1.0</td>\n",
       "    </tr>\n",
       "    <tr>\n",
       "      <th>562</th>\n",
       "      <td>1213</td>\n",
       "      <td>1657979986</td>\n",
       "      <td>False</td>\n",
       "      <td>finalized</td>\n",
       "      <td>3</td>\n",
       "      <td>04/03/18 22:23</td>\n",
       "      <td>\"111\"</td>\n",
       "      <td>1.0</td>\n",
       "      <td>1.0000</td>\n",
       "      <td>\"111\"</td>\n",
       "      <td>1</td>\n",
       "      <td>1.0000</td>\n",
       "      <td>Tue Jun 11 07:03:48 +0000 2013</td>\n",
       "      <td>3.443490e+17</td>\n",
       "      <td>rt usrId #breaking #news 344349240216125440 tu...</td>\n",
       "      <td>breaking news bit tear gas police intervenes</td>\n",
       "      <td>0.468114</td>\n",
       "      <td>0.531886</td>\n",
       "      <td>1.0</td>\n",
       "    </tr>\n",
       "    <tr>\n",
       "      <th>564</th>\n",
       "      <td>1216</td>\n",
       "      <td>1657979989</td>\n",
       "      <td>False</td>\n",
       "      <td>finalized</td>\n",
       "      <td>3</td>\n",
       "      <td>04/03/18 19:45</td>\n",
       "      <td>\"110\"</td>\n",
       "      <td>1.0</td>\n",
       "      <td>0.6522</td>\n",
       "      <td>\"111\"</td>\n",
       "      <td>1</td>\n",
       "      <td>1.0000</td>\n",
       "      <td>Sat Jun 01 23:56:08 +0000 2013</td>\n",
       "      <td>3.409800e+17</td>\n",
       "      <td>great footage from inside #turkey clashes vide...</td>\n",
       "      <td>great footage inside clashes video revolution ...</td>\n",
       "      <td>0.890779</td>\n",
       "      <td>0.109221</td>\n",
       "      <td>0.0</td>\n",
       "    </tr>\n",
       "    <tr>\n",
       "      <th>577</th>\n",
       "      <td>1240</td>\n",
       "      <td>1657980026</td>\n",
       "      <td>False</td>\n",
       "      <td>finalized</td>\n",
       "      <td>3</td>\n",
       "      <td>04/03/18 21:18</td>\n",
       "      <td>\"11\"</td>\n",
       "      <td>1.0</td>\n",
       "      <td>0.6594</td>\n",
       "      <td>\"011\"</td>\n",
       "      <td>1</td>\n",
       "      <td>0.6594</td>\n",
       "      <td>Tue Jun 04 02:05:43 +0000 2013</td>\n",
       "      <td>3.417370e+17</td>\n",
       "      <td>usrId the lede add tear gas and stir images of...</td>\n",
       "      <td>lede add tear gas stir images police brutality...</td>\n",
       "      <td>0.739150</td>\n",
       "      <td>0.260850</td>\n",
       "      <td>0.0</td>\n",
       "    </tr>\n",
       "    <tr>\n",
       "      <th>586</th>\n",
       "      <td>1261</td>\n",
       "      <td>1657980068</td>\n",
       "      <td>False</td>\n",
       "      <td>finalized</td>\n",
       "      <td>3</td>\n",
       "      <td>4/24/2018 20:23:09</td>\n",
       "      <td>\"11\"</td>\n",
       "      <td>1.0</td>\n",
       "      <td>0.6667</td>\n",
       "      <td>\"011\"</td>\n",
       "      <td>1</td>\n",
       "      <td>0.6667</td>\n",
       "      <td>Mon Jun 17 19:46:39 +0000 2013</td>\n",
       "      <td>3.467160e+17</td>\n",
       "      <td>rt usrId reports of gas being sprayed on prote...</td>\n",
       "      <td>reports gas sprayed gathering rate needs gas f...</td>\n",
       "      <td>0.836452</td>\n",
       "      <td>0.163548</td>\n",
       "      <td>0.0</td>\n",
       "    </tr>\n",
       "    <tr>\n",
       "      <th>590</th>\n",
       "      <td>1271</td>\n",
       "      <td>1657980086</td>\n",
       "      <td>False</td>\n",
       "      <td>finalized</td>\n",
       "      <td>3</td>\n",
       "      <td>04/03/18 18:11</td>\n",
       "      <td>\"111\"</td>\n",
       "      <td>1.0</td>\n",
       "      <td>1.0000</td>\n",
       "      <td>\"111\"</td>\n",
       "      <td>1</td>\n",
       "      <td>1.0000</td>\n",
       "      <td>Fri May 31 13:54:36 +0000 2013</td>\n",
       "      <td>3.404660e+17</td>\n",
       "      <td>rt usrId dear united httpAddress our governmen...</td>\n",
       "      <td>dear united government gone crazy police force...</td>\n",
       "      <td>0.577656</td>\n",
       "      <td>0.422344</td>\n",
       "      <td>1.0</td>\n",
       "    </tr>\n",
       "    <tr>\n",
       "      <th>599</th>\n",
       "      <td>1285</td>\n",
       "      <td>1657980118</td>\n",
       "      <td>False</td>\n",
       "      <td>finalized</td>\n",
       "      <td>3</td>\n",
       "      <td>04/03/18 22:27</td>\n",
       "      <td>\"11\"</td>\n",
       "      <td>1.0</td>\n",
       "      <td>0.6640</td>\n",
       "      <td>\"101\"</td>\n",
       "      <td>1</td>\n",
       "      <td>0.6640</td>\n",
       "      <td>Fri May 31 22:47:46 +0000 2013</td>\n",
       "      <td>3.406010e+17</td>\n",
       "      <td>#turkey engulfed in protests across several ci...</td>\n",
       "      <td>engulfed across several cities riot police tur...</td>\n",
       "      <td>0.940781</td>\n",
       "      <td>0.059219</td>\n",
       "      <td>0.0</td>\n",
       "    </tr>\n",
       "    <tr>\n",
       "      <th>605</th>\n",
       "      <td>1301</td>\n",
       "      <td>1657980153</td>\n",
       "      <td>False</td>\n",
       "      <td>finalized</td>\n",
       "      <td>3</td>\n",
       "      <td>04/06/18 15:06</td>\n",
       "      <td>\"011\"</td>\n",
       "      <td>1.0</td>\n",
       "      <td>0.6666</td>\n",
       "      <td>\"111\"</td>\n",
       "      <td>1</td>\n",
       "      <td>1.0000</td>\n",
       "      <td>Sat Jun 15 19:00:28 +0000 2013</td>\n",
       "      <td>3.459790e+17</td>\n",
       "      <td>peacefull protestors are under attack ! please...</td>\n",
       "      <td>peacefull protestors attack please go live</td>\n",
       "      <td>0.913681</td>\n",
       "      <td>0.086319</td>\n",
       "      <td>0.0</td>\n",
       "    </tr>\n",
       "    <tr>\n",
       "      <th>606</th>\n",
       "      <td>1302</td>\n",
       "      <td>1657980154</td>\n",
       "      <td>False</td>\n",
       "      <td>finalized</td>\n",
       "      <td>3</td>\n",
       "      <td>04/04/18 09:29</td>\n",
       "      <td>\"01\"</td>\n",
       "      <td>1.0</td>\n",
       "      <td>0.3342</td>\n",
       "      <td>\"110\"</td>\n",
       "      <td>1</td>\n",
       "      <td>0.6658</td>\n",
       "      <td>Tue Jun 11 07:54:51 +0000 2013</td>\n",
       "      <td>3.443620e+17</td>\n",
       "      <td>rt usrId heavy police presence in taksim httpA...</td>\n",
       "      <td>heavy police presence british nationals avoid ...</td>\n",
       "      <td>0.792744</td>\n",
       "      <td>0.207256</td>\n",
       "      <td>0.0</td>\n",
       "    </tr>\n",
       "  </tbody>\n",
       "</table>\n",
       "<p>85 rows × 19 columns</p>\n",
       "</div>"
      ],
      "text/plain": [
       "     Unnamed: 0    _unit_id  _golden _unit_state_x  _trusted_judgments  \\\n",
       "9            16  1657977956    False     finalized                   3   \n",
       "23           49  1657977998    False     finalized                   3   \n",
       "25           58  1657978009    False     finalized                   3   \n",
       "27           60  1657978012    False     finalized                   3   \n",
       "29           63  1657978015    False     finalized                   3   \n",
       "45           94  1657978052    False     finalized                   3   \n",
       "46           95  1657978053    False     finalized                   3   \n",
       "47           96  1657978054    False     finalized                   3   \n",
       "87          206  1657978210    False     finalized                   3   \n",
       "88          213  1657978229    False     finalized                   3   \n",
       "101         241  1657978277    False     finalized                   3   \n",
       "107         258  1657978312    False     finalized                   3   \n",
       "120         290  1657978372    False     finalized                   3   \n",
       "123         295  1657978379    False     finalized                   3   \n",
       "126         301  1657978385    False     finalized                   3   \n",
       "133         311  1657978402    False     finalized                   3   \n",
       "134         314  1657978406    False     finalized                   3   \n",
       "143         326  1657978429    False     finalized                   3   \n",
       "147         338  1657978444    False     finalized                   3   \n",
       "149         341  1657978453    False     finalized                   3   \n",
       "166         381  1657978513    False     finalized                   3   \n",
       "192         426  1657978594    False     finalized                   3   \n",
       "200         451  1657978640    False     finalized                   3   \n",
       "216         479  1657978700    False     finalized                   3   \n",
       "228         504  1657978747    False     finalized                   3   \n",
       "234         518  1657978772    False     finalized                   3   \n",
       "238         529  1657978789    False     finalized                   3   \n",
       "252         564  1657978844    False     finalized                   3   \n",
       "265         593  1657978895    False     finalized                   3   \n",
       "275         612  1657978935    False     finalized                   3   \n",
       "..          ...         ...      ...           ...                 ...   \n",
       "434         925  1657979501    False     finalized                   3   \n",
       "436         931  1657979509    False     finalized                   3   \n",
       "439         940  1657979523    False     finalized                   3   \n",
       "440         942  1657979525    False     finalized                   3   \n",
       "444         951  1657979542    False     finalized                   3   \n",
       "459         974  1657979585    False     finalized                   3   \n",
       "466         996  1657979625    False     finalized                   3   \n",
       "472        1007  1657979644    False     finalized                   3   \n",
       "483        1031  1657979694    False     finalized                   3   \n",
       "488        1039  1657979707    False     finalized                   3   \n",
       "489        1040  1657979708    False     finalized                   3   \n",
       "492        1048  1657979720    False     finalized                   3   \n",
       "494        1051  1657979727    False     finalized                   3   \n",
       "497        1057  1657979737    False     finalized                   3   \n",
       "511        1090  1657979789    False     finalized                   3   \n",
       "517        1101  1657979809    False     finalized                   3   \n",
       "528        1135  1657979866    False     finalized                   3   \n",
       "530        1140  1657979871    False     finalized                   3   \n",
       "537        1165  1657979907    False     finalized                   3   \n",
       "539        1170  1657979917    False     finalized                   3   \n",
       "552        1198  1657979962    False     finalized                   3   \n",
       "558        1209  1657979981    False     finalized                   3   \n",
       "562        1213  1657979986    False     finalized                   3   \n",
       "564        1216  1657979989    False     finalized                   3   \n",
       "577        1240  1657980026    False     finalized                   3   \n",
       "586        1261  1657980068    False     finalized                   3   \n",
       "590        1271  1657980086    False     finalized                   3   \n",
       "599        1285  1657980118    False     finalized                   3   \n",
       "605        1301  1657980153    False     finalized                   3   \n",
       "606        1302  1657980154    False     finalized                   3   \n",
       "\n",
       "    _last_judgment_at_x violence_judgment  violence  violence_confidence  \\\n",
       "9        04/05/18 11:50              \"11\"       1.0               0.6250   \n",
       "23       04/05/18 11:50              \"01\"       1.0               0.3125   \n",
       "25   3/30/2018 15:09:17             \"110\"       1.0               0.6581   \n",
       "27   3/30/2018 15:02:31             \"111\"       1.0               1.0000   \n",
       "29   3/30/2018 15:04:47             \"011\"       1.0               0.6594   \n",
       "45   3/30/2018 15:29:27              \"10\"       1.0               0.3388   \n",
       "46   3/30/2018 15:16:10              \"11\"       1.0               0.6640   \n",
       "47   3/30/2018 15:24:33              \"11\"       1.0               0.6594   \n",
       "87       04/03/18 20:14             \"101\"       1.0               0.6640   \n",
       "88       04/03/18 17:15             \"111\"       1.0               1.0000   \n",
       "101      04/09/18 16:53             \"111\"       1.0               1.0000   \n",
       "107      04/06/18 12:54             \"101\"       1.0               0.6666   \n",
       "120      04/04/18 09:01              \"01\"       1.0               0.3342   \n",
       "123      04/06/18 14:35             \"011\"       1.0               0.6666   \n",
       "126      04/03/18 17:11             \"111\"       1.0               1.0000   \n",
       "133  4/14/2018 05:48:51              \"11\"       1.0               0.6667   \n",
       "134      04/03/18 21:18             \"011\"       1.0               0.6594   \n",
       "143      04/07/18 15:51             \"101\"       1.0               0.6667   \n",
       "147      04/06/18 13:28             \"101\"       1.0               0.6666   \n",
       "149      04/06/18 14:07             \"111\"       1.0               1.0000   \n",
       "166      04/07/18 17:04              \"11\"       1.0               0.6667   \n",
       "192      04/03/18 17:51             \"110\"       1.0               0.6612   \n",
       "200  4/24/2018 20:23:09              \"11\"       1.0               0.6667   \n",
       "216      04/03/18 19:14             \"111\"       1.0               1.0000   \n",
       "228  4/24/2018 20:23:09              \"11\"       1.0               0.6667   \n",
       "234      04/03/18 17:33             \"111\"       1.0               1.0000   \n",
       "238      04/03/18 21:53             \"101\"       1.0               0.6594   \n",
       "252      04/09/18 20:32             \"111\"       1.0               1.0000   \n",
       "265      04/03/18 19:51             \"110\"       1.0               0.6570   \n",
       "275  4/23/2018 09:37:26             \"111\"       1.0               1.0000   \n",
       "..                  ...               ...       ...                  ...   \n",
       "434      04/07/18 17:12             \"111\"       1.0               1.0000   \n",
       "436      04/04/18 09:21             \"011\"       1.0               0.6684   \n",
       "439      04/07/18 17:10             \"111\"       1.0               1.0000   \n",
       "440      04/03/18 17:04             \"111\"       1.0               1.0000   \n",
       "444      04/07/18 17:10              \"01\"       1.0               0.3333   \n",
       "459      04/03/18 18:19              \"11\"       1.0               0.6721   \n",
       "466      04/03/18 18:47             \"111\"       1.0               1.0000   \n",
       "472      04/08/18 21:50              \"10\"       1.0               0.3333   \n",
       "483      04/06/18 13:45              \"10\"       1.0               0.3361   \n",
       "488      04/03/18 21:27             \"111\"       1.0               1.0000   \n",
       "489      04/03/18 18:39             \"101\"       1.0               0.6612   \n",
       "492      04/03/18 22:25              \"11\"       1.0               0.6658   \n",
       "494      04/03/18 22:25              \"11\"       1.0               0.6640   \n",
       "497      04/03/18 17:54             \"111\"       1.0               1.0000   \n",
       "511      04/06/18 12:09              \"11\"       1.0               0.6677   \n",
       "517      04/05/18 13:14              \"11\"       1.0               0.6615   \n",
       "528      04/03/18 17:41             \"110\"       1.0               0.6612   \n",
       "530      04/03/18 21:47             \"011\"       1.0               0.6631   \n",
       "537      04/03/18 17:19             \"110\"       1.0               0.6612   \n",
       "539      04/08/18 21:51             \"111\"       1.0               1.0000   \n",
       "552      04/03/18 18:36             \"101\"       1.0               0.6612   \n",
       "558      04/04/18 09:01             \"111\"       1.0               1.0000   \n",
       "562      04/03/18 22:23             \"111\"       1.0               1.0000   \n",
       "564      04/03/18 19:45             \"110\"       1.0               0.6522   \n",
       "577      04/03/18 21:18              \"11\"       1.0               0.6594   \n",
       "586  4/24/2018 20:23:09              \"11\"       1.0               0.6667   \n",
       "590      04/03/18 18:11             \"111\"       1.0               1.0000   \n",
       "599      04/03/18 22:27              \"11\"       1.0               0.6640   \n",
       "605      04/06/18 15:06             \"011\"       1.0               0.6666   \n",
       "606      04/04/18 09:29              \"01\"       1.0               0.3342   \n",
       "\n",
       "    protest_judgment_x  protest  protest_confidence  \\\n",
       "9                \"101\"        1              0.6250   \n",
       "23               \"101\"        1              0.6250   \n",
       "25               \"111\"        1              1.0000   \n",
       "27               \"111\"        1              1.0000   \n",
       "29               \"111\"        1              1.0000   \n",
       "45               \"011\"        1              0.6748   \n",
       "46               \"011\"        1              0.6640   \n",
       "47               \"011\"        1              0.6594   \n",
       "87               \"111\"        1              1.0000   \n",
       "88               \"111\"        1              1.0000   \n",
       "101              \"111\"        1              1.0000   \n",
       "107              \"111\"        1              1.0000   \n",
       "120              \"110\"        1              0.6658   \n",
       "123              \"111\"        1              1.0000   \n",
       "126              \"111\"        1              1.0000   \n",
       "133              \"110\"        1              0.6667   \n",
       "134              \"111\"        1              1.0000   \n",
       "143              \"111\"        1              1.0000   \n",
       "147              \"111\"        1              1.0000   \n",
       "149              \"111\"        1              1.0000   \n",
       "166              \"011\"        1              0.6667   \n",
       "192              \"111\"        1              1.0000   \n",
       "200              \"011\"        1              0.6667   \n",
       "216              \"111\"        1              1.0000   \n",
       "228              \"011\"        1              0.6667   \n",
       "234              \"111\"        1              1.0000   \n",
       "238              \"111\"        1              1.0000   \n",
       "252              \"111\"        1              1.0000   \n",
       "265              \"111\"        1              1.0000   \n",
       "275              \"111\"        1              1.0000   \n",
       "..                 ...      ...                 ...   \n",
       "434              \"111\"        1              1.0000   \n",
       "436              \"111\"        1              1.0000   \n",
       "439              \"111\"        1              1.0000   \n",
       "440              \"111\"        1              1.0000   \n",
       "444              \"011\"        1              0.6667   \n",
       "459              \"011\"        1              0.6721   \n",
       "466              \"111\"        1              1.0000   \n",
       "472              \"011\"        1              0.6667   \n",
       "483              \"110\"        1              0.6695   \n",
       "488              \"111\"        1              1.0000   \n",
       "489              \"111\"        1              1.0000   \n",
       "492              \"110\"        1              0.6658   \n",
       "494              \"110\"        1              0.6640   \n",
       "497              \"111\"        1              1.0000   \n",
       "511              \"110\"        1              0.6677   \n",
       "517              \"101\"        1              0.6615   \n",
       "528              \"111\"        1              1.0000   \n",
       "530              \"111\"        1              1.0000   \n",
       "537              \"111\"        1              1.0000   \n",
       "539              \"111\"        1              1.0000   \n",
       "552              \"111\"        1              1.0000   \n",
       "558              \"111\"        1              1.0000   \n",
       "562              \"111\"        1              1.0000   \n",
       "564              \"111\"        1              1.0000   \n",
       "577              \"011\"        1              0.6594   \n",
       "586              \"011\"        1              0.6667   \n",
       "590              \"111\"        1              1.0000   \n",
       "599              \"101\"        1              0.6640   \n",
       "605              \"111\"        1              1.0000   \n",
       "606              \"110\"        1              0.6658   \n",
       "\n",
       "                         created_at            id  \\\n",
       "9    Sun Jun 16 11:41:34 +0000 2013  3.462310e+17   \n",
       "23   Sun Jun 16 19:34:30 +0000 2013  3.463500e+17   \n",
       "25   Sun Jun 16 10:41:39 +0000 2013  3.462160e+17   \n",
       "27   Wed Jun 12 18:49:45 +0000 2013  3.448890e+17   \n",
       "29   Mon Jun 03 17:58:30 +0000 2013  3.416150e+17   \n",
       "45   Mon Jun 24 10:27:31 +0000 2013  3.491120e+17   \n",
       "46   Sat Jun 01 18:57:26 +0000 2013  3.409050e+17   \n",
       "47   Tue Jun 11 11:49:37 +0000 2013  3.444210e+17   \n",
       "87   Sun Jun 02 23:08:29 +0000 2013  3.413310e+17   \n",
       "88   Thu Jun 13 17:59:50 +0000 2013  3.452390e+17   \n",
       "101  Sun Jun 02 16:33:12 +0000 2013  3.412310e+17   \n",
       "107  Sat Jun 15 18:17:11 +0000 2013  3.459680e+17   \n",
       "120  Fri May 31 15:46:23 +0000 2013  3.404940e+17   \n",
       "123  Sat Jun 08 22:25:14 +0000 2013  3.434940e+17   \n",
       "126  Sun Jun 02 08:18:36 +0000 2013  3.411070e+17   \n",
       "133  Sat Jun 01 07:38:20 +0000 2013  3.407340e+17   \n",
       "134  Fri May 31 21:09:42 +0000 2013  3.405760e+17   \n",
       "143  Sat Jun 01 07:40:14 +0000 2013  3.407350e+17   \n",
       "147  Fri May 31 23:34:05 +0000 2013  3.406120e+17   \n",
       "149  Sat Jun 15 23:04:02 +0000 2013  3.460400e+17   \n",
       "166  Sat Jun 01 08:03:22 +0000 2013  3.407400e+17   \n",
       "192  Tue Jun 04 15:05:24 +0000 2013  3.419340e+17   \n",
       "200  Tue Jun 18 09:12:04 +0000 2013  3.469180e+17   \n",
       "216  Sat Jun 01 23:40:07 +0000 2013  3.409760e+17   \n",
       "228  Thu Jun 06 10:27:27 +0000 2013  3.425890e+17   \n",
       "234  Sat Jun 01 18:38:07 +0000 2013  3.409000e+17   \n",
       "238  Wed Jun 05 18:52:46 +0000 2013  3.423530e+17   \n",
       "252  Sat Jun 15 18:50:55 +0000 2013  3.459770e+17   \n",
       "265  Tue Jun 11 17:37:43 +0000 2013  3.445090e+17   \n",
       "275  Sat Jun 01 01:24:31 +0000 2013  3.406400e+17   \n",
       "..                              ...           ...   \n",
       "434  Sat Jun 01 18:02:30 +0000 2013  3.408910e+17   \n",
       "436  Fri May 31 23:38:37 +0000 2013  3.406130e+17   \n",
       "439  Tue Jun 04 00:33:08 +0000 2013  3.417140e+17   \n",
       "440  Mon Jun 03 18:52:03 +0000 2013  3.416280e+17   \n",
       "444  Tue Jun 11 17:28:08 +0000 2013  3.445060e+17   \n",
       "459  Tue Jun 11 18:02:25 +0000 2013  3.445150e+17   \n",
       "466  Sat Jun 01 11:50:38 +0000 2013  3.407980e+17   \n",
       "472  Tue Jun 11 15:13:51 +0000 2013  3.444730e+17   \n",
       "483  Mon Jun 03 18:25:39 +0000 2013  3.416220e+17   \n",
       "488  Sat Jun 01 18:41:09 +0000 2013  3.409010e+17   \n",
       "489  Fri May 31 19:26:17 +0000 2013  3.405500e+17   \n",
       "492  Fri May 31 20:33:35 +0000 2013  3.405670e+17   \n",
       "494  Fri May 31 23:42:01 +0000 2013  3.406140e+17   \n",
       "497  Sat Jun 22 23:50:05 +0000 2013  3.485890e+17   \n",
       "511  Wed Jun 05 07:17:44 +0000 2013  3.421780e+17   \n",
       "517  Mon Jun 03 15:46:38 +0000 2013  3.415820e+17   \n",
       "528  Fri May 31 16:05:27 +0000 2013  3.404990e+17   \n",
       "530  Sat Jun 01 19:09:28 +0000 2013  3.409080e+17   \n",
       "537  Tue Jun 04 12:34:18 +0000 2013  3.418960e+17   \n",
       "539  Sat Jun 08 20:26:21 +0000 2013  3.434640e+17   \n",
       "552  Sat Jun 01 06:26:55 +0000 2013  3.407160e+17   \n",
       "558  Tue Jun 11 11:07:34 +0000 2013  3.444110e+17   \n",
       "562  Tue Jun 11 07:03:48 +0000 2013  3.443490e+17   \n",
       "564  Sat Jun 01 23:56:08 +0000 2013  3.409800e+17   \n",
       "577  Tue Jun 04 02:05:43 +0000 2013  3.417370e+17   \n",
       "586  Mon Jun 17 19:46:39 +0000 2013  3.467160e+17   \n",
       "590  Fri May 31 13:54:36 +0000 2013  3.404660e+17   \n",
       "599  Fri May 31 22:47:46 +0000 2013  3.406010e+17   \n",
       "605  Sat Jun 15 19:00:28 +0000 2013  3.459790e+17   \n",
       "606  Tue Jun 11 07:54:51 +0000 2013  3.443620e+17   \n",
       "\n",
       "                                           proccd_text  \\\n",
       "9    cbs riot police rush to crush renewed turkey p...   \n",
       "23   rt usrId #istanbul #protestors holding their g...   \n",
       "25   rt usrId police detaining the doctors at ramad...   \n",
       "27   usrId riot police fire water cannon at protest...   \n",
       "29   rt usrId police chopper circling over crowd of...   \n",
       "45   rt usrId #simsek says some journalists killed ...   \n",
       "46   bbc news turkish protesters pack taksim square...   \n",
       "47   turkish secret police agents provocateurs infi...   \n",
       "87   rt usrId 100s arrested in httpAddress protesto...   \n",
       "88   rt usrId fashionable to wear gas mask helmet g...   \n",
       "101  rt usrId cnn turk vs cnn the media blackout in...   \n",
       "107  heavy attack on gezi park right httpAddress po...   \n",
       "120  rt usrId after a day of ignoring protests and ...   \n",
       "123  rt usrId had to spray my eyes with malox httpA...   \n",
       "126  rt usrId people helping out street animals aff...   \n",
       "133  rt usrId a shopping mall opened its doors to p...   \n",
       "134  rt usrId this old man lost an ear #occupygezi ...   \n",
       "143  rt usrId already had our morning dose of tear ...   \n",
       "147  rt usrId shocking scenes of brutality from tur...   \n",
       "149  rt usrId rt usrId #taksim solidarity platform ...   \n",
       "166  rt usrId having spent afternoon around taksim ...   \n",
       "192  turkey deputy pm sorry for excessive force htt...   \n",
       "200  rt usrId timeline of events in #turkey police ...   \n",
       "216  rt usrId chemicals are used people throwing up...   \n",
       "228  rt usrId the woman in red being sprayed by tea...   \n",
       "234  rt usrId cnn report police crackdown triggers ...   \n",
       "238  rt usrId httpAddress who took it ? mt usrId am...   \n",
       "252  rt usrId photo #gezipark in panic as httpAddre...   \n",
       "265  rt usrId massive tear gas clouds fill istanbul...   \n",
       "275  rt usrId police attacked a nearby military bar...   \n",
       "..                                                 ...   \n",
       "434  rt usrId police doesn t discern between demons...   \n",
       "436  rt usrId this is the evidence of the police ht...   \n",
       "439  there are so many things going on in the world...   \n",
       "440  rt usrId #turkey police are firing tear gas gr...   \n",
       "444  #stopgeziattack lawyers arrested today in turk...   \n",
       "459  rt usrId several reports that police attacked ...   \n",
       "466  usrId usrId many people are exposed to violanc...   \n",
       "472  rt usrId a pic from infirmary at taksim httpAd...   \n",
       "483  rt usrId gas seems to have dispersed from taks...   \n",
       "488  the events that occured in turkey yesterday ar...   \n",
       "489  rt usrId usrId usrId usrId animals are dying f...   \n",
       "492  rt usrId hooray ! the turks are firing america...   \n",
       "494  rt usrId in turkey gov uses good old dictatori...   \n",
       "497  rt usrId polices are using plastic bullets ! l...   \n",
       "511  rt usrId another proof showing that akp s yout...   \n",
       "517  this is neither hollywood nor httpAddress this...   \n",
       "528  #occupygezi rt usrId violence tear gas greet p...   \n",
       "530  rt usrId big party in httpAddress music firewo...   \n",
       "537  rt usrId turkish deputy pm apologizes for poli...   \n",
       "539  rt usrId photo turkish police deploy water can...   \n",
       "552  via usrId another photo of female protester be...   \n",
       "558  rt usrId police now using water cannons to pus...   \n",
       "562  rt usrId #breaking #news 344349240216125440 tu...   \n",
       "564  great footage from inside #turkey clashes vide...   \n",
       "577  usrId the lede add tear gas and stir images of...   \n",
       "586  rt usrId reports of gas being sprayed on prote...   \n",
       "590  rt usrId dear united httpAddress our governmen...   \n",
       "599  #turkey engulfed in protests across several ci...   \n",
       "605  peacefull protestors are under attack ! please...   \n",
       "606  rt usrId heavy police presence in taksim httpA...   \n",
       "\n",
       "                                            clean_text  non_vio_prob  \\\n",
       "9              cbs riot police rush crush renewed news      0.940054   \n",
       "23   protestors holding ground despite organized at...      0.806367   \n",
       "25   police detaining doctors ramada hotel treating...      0.789181   \n",
       "27   riot police fire water cannon protester wheelc...      0.844936   \n",
       "29   police chopper circling crowd tens thousands f...      0.963006   \n",
       "45   simsek says journalists killed people robbed m...      0.943174   \n",
       "46                bbc news pack square police withdraw      0.545037   \n",
       "47   secret police agents provocateurs infiltrating...      0.792744   \n",
       "87   s arrested protestors locked basketball people...      0.979409   \n",
       "88   fashionable wear gas mask helmet goggles downt...      0.749047   \n",
       "101  cnn turk vs cnn media blackout dear carl pleas...      0.973676   \n",
       "107   heavy attack right police cleared square heading      0.889573   \n",
       "120  day ignoring police violence every major chann...      0.456935   \n",
       "123  spray eyes malox standing fire smoke helps tea...      0.963496   \n",
       "126  people helping street animals affected tear st...      0.109076   \n",
       "133  shopping mall opened doors people running away...      0.909777   \n",
       "134       old man lost ear police allow ambulance move      0.663765   \n",
       "143  already morning dose tear good morning riot po...      0.880605   \n",
       "147  shocking scenes brutality people standing tyranny      0.944383   \n",
       "149  solidarity platform police uses extensive rubb...      0.689397   \n",
       "166  spent afternoon around police behavior worse a...      0.748892   \n",
       "192         deputy sorry excessive force truth freedom      0.952292   \n",
       "200  timeline events police escalate attacks health...      0.837015   \n",
       "216  chemicals used people throwing bleeding everyw...      0.805359   \n",
       "228  woman red sprayed tear gas iconic photo academ...      0.453820   \n",
       "234  cnn report police crackdown triggers anti gove...      0.486306   \n",
       "238  took mt amazing picture man wearing gas mask t...      0.915523   \n",
       "252        photo gezipark panic used clear riot police      0.856507   \n",
       "265  massive tear gas clouds fill square riot polic...      0.766279   \n",
       "275  police attacked nearby military barracks stop ...      0.538436   \n",
       "..                                                 ...           ...   \n",
       "434  police discern demonstrators spectators people...      0.605319   \n",
       "436  evidence police ran panzer taksimgezipark dire...      0.835714   \n",
       "439  many things going world year old shot bullet k...      0.400992   \n",
       "440  police firing tear gas grenades straight crowd...      0.687115   \n",
       "444  stopgeziattack lawyers arrested today word wat...      0.995335   \n",
       "459  several reports police attacked disabled perso...      0.486532   \n",
       "466  many people exposed violance since dictatorshi...      0.940790   \n",
       "472        pic infirmary occupyturkey stopthisviolence      0.861437   \n",
       "483                            gas seems dispersed sad      0.926375   \n",
       "488  events occured yesterday horrifying sad televi...      0.948522   \n",
       "489  animals dying police brutality wanted proctect...      0.913478   \n",
       "492       hooray turks firing american made tear gas v      0.834295   \n",
       "494  gov uses good old dictatorial methods shut loc...      0.755945   \n",
       "497  polices using plastic bullets look capulculart...      0.959114   \n",
       "511  another proof showing akp youth streets sticks...      0.935100   \n",
       "517  neither hollywood made police turkishspring ge...      0.857809   \n",
       "528  violence tear gas greet save one last public p...      0.603253   \n",
       "530  big party music fireworks demonstrators buildi...      0.918275   \n",
       "537        deputy apologizes police aggression initial      0.835714   \n",
       "539   photo police deploy water cannon tear gas ankara      0.057187   \n",
       "552  via another photo female protester sprayed police      0.678328   \n",
       "558  police using water cannons push people tear ga...      0.155976   \n",
       "562       breaking news bit tear gas police intervenes      0.468114   \n",
       "564  great footage inside clashes video revolution ...      0.890779   \n",
       "577  lede add tear gas stir images police brutality...      0.739150   \n",
       "586  reports gas sprayed gathering rate needs gas f...      0.836452   \n",
       "590  dear united government gone crazy police force...      0.577656   \n",
       "599  engulfed across several cities riot police tur...      0.940781   \n",
       "605         peacefull protestors attack please go live      0.913681   \n",
       "606  heavy police presence british nationals avoid ...      0.792744   \n",
       "\n",
       "     vio_prob  violence_prediction  \n",
       "9    0.059946                  0.0  \n",
       "23   0.193633                  0.0  \n",
       "25   0.210819                  0.0  \n",
       "27   0.155064                  0.0  \n",
       "29   0.036994                  0.0  \n",
       "45   0.056826                  0.0  \n",
       "46   0.454963                  1.0  \n",
       "47   0.207256                  0.0  \n",
       "87   0.020591                  0.0  \n",
       "88   0.250953                  0.0  \n",
       "101  0.026324                  0.0  \n",
       "107  0.110427                  0.0  \n",
       "120  0.543065                  1.0  \n",
       "123  0.036504                  0.0  \n",
       "126  0.890924                  1.0  \n",
       "133  0.090223                  0.0  \n",
       "134  0.336235                  1.0  \n",
       "143  0.119395                  0.0  \n",
       "147  0.055617                  0.0  \n",
       "149  0.310603                  0.0  \n",
       "166  0.251108                  0.0  \n",
       "192  0.047708                  0.0  \n",
       "200  0.162985                  0.0  \n",
       "216  0.194641                  0.0  \n",
       "228  0.546180                  1.0  \n",
       "234  0.513694                  1.0  \n",
       "238  0.084477                  0.0  \n",
       "252  0.143493                  0.0  \n",
       "265  0.233721                  0.0  \n",
       "275  0.461564                  1.0  \n",
       "..        ...                  ...  \n",
       "434  0.394681                  1.0  \n",
       "436  0.164286                  0.0  \n",
       "439  0.599008                  1.0  \n",
       "440  0.312885                  0.0  \n",
       "444  0.004665                  0.0  \n",
       "459  0.513468                  1.0  \n",
       "466  0.059210                  0.0  \n",
       "472  0.138563                  0.0  \n",
       "483  0.073625                  0.0  \n",
       "488  0.051478                  0.0  \n",
       "489  0.086522                  0.0  \n",
       "492  0.165705                  0.0  \n",
       "494  0.244055                  0.0  \n",
       "497  0.040886                  0.0  \n",
       "511  0.064900                  0.0  \n",
       "517  0.142191                  0.0  \n",
       "528  0.396747                  1.0  \n",
       "530  0.081725                  0.0  \n",
       "537  0.164286                  0.0  \n",
       "539  0.942813                  1.0  \n",
       "552  0.321672                  1.0  \n",
       "558  0.844024                  1.0  \n",
       "562  0.531886                  1.0  \n",
       "564  0.109221                  0.0  \n",
       "577  0.260850                  0.0  \n",
       "586  0.163548                  0.0  \n",
       "590  0.422344                  1.0  \n",
       "599  0.059219                  0.0  \n",
       "605  0.086319                  0.0  \n",
       "606  0.207256                  0.0  \n",
       "\n",
       "[85 rows x 19 columns]"
      ]
     },
     "execution_count": 809,
     "metadata": {},
     "output_type": "execute_result"
    }
   ],
   "source": [
    "svm_results_CF_judgment_merged[svm_results_CF_judgment_merged['violence']==1]"
   ]
  },
  {
   "cell_type": "code",
   "execution_count": 810,
   "metadata": {},
   "outputs": [],
   "source": [
    "svm_results_CF_judgment_merged_righ_classification = svm_results_CF_judgment_merged[\n",
    "                                                    svm_results_CF_judgment_merged['violence'] == svm_results_CF_judgment_merged['violence_prediction']\n",
    "                                                    ]"
   ]
  },
  {
   "cell_type": "code",
   "execution_count": 811,
   "metadata": {},
   "outputs": [],
   "source": [
    "svm_results_CF_judgment_merged_righ_classification.to_csv('Data/right_classififcation__svm_results_judgments_merge_23_05_2018.csv')"
   ]
  },
  {
   "cell_type": "code",
   "execution_count": 812,
   "metadata": {},
   "outputs": [
    {
     "name": "stdout",
     "output_type": "stream",
     "text": [
      "avg user confidence on the correctly classififed tweets is 0.3627936802973978\n"
     ]
    }
   ],
   "source": [
    "print('avg user confidence on the correctly classififed tweets is', \n",
    "      np.mean(svm_results_CF_judgment_merged_righ_classification.violence_confidence))"
   ]
  },
  {
   "cell_type": "code",
   "execution_count": 813,
   "metadata": {},
   "outputs": [
    {
     "name": "stdout",
     "output_type": "stream",
     "text": [
      "avg user protest confidence on the correctly classififed tweets is 0.9191243494423792\n"
     ]
    }
   ],
   "source": [
    "print('avg user protest confidence on the correctly classififed tweets is', \n",
    "      np.mean(svm_results_CF_judgment_merged_righ_classification.protest_confidence))"
   ]
  },
  {
   "cell_type": "code",
   "execution_count": 814,
   "metadata": {},
   "outputs": [
    {
     "data": {
      "text/plain": [
       "Text(0.5,1,'right classification CF workers confidence on violence')"
      ]
     },
     "execution_count": 814,
     "metadata": {},
     "output_type": "execute_result"
    },
    {
     "data": {
      "image/png": "[encoded data removed]",
      "text/plain": [
       "<Figure size 432x288 with 1 Axes>"
      ]
     },
     "metadata": {},
     "output_type": "display_data"
    }
   ],
   "source": [
    "plt.hist(svm_results_CF_judgment_merged_righ_classification.violence_confidence)\n",
    "plt.title('right classification CF workers confidence on violence')"
   ]
  },
  {
   "cell_type": "code",
   "execution_count": 815,
   "metadata": {},
   "outputs": [],
   "source": [
    "svm_results_CF_judgment_merged_pos = svm_results_CF_judgment_merged_righ_classification[\n",
    "    svm_results_CF_judgment_merged_righ_classification['violence'] == 1]"
   ]
  },
  {
   "cell_type": "code",
   "execution_count": 816,
   "metadata": {},
   "outputs": [
    {
     "name": "stdout",
     "output_type": "stream",
     "text": [
      "avg user protest confidence on the correctly classififed violent tweets is 0.9444833333333335\n"
     ]
    }
   ],
   "source": [
    "print('avg user protest confidence on the correctly classififed violent tweets is', \n",
    "      np.mean(svm_results_CF_judgment_merged_pos.protest_confidence))"
   ]
  },
  {
   "cell_type": "code",
   "execution_count": 817,
   "metadata": {},
   "outputs": [
    {
     "name": "stdout",
     "output_type": "stream",
     "text": [
      "avg user confidence on the correctly classififed violent tweets is 0.8439166666666668\n"
     ]
    }
   ],
   "source": [
    "print('avg user confidence on the correctly classififed violent tweets is', \n",
    "      np.mean(svm_results_CF_judgment_merged_pos.violence_confidence))"
   ]
  },
  {
   "cell_type": "code",
   "execution_count": 818,
   "metadata": {},
   "outputs": [
    {
     "name": "stdout",
     "output_type": "stream",
     "text": [
      "avg svm vio probability the correctly classififed violent tweets is 0.5660851140155775\n"
     ]
    }
   ],
   "source": [
    "print('avg svm vio probability the correctly classififed violent tweets is', \n",
    "      np.mean(svm_results_CF_judgment_merged_pos.vio_prob))"
   ]
  },
  {
   "cell_type": "code",
   "execution_count": 819,
   "metadata": {},
   "outputs": [
    {
     "name": "stdout",
     "output_type": "stream",
     "text": [
      "avg svm nonviolence probability the correctly classififed violent tweets is 0.43391488598442246\n"
     ]
    }
   ],
   "source": [
    "print('avg svm nonviolence probability the correctly classififed violent tweets is', \n",
    "      np.mean(svm_results_CF_judgment_merged_pos.non_vio_prob))"
   ]
  },
  {
   "cell_type": "code",
   "execution_count": 820,
   "metadata": {},
   "outputs": [
    {
     "name": "stderr",
     "output_type": "stream",
     "text": [
      "/Users/fatma/anaconda2/envs/py35/lib/python3.5/site-packages/matplotlib/axes/_axes.py:6462: UserWarning: The 'normed' kwarg is deprecated, and has been replaced by the 'density' kwarg.\n",
      "  warnings.warn(\"The 'normed' kwarg is deprecated, and has been \"\n"
     ]
    },
    {
     "data": {
      "image/png": "[encoded data removed]",
      "text/plain": [
       "<Figure size 432x288 with 1 Axes>"
      ]
     },
     "metadata": {},
     "output_type": "display_data"
    }
   ],
   "source": [
    "colors = ['red', 'green', 'blue']\n",
    "labels = ['svm_non_violence_prb', 'svm_violence_prb', 'CF_user_confidence_on_violence']\n",
    "plt.hist([svm_results_CF_judgment_merged_pos.non_vio_prob,\n",
    "         svm_results_CF_judgment_merged_pos.vio_prob,\n",
    "         svm_results_CF_judgment_merged_pos.violence_confidence],stacked=True,normed=1,\n",
    "         histtype='bar',color=colors, label=labels )\n",
    "plt.legend(prop={'size': 10})\n",
    "plt.title('violence tweets (right classification)')\n",
    "plt.tight_layout()\n",
    "plt.show()"
   ]
  },
  {
   "cell_type": "code",
   "execution_count": 821,
   "metadata": {},
   "outputs": [],
   "source": [
    "svm_results_CF_judgment_merged_neg = svm_results_CF_judgment_merged_righ_classification[\n",
    "    svm_results_CF_judgment_merged_righ_classification['violence'] == 0]"
   ]
  },
  {
   "cell_type": "code",
   "execution_count": 822,
   "metadata": {},
   "outputs": [
    {
     "name": "stdout",
     "output_type": "stream",
     "text": [
      "avg user protest confidence on the correctly classififed non-violent tweets is 0.9176267716535433\n"
     ]
    }
   ],
   "source": [
    "print('avg user protest confidence on the correctly classififed non-violent tweets is', \n",
    "      np.mean(svm_results_CF_judgment_merged_neg.protest_confidence))"
   ]
  },
  {
   "cell_type": "code",
   "execution_count": 823,
   "metadata": {},
   "outputs": [
    {
     "name": "stdout",
     "output_type": "stream",
     "text": [
      "avg user confidence on the correctly classififed non-violent tweets is 0.33438090551181104\n"
     ]
    }
   ],
   "source": [
    "print('avg user confidence on the correctly classififed non-violent tweets is', \n",
    "      np.mean(svm_results_CF_judgment_merged_neg.violence_confidence))"
   ]
  },
  {
   "cell_type": "code",
   "execution_count": 824,
   "metadata": {},
   "outputs": [
    {
     "name": "stdout",
     "output_type": "stream",
     "text": [
      "svm avg proability (vio) correctly classififed non-violent tweets is 0.06529027251293325\n"
     ]
    }
   ],
   "source": [
    "print('svm avg proability (vio) correctly classififed non-violent tweets is', \n",
    "      np.mean(svm_results_CF_judgment_merged_neg.vio_prob))"
   ]
  },
  {
   "cell_type": "code",
   "execution_count": 825,
   "metadata": {},
   "outputs": [
    {
     "name": "stdout",
     "output_type": "stream",
     "text": [
      "svm avg proability (non-vio) correctly classififed non-violent tweets is 0.9347097274870667\n"
     ]
    }
   ],
   "source": [
    "print('svm avg proability (non-vio) correctly classififed non-violent tweets is', \n",
    "      np.mean(svm_results_CF_judgment_merged_neg.non_vio_prob))"
   ]
  },
  {
   "cell_type": "code",
   "execution_count": null,
   "metadata": {},
   "outputs": [],
   "source": []
  },
  {
   "cell_type": "code",
   "execution_count": 826,
   "metadata": {},
   "outputs": [
    {
     "name": "stderr",
     "output_type": "stream",
     "text": [
      "/Users/fatma/anaconda2/envs/py35/lib/python3.5/site-packages/matplotlib/axes/_axes.py:6462: UserWarning: The 'normed' kwarg is deprecated, and has been replaced by the 'density' kwarg.\n",
      "  warnings.warn(\"The 'normed' kwarg is deprecated, and has been \"\n"
     ]
    },
    {
     "data": {
      "image/png": "[encoded data removed]",
      "text/plain": [
       "<Figure size 432x288 with 1 Axes>"
      ]
     },
     "metadata": {},
     "output_type": "display_data"
    }
   ],
   "source": [
    "colors = ['green', 'red', 'blue']\n",
    "labels = ['svm_non_violence_prb', 'svm_violence_prb', 'CF_user_confidence_on_violence']\n",
    "plt.hist([svm_results_CF_judgment_merged_neg.non_vio_prob,\n",
    "         svm_results_CF_judgment_merged_neg.vio_prob,\n",
    "         svm_results_CF_judgment_merged_neg.violence_confidence],stacked=True,normed=0,\n",
    "         histtype='bar',color=colors, label=labels )\n",
    "plt.legend(prop={'size': 10})\n",
    "plt.title('non-violence tweets (right classification)')\n",
    "plt.tight_layout()\n",
    "plt.show()"
   ]
  },
  {
   "cell_type": "code",
   "execution_count": 827,
   "metadata": {},
   "outputs": [],
   "source": [
    "svm_results_CF_judgment_merged_mis_classification = svm_results_CF_judgment_merged[\n",
    "                                                    svm_results_CF_judgment_merged['violence'] != svm_results_CF_judgment_merged['violence_prediction']\n",
    "                                                    ]"
   ]
  },
  {
   "cell_type": "code",
   "execution_count": 828,
   "metadata": {},
   "outputs": [
    {
     "name": "stdout",
     "output_type": "stream",
     "text": [
      "avg user protest confidence on the mis-classififed tweets is 0.878461111111111\n"
     ]
    }
   ],
   "source": [
    "print('avg user protest confidence on the mis-classififed tweets is', \n",
    "      np.mean(svm_results_CF_judgment_merged_mis_classification.protest_confidence))"
   ]
  },
  {
   "cell_type": "code",
   "execution_count": 829,
   "metadata": {},
   "outputs": [],
   "source": [
    "svm_results_CF_judgment_merged_mis_classification.to_csv('Data/misclassified_svm_results_judgments_merge_23_05_2018.csv')"
   ]
  },
  {
   "cell_type": "code",
   "execution_count": 830,
   "metadata": {},
   "outputs": [
    {
     "name": "stdout",
     "output_type": "stream",
     "text": [
      "avg user confidence on the mis-classififed tweets is 0.6136361111111112\n"
     ]
    }
   ],
   "source": [
    "print('avg user confidence on the mis-classififed tweets is', \n",
    "      np.mean(svm_results_CF_judgment_merged_mis_classification.violence_confidence))"
   ]
  },
  {
   "cell_type": "code",
   "execution_count": 743,
   "metadata": {},
   "outputs": [
    {
     "data": {
      "text/plain": [
       "Text(0.5,1,'CF user confidence on mis classified tweets')"
      ]
     },
     "execution_count": 743,
     "metadata": {},
     "output_type": "execute_result"
    },
    {
     "data": {
      "image/png": "[encoded data removed]",
      "text/plain": [
       "<Figure size 432x288 with 1 Axes>"
      ]
     },
     "metadata": {},
     "output_type": "display_data"
    }
   ],
   "source": [
    "plt.hist(svm_results_CF_judgment_merged_mis_classification.violence_confidence)\n",
    "plt.title('CF user confidence on mis classified tweets')"
   ]
  },
  {
   "cell_type": "code",
   "execution_count": 744,
   "metadata": {},
   "outputs": [],
   "source": [
    "svm_results_CF_judgment_merged_misclassififcation_pos = svm_results_CF_judgment_merged_mis_classification[\n",
    "    svm_results_CF_judgment_merged_mis_classification['violence'] == 1]"
   ]
  },
  {
   "cell_type": "code",
   "execution_count": 745,
   "metadata": {},
   "outputs": [
    {
     "name": "stdout",
     "output_type": "stream",
     "text": [
      "avg user protest confidence on the mis-classififed  violent tweets is 0.8965183673469387\n"
     ]
    }
   ],
   "source": [
    "print('avg user protest confidence on the mis-classififed  violent tweets is', \n",
    "      np.mean(svm_results_CF_judgment_merged_misclassififcation_pos.protest_confidence))"
   ]
  },
  {
   "cell_type": "code",
   "execution_count": 746,
   "metadata": {},
   "outputs": [
    {
     "name": "stdout",
     "output_type": "stream",
     "text": [
      "avg user confidence on the mis-classififed  violent tweets is 0.7126265306122449\n"
     ]
    }
   ],
   "source": [
    "print('avg user confidence on the mis-classififed  violent tweets is', \n",
    "      np.mean(svm_results_CF_judgment_merged_misclassififcation_pos.violence_confidence))"
   ]
  },
  {
   "cell_type": "code",
   "execution_count": 747,
   "metadata": {},
   "outputs": [
    {
     "name": "stdout",
     "output_type": "stream",
     "text": [
      "avg svm model probability (violent) mis-classififed  violent tweets is 0.13783761073757395\n"
     ]
    }
   ],
   "source": [
    "print('avg svm model probability (violent) mis-classififed  violent tweets is', \n",
    "      np.mean(svm_results_CF_judgment_merged_misclassififcation_pos.vio_prob))"
   ]
  },
  {
   "cell_type": "code",
   "execution_count": 748,
   "metadata": {},
   "outputs": [
    {
     "name": "stdout",
     "output_type": "stream",
     "text": [
      "avg svm model probability (non violent) mis-classififed  violent tweets is 0.862162389262426\n"
     ]
    }
   ],
   "source": [
    "print('avg svm model probability (non violent) mis-classififed  violent tweets is', \n",
    "      np.mean(svm_results_CF_judgment_merged_misclassififcation_pos.non_vio_prob))"
   ]
  },
  {
   "cell_type": "code",
   "execution_count": 749,
   "metadata": {},
   "outputs": [],
   "source": [
    "svm_results_CF_judgment_merged_misclassififcation_neg = svm_results_CF_judgment_merged_mis_classification[\n",
    "    svm_results_CF_judgment_merged_mis_classification['violence'] == 0]"
   ]
  },
  {
   "cell_type": "code",
   "execution_count": 750,
   "metadata": {},
   "outputs": [
    {
     "data": {
      "text/plain": [
       "2      1.0\n",
       "42     1.0\n",
       "73     1.0\n",
       "108    1.0\n",
       "146    1.0\n",
       "149    1.0\n",
       "186    1.0\n",
       "219    1.0\n",
       "227    1.0\n",
       "232    1.0\n",
       "250    1.0\n",
       "255    1.0\n",
       "257    1.0\n",
       "270    1.0\n",
       "280    1.0\n",
       "287    1.0\n",
       "321    1.0\n",
       "353    1.0\n",
       "354    1.0\n",
       "387    1.0\n",
       "393    1.0\n",
       "429    1.0\n",
       "574    1.0\n",
       "583    1.0\n",
       "594    1.0\n",
       "608    1.0\n",
       "Name: violence_prediction, dtype: float64"
      ]
     },
     "execution_count": 750,
     "metadata": {},
     "output_type": "execute_result"
    }
   ],
   "source": [
    "svm_results_CF_judgment_merged_misclassififcation_neg['violence_prediction']"
   ]
  },
  {
   "cell_type": "code",
   "execution_count": 751,
   "metadata": {},
   "outputs": [
    {
     "name": "stdout",
     "output_type": "stream",
     "text": [
      "avg user protest confidence on the mis-classififed  non-violent tweets is 0.8730000000000001\n"
     ]
    }
   ],
   "source": [
    "print('avg user protest confidence on the mis-classififed  non-violent tweets is', \n",
    "      np.mean(svm_results_CF_judgment_merged_misclassififcation_neg.protest_confidence))"
   ]
  },
  {
   "cell_type": "code",
   "execution_count": 752,
   "metadata": {},
   "outputs": [
    {
     "name": "stdout",
     "output_type": "stream",
     "text": [
      "avg user confidence on the mis-classififed  non-violent tweets is 0.6412269230769231\n"
     ]
    }
   ],
   "source": [
    "print('avg user confidence on the mis-classififed  non-violent tweets is', \n",
    "      np.mean(svm_results_CF_judgment_merged_misclassififcation_neg.violence_confidence))"
   ]
  },
  {
   "cell_type": "code",
   "execution_count": 753,
   "metadata": {},
   "outputs": [
    {
     "name": "stdout",
     "output_type": "stream",
     "text": [
      "avg svm model probability (violent) mis-classififed  non-violent tweets is 0.5828591385529177\n"
     ]
    }
   ],
   "source": [
    "print('avg svm model probability (violent) mis-classififed  non-violent tweets is', \n",
    "      np.mean(svm_results_CF_judgment_merged_misclassififcation_neg.vio_prob))"
   ]
  },
  {
   "cell_type": "code",
   "execution_count": 754,
   "metadata": {},
   "outputs": [
    {
     "name": "stdout",
     "output_type": "stream",
     "text": [
      "avg svm model probability (non - violent) mis-classififed  non-violent tweets is 0.4171408614470824\n"
     ]
    }
   ],
   "source": [
    "print('avg svm model probability (non - violent) mis-classififed  non-violent tweets is', \n",
    "      np.mean(svm_results_CF_judgment_merged_misclassififcation_neg.non_vio_prob))"
   ]
  },
  {
   "cell_type": "code",
   "execution_count": 755,
   "metadata": {},
   "outputs": [
    {
     "name": "stderr",
     "output_type": "stream",
     "text": [
      "/Users/fatma/anaconda2/envs/py35/lib/python3.5/site-packages/matplotlib/axes/_axes.py:6462: UserWarning: The 'normed' kwarg is deprecated, and has been replaced by the 'density' kwarg.\n",
      "  warnings.warn(\"The 'normed' kwarg is deprecated, and has been \"\n"
     ]
    },
    {
     "data": {
      "image/png": "[encoded data removed]",
      "text/plain": [
       "<Figure size 432x288 with 1 Axes>"
      ]
     },
     "metadata": {},
     "output_type": "display_data"
    }
   ],
   "source": [
    "colors = ['red', 'green', 'blue']\n",
    "labels = ['svm_non_violence_prb', 'svm_violence_prb', 'CF_user_confidence_on_violence']\n",
    "plt.hist([svm_results_CF_judgment_merged_misclassififcation_pos.non_vio_prob,\n",
    "         svm_results_CF_judgment_merged_misclassififcation_pos.vio_prob,\n",
    "         svm_results_CF_judgment_merged_misclassififcation_pos.violence_confidence],stacked=True,normed=1,\n",
    "         histtype='bar',color=colors, label=labels )\n",
    "plt.legend(prop={'size': 10})\n",
    "plt.title('violence tweets (mis-classification)')\n",
    "plt.tight_layout()\n",
    "plt.show()"
   ]
  },
  {
   "cell_type": "code",
   "execution_count": 756,
   "metadata": {},
   "outputs": [
    {
     "name": "stderr",
     "output_type": "stream",
     "text": [
      "/Users/fatma/anaconda2/envs/py35/lib/python3.5/site-packages/matplotlib/axes/_axes.py:6462: UserWarning: The 'normed' kwarg is deprecated, and has been replaced by the 'density' kwarg.\n",
      "  warnings.warn(\"The 'normed' kwarg is deprecated, and has been \"\n"
     ]
    },
    {
     "data": {
      "image/png": "[encoded data removed]",
      "text/plain": [
       "<Figure size 432x288 with 1 Axes>"
      ]
     },
     "metadata": {},
     "output_type": "display_data"
    }
   ],
   "source": [
    "colors = ['red', 'green', 'blue']\n",
    "labels = ['svm_non_violence_prb', 'svm_violence_prb', 'CF_user_confidence_on_violence']\n",
    "plt.hist([svm_results_CF_judgment_merged_misclassififcation_neg.non_vio_prob,\n",
    "         svm_results_CF_judgment_merged_misclassififcation_neg.vio_prob,\n",
    "         svm_results_CF_judgment_merged_misclassififcation_neg.violence_confidence],stacked=True,normed=1,\n",
    "         histtype='bar',color=colors, label=labels )\n",
    "plt.legend(prop={'size': 10})\n",
    "plt.title('non violence tweets (mis-classification)')\n",
    "plt.tight_layout()\n",
    "plt.show()"
   ]
  },
  {
   "cell_type": "code",
   "execution_count": null,
   "metadata": {},
   "outputs": [],
   "source": []
  },
  {
   "cell_type": "code",
   "execution_count": null,
   "metadata": {},
   "outputs": [],
   "source": []
  },
  {
   "cell_type": "code",
   "execution_count": null,
   "metadata": {},
   "outputs": [],
   "source": []
  }
 ],
 "metadata": {
  "kernelspec": {
   "display_name": "Python 3",
   "language": "python",
   "name": "python3"
  },
  "language_info": {
   "codemirror_mode": {
    "name": "ipython",
    "version": 3
   },
   "file_extension": ".py",
   "mimetype": "text/x-python",
   "name": "python",
   "nbconvert_exporter": "python",
   "pygments_lexer": "ipython3",
   "version": "3.5.3"
  }
 },
 "nbformat": 4,
 "nbformat_minor": 2
}
