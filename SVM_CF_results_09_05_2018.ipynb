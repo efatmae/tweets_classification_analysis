{
 "cells": [
  {
   "cell_type": "code",
   "execution_count": 1,
   "metadata": {},
   "outputs": [
    {
     "name": "stderr",
     "output_type": "stream",
     "text": [
      "/Users/fatma/anaconda2/envs/py35/lib/python3.5/site-packages/sklearn/cross_validation.py:41: DeprecationWarning: This module was deprecated in version 0.18 in favor of the model_selection module into which all the refactored classes and functions are moved. Also note that the interface of the new CV iterators are different from that of this module. This module will be removed in 0.20.\n",
      "  \"This module will be removed in 0.20.\", DeprecationWarning)\n"
     ]
    }
   ],
   "source": [
    "import nltk\n",
    "import pandas as pd\n",
    "from sklearn.naive_bayes import MultinomialNB\n",
    "from sklearn.naive_bayes import BernoulliNB\n",
    "from sklearn.svm import SVC\n",
    "from sklearn.linear_model import SGDClassifier\n",
    "from sklearn.pipeline import Pipeline\n",
    "from sklearn.cross_validation import KFold, cross_val_score\n",
    "from sklearn.model_selection import cross_val_predict\n",
    "from sklearn.metrics import confusion_matrix, f1_score, precision_score, recall_score\n",
    "from sklearn.model_selection import train_test_split\n",
    "import numpy as np\n",
    "from sklearn.model_selection import train_test_split\n",
    "from sklearn.feature_extraction.text import CountVectorizer\n",
    "from sklearn.feature_extraction.text import TfidfTransformer\n",
    "from sklearn import metrics \n",
    "import matplotlib.pyplot as plt\n",
    "from sklearn.model_selection import learning_curve\n",
    "from sklearn.model_selection import ShuffleSplit\n",
    "from sklearn.model_selection import StratifiedKFold\n",
    "from sklearn.model_selection import permutation_test_score\n",
    "import re\n",
    "import random\n",
    "from sklearn.linear_model import LogisticRegression"
   ]
  },
  {
   "cell_type": "code",
   "execution_count": 23,
   "metadata": {},
   "outputs": [],
   "source": [
    "ready_cf_dataset_09_05_2018 = pd.read_csv(\"Data/ready_cf_dataset_09_05_2018.csv\")"
   ]
  },
  {
   "cell_type": "code",
   "execution_count": 3,
   "metadata": {},
   "outputs": [
    {
     "name": "stdout",
     "output_type": "stream",
     "text": [
      "[nltk_data] Downloading package stopwords to /Users/fatma/nltk_data...\n",
      "[nltk_data]   Package stopwords is already up-to-date!\n"
     ]
    }
   ],
   "source": [
    "import nltk\n",
    "nltk.download('stopwords')\n",
    "from nltk.corpus import stopwords"
   ]
  },
  {
   "cell_type": "code",
   "execution_count": 4,
   "metadata": {},
   "outputs": [],
   "source": [
    "def clean_str(string):\n",
    "    \"\"\"\n",
    "    Tokenization/string cleaning for all datasets except for SST.\n",
    "    Original taken from https://github.com/yoonkim/CNN_sentence/blob/master/process_data.py\n",
    "    \"\"\"\n",
    "    string = re.sub(r\"[^A-Za-z0-9(),!?\\'\\`]\", \" \", string)\n",
    "    string = re.sub(r\"\\'s\", \" \", string)\n",
    "    string = re.sub(r\"\\'ve\", \" \", string)\n",
    "    string = re.sub(r\"n\\'t\", \" \", string)\n",
    "    string = re.sub(r\"n\\'s\", \" \", string)\n",
    "    string = re.sub(r\"\\'re\", \" \", string)\n",
    "    string = re.sub(r\"\\'d\", \" \", string)\n",
    "    string = re.sub(r\"\\'ll\", \" \", string)\n",
    "    string = re.sub(r\",\", \" \", string)\n",
    "    string = re.sub(r\"!\", \" \", string)\n",
    "    string = re.sub(r\"\\(\", \" \", string)\n",
    "    string = re.sub(r\"\\)\", \" \", string)\n",
    "    string = re.sub(r\"\\?\", \" \", string)\n",
    "    string = re.sub(r\"\\s{2,}\", \" \", string)\n",
    "    string = re.sub(r\"\\//?\", \" \", string)\n",
    "    string = re.sub(r\"\\d+\", \" \", string)\n",
    "    string = re.sub(r\"\\$\", \" \", string)\n",
    "    string = re.sub(r\"\\#\", \" \", string)\n",
    "    return string.strip().lower()"
   ]
  },
  {
   "cell_type": "code",
   "execution_count": 5,
   "metadata": {},
   "outputs": [],
   "source": [
    "def remove_stop(str):\n",
    "    stop = set(stopwords.words('english'))\n",
    "    lst = str.split()\n",
    "    lst = [i for i in lst if i not in stop]\n",
    "    return ' '.join(lst)\n",
    "\n",
    "def stem (str):\n",
    "    lst = str.split()\n",
    "    lst = [st.stem(x) for x in lst]\n",
    "    return ' '.join(lst)\n",
    "\n",
    "def remove_unwanted_words(str):\n",
    "    unwanted_words = [\"httpaddress\", \"usrid\", \"D\", \"dd\", \"rt\", \"amp\", \"am\", \"pm\", '``',\n",
    "                      \"''\", \"\", \"//\", \"\\\\\", \"\\\\'s\", \"\\\\?\", \"\\?\",\"http\",\"httpaddresshttpaddresst\", \"cohttpaddressek\",\n",
    "                      \"taksim\",\"gezi\", \"park\", \"direngeziparki\", \"occupygezi\", \"istanbul\", \"turkish\",\"turkey\",\n",
    "                      \"protest\",\"direngezipark\",\"direnankara\",\"geziparki\", \"protesters\", \"protests\", \"sat\", \"sun\", \"mon,\",\n",
    "                     \"tue\", \"wed\", \"thu\", \"fri\", \"jan\", \"feb\", \"mar\", \"apr\", \"may\", \"jun\", \"jul\", \"aug\", \"sep\", \"oct\", \"nov\", \"dec\"]\n",
    "    lst = str.split(\" \")\n",
    "    lst = [i for i in lst if i not in unwanted_words]\n",
    "    return ' '.join(lst)\n",
    "\n",
    "def toLower(str):\n",
    "    lst = str.split()\n",
    "    lst = [i.lower() for i in lst]\n",
    "    return ' '.join(lst)\n",
    "\n",
    "def word_len (str):\n",
    "    lst = str.split()\n",
    "    lst = [i for i in lst if len(i)>1 and len(i) <7]\n",
    "    return ' '.join(lst)\n",
    "\n",
    "def sent_len (str):\n",
    "    lst = str.split()\n",
    "    if len(lst)>=3:\n",
    "        return ' '.join(lst)"
   ]
  },
  {
   "cell_type": "code",
   "execution_count": 6,
   "metadata": {},
   "outputs": [],
   "source": [
    "def load_data_and_labels_shuffled(positive_data_file, negative_data_file):\n",
    "    \"\"\"\n",
    "    Loads MR polarity african_data from files, splits the african_data into words and generates labels.\n",
    "    Returns split sentences and labels.\n",
    "    \"\"\"\n",
    "    # Load african_data from files\n",
    "    positive_examples = list(open(positive_data_file, \"r\").readlines())\n",
    "    positive_examples = [s.strip() for s in positive_examples]\n",
    "    positive_examples = [remove_stop(item) for item in positive_examples]\n",
    "    #print(positive_examples[0])\n",
    "    positive_examples = [toLower(item) for item in positive_examples]\n",
    "    #rint(positive_examples[0])\n",
    "    positive_examples = [clean_str(sent) for sent in positive_examples]\n",
    "    #rint(positive_examples[0])\n",
    "    #positive_examples = [stem(item) for item in positive_examples]\n",
    "    #rint(positive_examples[0])\n",
    "    positive_examples = [remove_unwanted_words(item) for item in positive_examples]\n",
    "    positive_examples = [word_len(item) for item in positive_examples]\n",
    "    positive_examples = [sent_len(item) for item in positive_examples]\n",
    "    positive_examples = list(filter(None, positive_examples))\n",
    "    negative_examples = list(open(negative_data_file, \"r\").readlines())\n",
    "    negative_examples = [s.strip() for s in negative_examples]\n",
    "    negative_examples = [toLower(item) for item in negative_examples]\n",
    "    #print(negative_examples[0])\n",
    "    negative_examples = [remove_stop(item) for item in negative_examples]\n",
    "    #print(negative_examples[0])\n",
    "    negative_examples = [clean_str(sent) for sent in negative_examples]\n",
    "    #print(negative_examples[0])\n",
    "    #ngative_examples = [stem(sent) for sent in negative_examples]\n",
    "    #pint(negative_examples[0])\n",
    "    negative_examples = [remove_unwanted_words(item) for item in negative_examples]\n",
    "    negative_examples = [word_len(item) for item in negative_examples]\n",
    "    #print(negative_examples[0])\n",
    "    negative_examples = [sent_len(item) for item in negative_examples]\n",
    "\n",
    "    negative_examples = list(filter(None, negative_examples))\n",
    "\n",
    "    # Split by words\n",
    "    x_text = positive_examples + negative_examples\n",
    "    # x_text = [clean_str(sent) for sent in x_text]\n",
    "    # Generate labels\n",
    "    positive_labels = [1 for _ in positive_examples]\n",
    "    negative_labels = [0 for _ in negative_examples]\n",
    "    y = np.concatenate([positive_labels, negative_labels], 0)\n",
    "    return [x_text, y]"
   ]
  },
  {
   "cell_type": "code",
   "execution_count": 44,
   "metadata": {},
   "outputs": [
    {
     "data": {
      "text/plain": [
       "1735"
      ]
     },
     "execution_count": 44,
     "metadata": {},
     "output_type": "execute_result"
    }
   ],
   "source": [
    "len(ready_cf_dataset_09_05_2018)"
   ]
  },
  {
   "cell_type": "code",
   "execution_count": 36,
   "metadata": {},
   "outputs": [
    {
     "data": {
      "text/plain": [
       "205"
      ]
     },
     "execution_count": 36,
     "metadata": {},
     "output_type": "execute_result"
    }
   ],
   "source": [
    "len(ready_cf_dataset_09_05_2018[ready_cf_dataset_09_05_2018[\"violence\"]==1])"
   ]
  },
  {
   "cell_type": "code",
   "execution_count": 37,
   "metadata": {},
   "outputs": [
    {
     "data": {
      "text/plain": [
       "1530"
      ]
     },
     "execution_count": 37,
     "metadata": {},
     "output_type": "execute_result"
    }
   ],
   "source": [
    "len(ready_cf_dataset_09_05_2018[ready_cf_dataset_09_05_2018[\"violence\"]==0])"
   ]
  },
  {
   "cell_type": "code",
   "execution_count": 24,
   "metadata": {},
   "outputs": [],
   "source": [
    "X_train, X_test, y_train, y_test = train_test_split(ready_cf_dataset_09_05_2018.proccd_text, \n",
    "                                                    ready_cf_dataset_09_05_2018.violence, \n",
    "                                                    test_size=0.3, random_state=0)"
   ]
  },
  {
   "cell_type": "code",
   "execution_count": 25,
   "metadata": {},
   "outputs": [],
   "source": [
    "train_df = pd.concat([X_train,y_train],axis=1)\n",
    "test_df = pd.concat([X_test,y_test],axis = 1)"
   ]
  },
  {
   "cell_type": "code",
   "execution_count": 45,
   "metadata": {},
   "outputs": [
    {
     "data": {
      "text/plain": [
       "1214"
      ]
     },
     "execution_count": 45,
     "metadata": {},
     "output_type": "execute_result"
    }
   ],
   "source": [
    "len(train_df)"
   ]
  },
  {
   "cell_type": "code",
   "execution_count": 38,
   "metadata": {},
   "outputs": [
    {
     "data": {
      "text/plain": [
       "151"
      ]
     },
     "execution_count": 38,
     "metadata": {},
     "output_type": "execute_result"
    }
   ],
   "source": [
    "len(train_df[train_df[\"violence\"]==1])"
   ]
  },
  {
   "cell_type": "code",
   "execution_count": 40,
   "metadata": {},
   "outputs": [
    {
     "data": {
      "text/plain": [
       "1063"
      ]
     },
     "execution_count": 40,
     "metadata": {},
     "output_type": "execute_result"
    }
   ],
   "source": [
    "len(train_df[train_df[\"violence\"]==0])"
   ]
  },
  {
   "cell_type": "code",
   "execution_count": 46,
   "metadata": {},
   "outputs": [
    {
     "data": {
      "text/plain": [
       "521"
      ]
     },
     "execution_count": 46,
     "metadata": {},
     "output_type": "execute_result"
    }
   ],
   "source": [
    "len(test_df)"
   ]
  },
  {
   "cell_type": "code",
   "execution_count": 42,
   "metadata": {},
   "outputs": [
    {
     "data": {
      "text/plain": [
       "54"
      ]
     },
     "execution_count": 42,
     "metadata": {},
     "output_type": "execute_result"
    }
   ],
   "source": [
    "len(test_df[test_df[\"violence\"]==1])"
   ]
  },
  {
   "cell_type": "code",
   "execution_count": 43,
   "metadata": {},
   "outputs": [
    {
     "data": {
      "text/plain": [
       "467"
      ]
     },
     "execution_count": 43,
     "metadata": {},
     "output_type": "execute_result"
    }
   ],
   "source": [
    "len(test_df[test_df[\"violence\"]==0])"
   ]
  },
  {
   "cell_type": "code",
   "execution_count": 26,
   "metadata": {},
   "outputs": [],
   "source": [
    "pipeline_violence_Svc = Pipeline([\n",
    "    ('vectorizer',  CountVectorizer(ngram_range=(1, 2),stop_words='english',  min_df=3)),\n",
    "    ('tfidf_transformer',  TfidfTransformer()),\n",
    "    ('classifier',  SVC(kernel='linear', gamma=2)) ])\n",
    "\n",
    "    \n",
    "scores = cross_val_score(pipeline_violence_Svc, train_df.proccd_text, train_df.violence, cv=5)"
   ]
  },
  {
   "cell_type": "code",
   "execution_count": 56,
   "metadata": {},
   "outputs": [
    {
     "name": "stdout",
     "output_type": "stream",
     "text": [
      "('scores', array([ 0.86885246,  0.86831276,  0.89300412,  0.88429752,  0.88842975]))\n",
      "('scores mean', 0.88057932083432999)\n",
      "('scores std', 0.020353233995855032)\n"
     ]
    }
   ],
   "source": [
    "print('scores',scores)\n",
    "print('scores mean',scores.mean())\n",
    "print('scores std',scores.std() * 2)"
   ]
  },
  {
   "cell_type": "code",
   "execution_count": 51,
   "metadata": {},
   "outputs": [],
   "source": [
    "cv_predict = cross_val_predict(pipeline_violence_Svc, train_df.proccd_text, train_df.violence, cv=5)\n",
    "cv_predict_scores = metrics.roc_auc_score(train_df.violence, cv_predict)"
   ]
  },
  {
   "cell_type": "code",
   "execution_count": 52,
   "metadata": {},
   "outputs": [
    {
     "data": {
      "text/plain": [
       "0.59941250864415974"
      ]
     },
     "execution_count": 52,
     "metadata": {},
     "output_type": "execute_result"
    }
   ],
   "source": [
    "cv_predict_scores"
   ]
  },
  {
   "cell_type": "code",
   "execution_count": 28,
   "metadata": {},
   "outputs": [
    {
     "data": {
      "text/plain": [
       "Pipeline(steps=[('vectorizer', CountVectorizer(analyzer=u'word', binary=False, decode_error=u'strict',\n",
       "        dtype=<type 'numpy.int64'>, encoding=u'utf-8', input=u'content',\n",
       "        lowercase=True, max_df=1.0, max_features=None, min_df=3,\n",
       "        ngram_range=(1, 2), preprocessor=None, stop_words='english',...,\n",
       "  max_iter=-1, probability=False, random_state=None, shrinking=True,\n",
       "  tol=0.001, verbose=False))])"
      ]
     },
     "execution_count": 28,
     "metadata": {},
     "output_type": "execute_result"
    }
   ],
   "source": [
    "pipeline_violence_Svc.fit(train_df.proccd_text, train_df.violence)"
   ]
  },
  {
   "cell_type": "code",
   "execution_count": 29,
   "metadata": {},
   "outputs": [],
   "source": [
    "prediction = pipeline_violence_Svc.predict(test_df.proccd_text)"
   ]
  },
  {
   "cell_type": "code",
   "execution_count": 32,
   "metadata": {},
   "outputs": [
    {
     "data": {
      "text/plain": [
       "0.58402728210008714"
      ]
     },
     "execution_count": 32,
     "metadata": {},
     "output_type": "execute_result"
    }
   ],
   "source": [
    "metrics.roc_auc_score(test_df.violence,prediction)"
   ]
  },
  {
   "cell_type": "code",
   "execution_count": 33,
   "metadata": {},
   "outputs": [
    {
     "data": {
      "text/plain": [
       "array([[459,   8],\n",
       "       [ 44,  10]])"
      ]
     },
     "execution_count": 33,
     "metadata": {},
     "output_type": "execute_result"
    }
   ],
   "source": [
    "metrics.confusion_matrix(test_df.violence,prediction)"
   ]
  },
  {
   "cell_type": "code",
   "execution_count": null,
   "metadata": {},
   "outputs": [],
   "source": []
  },
  {
   "cell_type": "markdown",
   "metadata": {},
   "source": [
    "# svm on the same DS used in dann_tf_code"
   ]
  },
  {
   "cell_type": "code",
   "execution_count": 7,
   "metadata": {},
   "outputs": [],
   "source": [
    "text, y = load_data_and_labels_shuffled('Data/Turkish_tweets_CF_results_09_05_2018_prccd_pos.txt', 'Data/Turkish_tweets_CF_results_09_05_2018_prccd_neg.txt')"
   ]
  },
  {
   "cell_type": "code",
   "execution_count": 8,
   "metadata": {},
   "outputs": [],
   "source": [
    "df = pd.DataFrame({'proccd_text': list(text),'violence': y})"
   ]
  },
  {
   "cell_type": "code",
   "execution_count": 9,
   "metadata": {},
   "outputs": [
    {
     "data": {
      "text/plain": [
       "1333"
      ]
     },
     "execution_count": 9,
     "metadata": {},
     "output_type": "execute_result"
    }
   ],
   "source": [
    "len(df)"
   ]
  },
  {
   "cell_type": "code",
   "execution_count": 10,
   "metadata": {},
   "outputs": [
    {
     "data": {
      "text/plain": [
       "180"
      ]
     },
     "execution_count": 10,
     "metadata": {},
     "output_type": "execute_result"
    }
   ],
   "source": [
    "len(df[df[\"violence\"]==1])"
   ]
  },
  {
   "cell_type": "code",
   "execution_count": 11,
   "metadata": {},
   "outputs": [
    {
     "data": {
      "text/plain": [
       "1153"
      ]
     },
     "execution_count": 11,
     "metadata": {},
     "output_type": "execute_result"
    }
   ],
   "source": [
    "len(df[df[\"violence\"]==0])"
   ]
  },
  {
   "cell_type": "code",
   "execution_count": null,
   "metadata": {},
   "outputs": [],
   "source": []
  },
  {
   "cell_type": "code",
   "execution_count": 27,
   "metadata": {},
   "outputs": [
    {
     "name": "stdout",
     "output_type": "stream",
     "text": [
      "training set size 666\n",
      "training pos 87\n",
      "training neg 579\n",
      "test set size 667\n",
      "test pos 93\n",
      "test neg 574\n",
      "scores [0.88059701 0.82089552 0.89552239 0.82089552 0.85074627 0.86567164\n",
      " 0.8358209  0.89393939 0.89393939 0.84615385]\n",
      "scores mean 0.8604181887763976\n",
      "scores std 0.05635799021744995\n",
      "cv auc 0.602257161574653\n",
      "test set auc 0.6627608557191563\n",
      "[[551  23]\n",
      " [ 59  34]]\n",
      "training set size 666\n",
      "training pos 86\n",
      "training neg 580\n",
      "test set size 667\n",
      "test pos 94\n",
      "test neg 573\n",
      "scores [0.88059701 0.91044776 0.80597015 0.88059701 0.91044776 0.92537313\n",
      " 0.92424242 0.86363636 0.86363636 0.93939394]\n",
      "scores mean 0.8904341926729986\n",
      "scores std 0.07569895867099173\n",
      "cv auc 0.684522854851644\n",
      "test set auc 0.6557962942334113\n",
      "[[526  47]\n",
      " [ 57  37]]\n",
      "training set size 666\n",
      "training pos 88\n",
      "training neg 578\n",
      "test set size 667\n",
      "test pos 92\n",
      "test neg 575\n",
      "scores [0.89552239 0.92537313 0.85074627 0.88059701 0.89552239 0.86567164\n",
      " 0.86567164 0.8358209  0.84615385 0.89230769]\n",
      "scores mean 0.8753386911595866\n",
      "scores std 0.052302611769167\n",
      "cv auc 0.6777288455489148\n",
      "test set auc 0.6002173913043477\n",
      "[[559  16]\n",
      " [ 71  21]]\n",
      "training set size 666\n",
      "training pos 86\n",
      "training neg 580\n",
      "test set size 667\n",
      "test pos 94\n",
      "test neg 573\n",
      "scores [0.89552239 0.88059701 0.88059701 0.88059701 0.91044776 0.92537313\n",
      " 0.87878788 0.87878788 0.84848485 0.90909091]\n",
      "scores mean 0.8888285843509725\n",
      "scores std 0.041428427525307385\n",
      "cv auc 0.6638532477947072\n",
      "test set auc 0.6678456054361146\n",
      "[[552  21]\n",
      " [ 59  35]]\n",
      "training set size 666\n",
      "training pos 95\n",
      "training neg 571\n",
      "test set size 667\n",
      "test pos 85\n",
      "test neg 582\n",
      "scores [0.88235294 0.85074627 0.89552239 0.88059701 0.89552239 0.87878788\n",
      " 0.87878788 0.89393939 0.83333333 0.90909091]\n",
      "scores mean 0.8798680394817356\n",
      "scores std 0.04273028168150008\n",
      "cv auc 0.6930223983777307\n",
      "test set auc 0.6465332524762483\n",
      "[[554  28]\n",
      " [ 56  29]]\n",
      "training set size 666\n",
      "training pos 79\n",
      "training neg 587\n",
      "test set size 667\n",
      "test pos 101\n",
      "test neg 566\n",
      "scores [0.86567164 0.91044776 0.91044776 0.86567164 0.86567164 0.85074627\n",
      " 0.86567164 0.90909091 0.86363636 0.92307692]\n",
      "scores mean 0.883013255401315\n",
      "scores std 0.050635933186761184\n",
      "cv auc 0.6268302676126194\n",
      "test set auc 0.6651506140013294\n",
      "[[540  26]\n",
      " [ 63  38]]\n",
      "training set size 666\n",
      "training pos 84\n",
      "training neg 582\n",
      "test set size 667\n",
      "test pos 96\n",
      "test neg 571\n",
      "scores [0.91176471 0.88235294 0.88059701 0.89552239 0.90909091 0.87878788\n",
      " 0.83333333 0.90909091 0.87878788 0.89393939]\n",
      "scores mean 0.8873267353074201\n",
      "scores std 0.043756637290960285\n",
      "cv auc 0.6605301914580265\n",
      "test set auc 0.6144009048453006\n",
      "[[547  24]\n",
      " [ 70  26]]\n",
      "training set size 666\n",
      "training pos 105\n",
      "training neg 561\n",
      "test set size 667\n",
      "test pos 75\n",
      "test neg 592\n",
      "scores [0.76470588 0.86567164 0.88059701 0.88059701 0.89552239 0.84848485\n",
      " 0.84848485 0.83333333 0.87878788 0.86363636]\n",
      "scores mean 0.8559821214781707\n",
      "scores std 0.0704401393283703\n",
      "cv auc 0.6667175961293609\n",
      "test set auc 0.637195945945946\n",
      "[[565  27]\n",
      " [ 51  24]]\n",
      "training set size 666\n",
      "training pos 93\n",
      "training neg 573\n",
      "test set size 667\n",
      "test pos 87\n",
      "test neg 580\n",
      "scores [0.85294118 0.83823529 0.83823529 0.84848485 0.87878788 0.93939394\n",
      " 0.89393939 0.90909091 0.89393939 0.86363636]\n",
      "scores mean 0.8756684491978609\n",
      "scores std 0.06342906263005466\n",
      "cv auc 0.6843720092326748\n",
      "test set auc 0.6402298850574714\n",
      "[[556  24]\n",
      " [ 59  28]]\n"
     ]
    }
   ],
   "source": [
    "test_predict_auc_all =[]\n",
    "for i in range(1,10):\n",
    "    df_X_train, df_X_test, df_y_train, df_y_test = train_test_split(df.proccd_text, \n",
    "                                                    df.violence, \n",
    "                                                    test_size=0.5)\n",
    "    df_train_df = pd.concat([df_X_train,df_y_train],axis=1)\n",
    "    df_test_df = pd.concat([df_X_test,df_y_test],axis = 1)\n",
    "    print('training set size', len(df_train_df))\n",
    "    print('training pos', len(df_train_df[df_train_df[\"violence\"]==1]))\n",
    "    print('training neg', len(df_train_df[df_train_df[\"violence\"]==0]))\n",
    "    print('test set size', len(df_test_df))\n",
    "    print('test pos', len(df_test_df[df_test_df[\"violence\"]==1]))\n",
    "    print('test neg', len(df_test_df[df_test_df[\"violence\"]==0]))\n",
    "    \n",
    "    df_pipeline_violence_Svc = Pipeline([\n",
    "    ('vectorizer',  CountVectorizer(ngram_range=(1, 2),stop_words='english',  min_df=3)),\n",
    "    ('classifier',  SVC(kernel='linear', probability=True)) ])\n",
    "\n",
    "    \n",
    "    df_scores = cross_val_score(df_pipeline_violence_Svc, df_train_df.proccd_text, df_train_df.violence, cv=10)\n",
    "    print('scores',df_scores)\n",
    "    print('scores mean',df_scores.mean())\n",
    "    print('scores std',df_scores.std() * 2)\n",
    "    \n",
    "    df_cv_predict = cross_val_predict(df_pipeline_violence_Svc, df_train_df.proccd_text, df_train_df.violence, cv=10)\n",
    "    df_cv_predict_scores = metrics.roc_auc_score(df_train_df.violence, df_cv_predict)\n",
    "    print('cv auc', df_cv_predict_scores)\n",
    "    \n",
    "    df_pipeline_violence_Svc_model = df_pipeline_violence_Svc.fit(df_train_df.proccd_text, df_train_df.violence)\n",
    "    df_prediction = df_pipeline_violence_Svc_model.predict(df_test_df.proccd_text)\n",
    "    df_predict_prob = df_pipeline_violence_Svc_model.predict_proba(df_test_df.proccd_text)\n",
    "    test_predict_auc = metrics.roc_auc_score(df_test_df.violence,df_prediction)\n",
    "    print('test set auc', test_predict_auc)\n",
    "    test_predict_auc_all.append(test_predict_auc)\n",
    "    print(metrics.confusion_matrix(df_test_df.violence,df_prediction))"
   ]
  },
  {
   "cell_type": "code",
   "execution_count": 28,
   "metadata": {},
   "outputs": [
    {
     "data": {
      "text/plain": [
       "0.6433478610021472"
      ]
     },
     "execution_count": 28,
     "metadata": {},
     "output_type": "execute_result"
    }
   ],
   "source": [
    "np.mean(test_predict_auc_all)"
   ]
  },
  {
   "cell_type": "code",
   "execution_count": 29,
   "metadata": {},
   "outputs": [],
   "source": [
    "df_test_df['svm_prdiction'] = df_prediction"
   ]
  },
  {
   "cell_type": "code",
   "execution_count": 34,
   "metadata": {},
   "outputs": [
    {
     "data": {
      "text/plain": [
       "0"
      ]
     },
     "execution_count": 34,
     "metadata": {},
     "output_type": "execute_result"
    }
   ],
   "source": [
    "df_prediction[0]"
   ]
  },
  {
   "cell_type": "code",
   "execution_count": 35,
   "metadata": {},
   "outputs": [
    {
     "data": {
      "text/plain": [
       "array([0.90611842, 0.91599844, 0.96453685, 0.94646044, 0.9392396 ,\n",
       "       0.94552106, 0.87060375, 0.93272095, 0.91657136, 0.95292846,\n",
       "       0.59919543, 0.6299857 , 0.95397339, 0.93272095, 0.95067852,\n",
       "       0.24985528, 0.92045423, 0.8706347 , 0.98910086, 0.9470751 ,\n",
       "       0.9580288 , 0.9003339 , 0.95396814, 0.87559225, 0.93818358,\n",
       "       0.93780951, 0.93907114, 0.93891251, 0.9822848 , 0.93272095,\n",
       "       0.7728008 , 0.8904012 , 0.94393188, 0.93272095, 0.81543005,\n",
       "       0.96956701, 0.93272095, 0.91389529, 0.93648756, 0.93272095,\n",
       "       0.93272095, 0.93272095, 0.77286331, 0.93272095, 0.7890198 ,\n",
       "       0.63602316, 0.89462509, 0.93272095, 0.93206414, 0.96377094,\n",
       "       0.92536193, 0.87765674, 0.93272095, 0.93272095, 0.8181539 ,\n",
       "       0.8619701 , 0.93272095, 0.97089547, 0.53426665, 0.93272095,\n",
       "       0.8181539 , 0.9830676 , 0.84760577, 0.9286054 , 0.93272095,\n",
       "       0.85214177, 0.90327074, 0.9580288 , 0.9709391 , 0.93272095,\n",
       "       0.96552478, 0.56308506, 0.87765674, 0.93272095, 0.77286331,\n",
       "       0.76644671, 0.93427454, 0.94603376, 0.89616735, 0.88451235,\n",
       "       0.89813334, 0.91047375, 0.85815625, 0.94582552, 0.8896105 ,\n",
       "       0.87060997, 0.8923411 , 0.87765674, 0.93272095, 0.68642117,\n",
       "       0.97065739, 0.25240951, 0.77286331, 0.93272095, 0.66627792,\n",
       "       0.97921456, 0.93272095, 0.5       , 0.93821256, 0.93272095,\n",
       "       0.86379616, 0.93272095, 0.93272095, 0.96453685, 0.8488879 ,\n",
       "       0.88600842, 0.93272095, 0.93130019, 0.93272095, 0.94646044,\n",
       "       0.86876558, 0.90611842, 0.97110763, 0.87065869, 0.8706097 ,\n",
       "       0.93272095, 0.93272095, 0.79833238, 0.96707615, 0.89813334,\n",
       "       0.93891251, 0.93272095, 0.91432455, 0.93272095, 0.95160892,\n",
       "       0.76957805, 0.97524803, 0.93272095, 0.93272095, 0.63602316,\n",
       "       0.98566937, 0.87060997, 0.94272609, 0.9392396 , 0.82710537,\n",
       "       0.90251878, 0.93791145, 0.95786249, 0.77286331, 0.76890318,\n",
       "       0.93458457, 0.77968184, 0.96532275, 0.93272095, 0.66204968,\n",
       "       0.88611472, 0.63112542, 0.98922389, 0.93272095, 0.95946685,\n",
       "       0.8706398 , 0.77286331, 0.870961  , 0.88652519, 0.95885711,\n",
       "       0.77286331, 0.90251878, 0.69953006, 0.63602316, 0.93272095,\n",
       "       0.93272095, 0.64990897, 0.93272095, 0.98857783, 0.8343388 ,\n",
       "       0.93891251, 0.77810108, 0.90251878, 0.95228574, 0.90611842,\n",
       "       0.77968184, 0.95357427, 0.91726222, 0.55670519, 0.91047375,\n",
       "       0.6408447 , 0.77286331, 0.79635095, 0.9580288 , 0.78783831,\n",
       "       0.93746422, 0.97326605, 0.79695522, 0.96664659, 0.78673832,\n",
       "       0.9547968 , 0.93272095, 0.93322574, 0.93034456, 0.91317022,\n",
       "       0.93272095, 0.93843331, 0.89344179, 0.59095389, 0.77510406,\n",
       "       0.88611472, 0.93633904, 0.87060725, 0.94002435, 0.87311555,\n",
       "       0.03162555, 0.92786129, 0.93804063, 0.97884304, 0.98206839,\n",
       "       0.91599844, 0.76565482, 0.95946685, 0.94166227, 0.94466365,\n",
       "       0.6903897 , 0.94393188, 0.94475074, 0.92536193, 0.93272095,\n",
       "       0.41163591, 0.93821256, 0.47363258, 0.93272095, 0.87062452,\n",
       "       0.91047375, 0.93272095, 0.91582918, 0.87060997, 0.93132625,\n",
       "       0.92327103, 0.93907114, 0.97734819, 0.93365093, 0.87553446,\n",
       "       0.9376093 , 0.93272095, 0.85283061, 0.8351076 , 0.96454324,\n",
       "       0.89610345, 0.85594527, 0.8250823 , 0.77289532, 0.98805817,\n",
       "       0.53426665, 0.93272095, 0.96219095, 0.93927156, 0.89771897,\n",
       "       0.93272095, 0.85841775, 0.95053486, 0.93272095, 0.77286331,\n",
       "       0.97065122, 0.64842092, 0.93633904, 0.96377094, 0.77286331,\n",
       "       0.93821256, 0.94644926, 0.90878249, 0.95657199, 0.97016728,\n",
       "       0.973649  , 0.98637267, 0.86813125, 0.81409049, 0.76674069,\n",
       "       0.8904012 , 0.93272095, 0.9558748 , 0.57852274, 0.93272095,\n",
       "       0.96395256, 0.80725709, 0.97084148, 0.9200283 , 0.93272095,\n",
       "       0.93272095, 0.76890318, 0.936209  , 0.94388   , 0.91563197,\n",
       "       0.9433558 , 0.28251456, 0.97050581, 0.95299683, 0.86763783,\n",
       "       0.94755801, 0.84077076, 0.96450592, 0.83959494, 0.6299857 ,\n",
       "       0.90251878, 0.91956853, 0.96377094, 0.8706398 , 0.89900749,\n",
       "       0.14110553, 0.81634219, 0.59754178, 0.95977996, 0.91784311,\n",
       "       0.88028812, 0.94648282, 0.77286331, 0.77286331, 0.96453685,\n",
       "       0.97607585, 0.86005243, 0.96895007, 0.95621284, 0.96707615,\n",
       "       0.93272095, 0.73140691, 0.93272095, 0.90878249, 0.72799495,\n",
       "       0.7728008 , 0.5147821 , 0.93272095, 0.94644926, 0.90448941,\n",
       "       0.63166045, 0.98866287, 0.85678731, 0.96532275, 0.94434001,\n",
       "       0.94474092, 0.95930755, 0.91056439, 0.9580288 , 0.78778011,\n",
       "       0.9580288 , 0.87765674, 0.88575555, 0.9286054 , 0.90611842,\n",
       "       0.55435952, 0.90016011, 0.48272819, 0.93272095, 0.93272095,\n",
       "       0.53426665, 0.81906485, 0.77286331, 0.87765674, 0.93272095,\n",
       "       0.93272095, 0.93843331, 0.59496485, 0.93272095, 0.77687253,\n",
       "       0.86655027, 0.88223374, 0.90611842, 0.94040671, 0.93272095,\n",
       "       0.87765674, 0.94467085, 0.72799495, 0.93272095, 0.94756158,\n",
       "       0.90127125, 0.89056887, 0.72400749, 0.77286331, 0.92857344,\n",
       "       0.63602316, 0.96462879, 0.93272095, 0.95095947, 0.86844727,\n",
       "       0.91426945, 0.96461542, 0.92046084, 0.93272095, 0.93272095,\n",
       "       0.78673832, 0.77286331, 0.91873513, 0.98129412, 0.77286331,\n",
       "       0.94388   , 0.93272095, 0.86436089, 0.90878249, 0.93130019,\n",
       "       0.89800353, 0.93907114, 0.87765674, 0.93272095, 0.95053486,\n",
       "       0.8181539 , 0.97641527, 0.93272095, 0.96374592, 0.94931078,\n",
       "       0.93272095, 0.83317575, 0.9147651 , 0.93272095, 0.90251878,\n",
       "       0.97110763, 0.88520798, 0.93272095, 0.9286054 , 0.87058569,\n",
       "       0.83567936, 0.96003871, 0.93272095, 0.97050581, 0.95485752,\n",
       "       0.88375574, 0.93821256, 0.94059022, 0.96984156, 0.41825435,\n",
       "       0.93272095, 0.93272095, 0.93633904, 0.93272095, 0.95678978,\n",
       "       0.90611842, 0.84976055, 0.72916056, 0.5       , 0.93272095,\n",
       "       0.92757576, 0.93272095, 0.58034441, 0.98065872, 0.93272095,\n",
       "       0.94417015, 0.93891251, 0.93272095, 0.94648282, 0.90611842,\n",
       "       0.95668825, 0.94471501, 0.88640278, 0.92539202, 0.8750375 ,\n",
       "       0.94166227, 0.92488002, 0.93272095, 0.90878249, 0.91599844,\n",
       "       0.77184427, 0.97980014, 0.98116283, 0.95902739, 0.93272095,\n",
       "       0.91564948, 0.94525914, 0.9318801 , 0.94601973, 0.56259996,\n",
       "       0.93272095, 0.9327324 , 0.93272095, 0.97892081, 0.95859414,\n",
       "       0.87765674, 0.90909122, 0.73648108, 0.87780922, 0.96532275,\n",
       "       0.89269711, 0.93272095, 0.94528736, 0.95053486, 0.52037399,\n",
       "       0.93272095, 0.93272095, 0.98008894, 0.93272095, 0.39919688,\n",
       "       0.94125206, 0.90611842, 0.95090574, 0.86956111, 0.93272095,\n",
       "       0.96622952, 0.89328017, 0.70317394, 0.93272095, 0.90611842,\n",
       "       0.42125551, 0.98635007, 0.75266184, 0.8827897 , 0.56259996,\n",
       "       0.92857344, 0.93272095, 0.87765674, 0.90878249, 0.98471257,\n",
       "       0.97859085, 0.93272095, 0.94925288, 0.8706398 , 0.96377094,\n",
       "       0.8845593 , 0.9498632 , 0.93130019, 0.16611527, 0.8396195 ,\n",
       "       0.93272095, 0.92857344, 0.97859085, 0.93272095, 0.32239285,\n",
       "       0.93272095, 0.93274829, 0.93272095, 0.83183982, 0.93272095,\n",
       "       0.96532275, 0.93272095, 0.94648282, 0.95681877, 0.96609986,\n",
       "       0.91599844, 0.92204839, 0.73125734, 0.95228574, 0.7728008 ,\n",
       "       0.96532275, 0.93272095, 0.88970384, 0.96011893, 0.91599844,\n",
       "       0.92204839, 0.87765674, 0.95883365, 0.35309417, 0.7005024 ,\n",
       "       0.97268937, 0.93272095, 0.9595371 , 0.91599844, 0.93272095,\n",
       "       0.9147651 , 0.8896105 , 0.95786249, 0.91599844, 0.93272095,\n",
       "       0.73635598, 0.9806552 , 0.96446577, 0.97789832, 0.93272095,\n",
       "       0.94930356, 0.93272095, 0.96083805, 0.57389982, 0.97866306,\n",
       "       0.87678679, 0.93524912, 0.94925288, 0.93272095, 0.95501965,\n",
       "       0.94200627, 0.93272095, 0.85214177, 0.93932282, 0.93132625,\n",
       "       0.93272095, 0.93272095, 0.90878249, 0.93272095, 0.77755803,\n",
       "       0.93761545, 0.96306139, 0.5831278 , 0.94040671, 0.97229094,\n",
       "       0.94646044, 0.93272095, 0.83497321, 0.44645749, 0.91721392,\n",
       "       0.90491652, 0.97734819, 0.96377094, 0.62788512, 0.76449966,\n",
       "       0.8570318 , 0.89813334, 0.87060997, 0.86158363, 0.93272095,\n",
       "       0.97104305, 0.98167763, 0.73958807, 0.76890318, 0.94023437,\n",
       "       0.93272095, 0.88403025, 0.87765674, 0.63602316, 0.93272095,\n",
       "       0.77442338, 0.93272095, 0.83715124, 0.96377094, 0.96707615,\n",
       "       0.77968184, 0.87765674, 0.93341457, 0.7728871 , 0.71613358,\n",
       "       0.93272095, 0.94474092, 0.95380154, 0.91582918, 0.77286331,\n",
       "       0.94093851, 0.95824752, 0.86758311, 0.84527378, 0.60935268,\n",
       "       0.93768864, 0.78629446, 0.78503804, 0.94648282, 0.91428894,\n",
       "       0.90611842, 0.69441132, 0.77286331, 0.82323499, 0.93550827,\n",
       "       0.94697497, 0.94509148, 0.7825252 , 0.8181539 , 0.93272095,\n",
       "       0.91917182, 0.94629001, 0.89727504, 0.94474092, 0.93272095,\n",
       "       0.93272095, 0.93272095, 0.94466365, 0.93272095, 0.91170855,\n",
       "       0.95455779, 0.94644926, 0.93272095, 0.93272095, 0.93272095,\n",
       "       0.98660839, 0.87553446, 0.94467085, 0.7996296 , 0.93272095,\n",
       "       0.95678978, 0.8396195 , 0.72234679, 0.93822851, 0.73635598,\n",
       "       0.8706771 , 0.66636882, 0.90611842, 0.85343481, 0.93272095,\n",
       "       0.93272095, 0.93342591])"
      ]
     },
     "execution_count": 35,
     "metadata": {},
     "output_type": "execute_result"
    }
   ],
   "source": [
    "df_predict_prob[:,0]"
   ]
  },
  {
   "cell_type": "code",
   "execution_count": 36,
   "metadata": {},
   "outputs": [],
   "source": [
    "df_test_df['svm_0_probabilities(non_violence)'] = df_predict_prob[:,0]\n",
    "df_test_df['svm_1_probabilities(violence)'] = df_predict_prob[:,1]"
   ]
  },
  {
   "cell_type": "code",
   "execution_count": 38,
   "metadata": {},
   "outputs": [],
   "source": [
    "df_test_df.to_csv('Data/svm_predctions.csv')"
   ]
  },
  {
   "cell_type": "code",
   "execution_count": 16,
   "metadata": {},
   "outputs": [
    {
     "data": {
      "text/plain": [
       "798"
      ]
     },
     "execution_count": 16,
     "metadata": {},
     "output_type": "execute_result"
    }
   ],
   "source": [
    "len(df_train_df[df_train_df[\"violence\"]==0])"
   ]
  },
  {
   "cell_type": "code",
   "execution_count": 17,
   "metadata": {},
   "outputs": [
    {
     "data": {
      "text/plain": [
       "400"
      ]
     },
     "execution_count": 17,
     "metadata": {},
     "output_type": "execute_result"
    }
   ],
   "source": [
    "len(df_test_df)"
   ]
  },
  {
   "cell_type": "code",
   "execution_count": 18,
   "metadata": {},
   "outputs": [
    {
     "data": {
      "text/plain": [
       "45"
      ]
     },
     "execution_count": 18,
     "metadata": {},
     "output_type": "execute_result"
    }
   ],
   "source": [
    "\n",
    "len(df_test_df[df_test_df[\"violence\"]==1])\n"
   ]
  },
  {
   "cell_type": "code",
   "execution_count": 19,
   "metadata": {},
   "outputs": [
    {
     "data": {
      "text/plain": [
       "355"
      ]
     },
     "execution_count": 19,
     "metadata": {},
     "output_type": "execute_result"
    }
   ],
   "source": [
    "\n",
    "len(df_test_df[df_test_df[\"violence\"]==0])"
   ]
  },
  {
   "cell_type": "code",
   "execution_count": 20,
   "metadata": {},
   "outputs": [],
   "source": [
    "df_pipeline_violence_Svc = Pipeline([\n",
    "    ('vectorizer',  CountVectorizer(ngram_range=(1, 2),stop_words='english',  min_df=3)),\n",
    "    ('classifier',  SVC(kernel='linear', gamma=2)) ])\n",
    "\n",
    "    \n",
    "df_scores = cross_val_score(df_pipeline_violence_Svc, df_train_df.proccd_text, df_train_df.violence, cv=5)"
   ]
  },
  {
   "cell_type": "code",
   "execution_count": 21,
   "metadata": {},
   "outputs": [
    {
     "name": "stdout",
     "output_type": "stream",
     "text": [
      "('scores', array([ 0.90374332,  0.86631016,  0.86096257,  0.8172043 ,  0.89247312]))\n",
      "('scores mean', 0.8681386924271175)\n",
      "('scores std', 0.060060009965560136)\n"
     ]
    }
   ],
   "source": [
    "print('scores',df_scores)\n",
    "print('scores mean',df_scores.mean())\n",
    "print('scores std',df_scores.std() * 2)"
   ]
  },
  {
   "cell_type": "code",
   "execution_count": 22,
   "metadata": {},
   "outputs": [],
   "source": [
    "df_cv_predict = cross_val_predict(df_pipeline_violence_Svc, df_train_df.proccd_text, df_train_df.violence, cv=5)\n",
    "df_cv_predict_scores = metrics.roc_auc_score(df_train_df.violence, df_cv_predict)"
   ]
  },
  {
   "cell_type": "code",
   "execution_count": 23,
   "metadata": {},
   "outputs": [
    {
     "data": {
      "text/plain": [
       "0.66752993595098864"
      ]
     },
     "execution_count": 23,
     "metadata": {},
     "output_type": "execute_result"
    }
   ],
   "source": [
    "df_cv_predict_scores"
   ]
  },
  {
   "cell_type": "code",
   "execution_count": 24,
   "metadata": {},
   "outputs": [
    {
     "data": {
      "text/plain": [
       "Pipeline(steps=[('vectorizer', CountVectorizer(analyzer=u'word', binary=False, decode_error=u'strict',\n",
       "        dtype=<type 'numpy.int64'>, encoding=u'utf-8', input=u'content',\n",
       "        lowercase=True, max_df=1.0, max_features=None, min_df=3,\n",
       "        ngram_range=(1, 2), preprocessor=None, stop_words='english',...,\n",
       "  max_iter=-1, probability=False, random_state=None, shrinking=True,\n",
       "  tol=0.001, verbose=False))])"
      ]
     },
     "execution_count": 24,
     "metadata": {},
     "output_type": "execute_result"
    }
   ],
   "source": [
    "df_pipeline_violence_Svc.fit(df_train_df.proccd_text, df_train_df.violence)"
   ]
  },
  {
   "cell_type": "code",
   "execution_count": 25,
   "metadata": {},
   "outputs": [],
   "source": [
    "df_prediction = df_pipeline_violence_Svc.predict(df_test_df.proccd_text)"
   ]
  },
  {
   "cell_type": "code",
   "execution_count": 26,
   "metadata": {},
   "outputs": [
    {
     "data": {
      "text/plain": [
       "0.6912363067292645"
      ]
     },
     "execution_count": 26,
     "metadata": {},
     "output_type": "execute_result"
    }
   ],
   "source": [
    "metrics.roc_auc_score(df_test_df.violence,df_prediction)"
   ]
  },
  {
   "cell_type": "code",
   "execution_count": 27,
   "metadata": {},
   "outputs": [
    {
     "data": {
      "text/plain": [
       "array([[333,  22],\n",
       "       [ 25,  20]])"
      ]
     },
     "execution_count": 27,
     "metadata": {},
     "output_type": "execute_result"
    }
   ],
   "source": [
    "metrics.confusion_matrix(df_test_df.violence,df_prediction)"
   ]
  },
  {
   "cell_type": "markdown",
   "metadata": {},
   "source": [
    "# Logistic regreswsion"
   ]
  },
  {
   "cell_type": "code",
   "execution_count": 28,
   "metadata": {},
   "outputs": [],
   "source": [
    "lr_pipeline_violence_Svc = Pipeline([\n",
    "    ('vectorizer',  CountVectorizer(ngram_range=(1, 2),stop_words='english',  min_df=3)),\n",
    "    ('classifier',  LogisticRegression()) ])\n",
    "\n",
    "    \n",
    "lr_scores = cross_val_score(lr_pipeline_violence_Svc, df_train_df.proccd_text, df_train_df.violence, cv=5)"
   ]
  },
  {
   "cell_type": "code",
   "execution_count": 29,
   "metadata": {},
   "outputs": [
    {
     "name": "stdout",
     "output_type": "stream",
     "text": [
      "('scores', array([ 0.90374332,  0.87700535,  0.87700535,  0.86021505,  0.88172043]))\n",
      "('scores mean', 0.87993789891323093)\n",
      "('scores std', 0.027943737931744168)\n"
     ]
    }
   ],
   "source": [
    "print('scores',lr_scores)\n",
    "print('scores mean',lr_scores.mean())\n",
    "print('scores std',lr_scores.std() * 2)"
   ]
  },
  {
   "cell_type": "code",
   "execution_count": 30,
   "metadata": {},
   "outputs": [],
   "source": [
    "lr_cv_predict = cross_val_predict(lr_pipeline_violence_Svc, df_train_df.proccd_text, df_train_df.violence, cv=5)\n",
    "lr_cv_predict_scores = metrics.roc_auc_score(df_train_df.violence, lr_cv_predict)"
   ]
  },
  {
   "cell_type": "code",
   "execution_count": 31,
   "metadata": {},
   "outputs": [
    {
     "data": {
      "text/plain": [
       "0.65595934280144808"
      ]
     },
     "execution_count": 31,
     "metadata": {},
     "output_type": "execute_result"
    }
   ],
   "source": [
    "lr_cv_predict_scores"
   ]
  },
  {
   "cell_type": "code",
   "execution_count": 32,
   "metadata": {},
   "outputs": [
    {
     "data": {
      "text/plain": [
       "Pipeline(steps=[('vectorizer', CountVectorizer(analyzer=u'word', binary=False, decode_error=u'strict',\n",
       "        dtype=<type 'numpy.int64'>, encoding=u'utf-8', input=u'content',\n",
       "        lowercase=True, max_df=1.0, max_features=None, min_df=3,\n",
       "        ngram_range=(1, 2), preprocessor=None, stop_words='english',...ty='l2', random_state=None, solver='liblinear', tol=0.0001,\n",
       "          verbose=0, warm_start=False))])"
      ]
     },
     "execution_count": 32,
     "metadata": {},
     "output_type": "execute_result"
    }
   ],
   "source": [
    "lr_pipeline_violence_Svc.fit(df_train_df.proccd_text, df_train_df.violence)"
   ]
  },
  {
   "cell_type": "code",
   "execution_count": 33,
   "metadata": {},
   "outputs": [],
   "source": [
    "lr_prediction = lr_pipeline_violence_Svc.predict(df_test_df.proccd_text)"
   ]
  },
  {
   "cell_type": "code",
   "execution_count": 34,
   "metadata": {},
   "outputs": [
    {
     "data": {
      "text/plain": [
       "0.65805946791862291"
      ]
     },
     "execution_count": 34,
     "metadata": {},
     "output_type": "execute_result"
    }
   ],
   "source": [
    "metrics.roc_auc_score(df_test_df.violence,lr_prediction)"
   ]
  },
  {
   "cell_type": "code",
   "execution_count": 35,
   "metadata": {},
   "outputs": [
    {
     "data": {
      "text/plain": [
       "array([[341,  14],\n",
       "       [ 29,  16]])"
      ]
     },
     "execution_count": 35,
     "metadata": {},
     "output_type": "execute_result"
    }
   ],
   "source": [
    "metrics.confusion_matrix(df_test_df.violence,lr_prediction)"
   ]
  },
  {
   "cell_type": "code",
   "execution_count": null,
   "metadata": {},
   "outputs": [],
   "source": []
  }
 ],
 "metadata": {
  "kernelspec": {
   "display_name": "Python 3",
   "language": "python",
   "name": "python3"
  },
  "language_info": {
   "codemirror_mode": {
    "name": "ipython",
    "version": 3
   },
   "file_extension": ".py",
   "mimetype": "text/x-python",
   "name": "python",
   "nbconvert_exporter": "python",
   "pygments_lexer": "ipython3",
   "version": "3.5.3"
  }
 },
 "nbformat": 4,
 "nbformat_minor": 2
}
