{
 "cells": [
  {
   "cell_type": "code",
   "execution_count": 1,
   "metadata": {
    "collapsed": true
   },
   "outputs": [],
   "source": [
    "import re\n",
    "from nltk.corpus import stopwords\n",
    "import numpy as np\n",
    "import pandas as pd"
   ]
  },
  {
   "cell_type": "code",
   "execution_count": 2,
   "metadata": {
    "collapsed": true
   },
   "outputs": [],
   "source": [
    "def clean_str(string):\n",
    "    \"\"\"\n",
    "    Tokenization/string cleaning for all datasets except for SST.\n",
    "    Original taken from https://github.com/yoonkim/CNN_sentence/blob/master/process_data.py\n",
    "    \"\"\"\n",
    "    string = re.sub(r\"[^A-Za-z0-9(),!?\\'\\`]\", \" \", string)\n",
    "    string = re.sub(r\"\\'s\", \" \\'s\", string)\n",
    "    string = re.sub(r\"\\'ve\", \" \\'ve\", string)\n",
    "    string = re.sub(r\"n\\'t\", \" n\\'t\", string)\n",
    "    string = re.sub(r\"\\'re\", \" \\'re\", string)\n",
    "    string = re.sub(r\"\\'d\", \" \\'d\", string)\n",
    "    string = re.sub(r\"\\'ll\", \" \\'ll\", string)\n",
    "    string = re.sub(r\",\", \" , \", string)\n",
    "    string = re.sub(r\"!\", \" ! \", string)\n",
    "    string = re.sub(r\"\\(\", \" \\( \", string)\n",
    "    string = re.sub(r\"\\)\", \" \\) \", string)\n",
    "    string = re.sub(r\"\\?\", \" \\? \", string)\n",
    "    string = re.sub(r\"\\s{2,}\", \" \", string)\n",
    "    return string.strip().lower()"
   ]
  },
  {
   "cell_type": "code",
   "execution_count": 3,
   "metadata": {
    "collapsed": true
   },
   "outputs": [],
   "source": [
    "def remove_stop(str):\n",
    "    stop = set(stopwords.words('english'))\n",
    "    lst = str.split(\" \")\n",
    "    lst = [i for i in lst if i not in stop]\n",
    "    return ' '.join(lst)"
   ]
  },
  {
   "cell_type": "code",
   "execution_count": 4,
   "metadata": {
    "collapsed": true
   },
   "outputs": [],
   "source": [
    "def remove_unwanted_words(str):\n",
    "    unwanted_words = [\"httpaddress\", \"usrid\", \"dd\", \"rt\", \"amp\", \"pm\", \" \", \"'s\", \"n't\", \"\\t\", '``', \"''\", \"\", \"//\", \"\\\\\", \"\\\\'s\", \"\\\\?\"]\n",
    "    lst = str.split(\" \")\n",
    "    lst = [i for i in lst if i not in unwanted_words]\n",
    "    return ' '.join(lst)"
   ]
  },
  {
   "cell_type": "code",
   "execution_count": 5,
   "metadata": {
    "collapsed": true
   },
   "outputs": [],
   "source": [
    "def toLower(str):\n",
    "    lst = str.split(\" \")\n",
    "    lst = [i.lower() for i in lst]\n",
    "    return ' '.join(lst)"
   ]
  },
  {
   "cell_type": "code",
   "execution_count": 6,
   "metadata": {
    "collapsed": true
   },
   "outputs": [],
   "source": [
    "def load_data_and_labels(positive_data_file, negative_data_file):\n",
    "    \"\"\"\n",
    "    Loads MR polarity african_data from files, splits the african_data into words and generates labels.\n",
    "    Returns split sentences and labels.\n",
    "    \"\"\"\n",
    "    # Load african_data from files\n",
    "    positive_examples = list(open(positive_data_file, \"r\").readlines())\n",
    "    positive_examples = [s.strip() for s in positive_examples]\n",
    "    positive_examples = [remove_stop(item) for item in positive_examples]\n",
    "    positive_examples = [toLower(item) for item in positive_examples]\n",
    "    positive_examples = [remove_unwanted_words(item) for item in positive_examples]\n",
    "    \n",
    "    positive_examples = [clean_str(sent) for sent in positive_examples]\n",
    "    for i in positive_examples:\n",
    "        if len(i.split(\" \")) < 3:\n",
    "            positive_examples.remove(i)\n",
    "    positive_examples = list(filter(None, positive_examples) )    \n",
    "    negative_examples = list(open(negative_data_file, \"r\").readlines())\n",
    "    negative_examples = [s.strip() for s in negative_examples]\n",
    "    negative_examples = [toLower(item) for item in negative_examples]\n",
    "    negative_examples = [remove_stop(item) for item in negative_examples]\n",
    "    negative_examples = [remove_unwanted_words(item) for item in negative_examples]\n",
    "    negative_examples = list(filter(None, negative_examples) )\n",
    "    negative_examples = [clean_str(sent) for sent in negative_examples]\n",
    "    for i in negative_examples:\n",
    "        if len(i.split(\" \")) < 3:\n",
    "            negative_examples.remove(i)\n",
    "    negative_examples = list(filter(None, negative_examples) )    \n",
    "    \n",
    "    # Split by words\n",
    "    x_text = positive_examples + negative_examples\n",
    "   # x_text = [clean_str(sent) for sent in x_text]\n",
    "    # Generate labels\n",
    "    positive_labels = [[0, 1] for _ in positive_examples]\n",
    "    negative_labels = [[1, 0] for _ in negative_examples]\n",
    "    y = np.concatenate([positive_labels, negative_labels], 0)\n",
    "\n",
    "    return [x_text, y]"
   ]
  },
  {
   "cell_type": "code",
   "execution_count": 11,
   "metadata": {
    "collapsed": true
   },
   "outputs": [],
   "source": [
    "CF_pos_prccd2 = 'Data/turkish_protest_test_pos_prccd2.txt'\n",
    "CF_neg_prccd2 = 'Data/turkish_protest_test_neg_prccd2.txt'"
   ]
  },
  {
   "cell_type": "code",
   "execution_count": 12,
   "metadata": {
    "collapsed": true
   },
   "outputs": [],
   "source": [
    "x_test, y = load_data_and_labels(CF_pos_prccd2, CF_neg_prccd2)"
   ]
  },
  {
   "cell_type": "code",
   "execution_count": 13,
   "metadata": {},
   "outputs": [
    {
     "data": {
      "text/plain": [
       "463"
      ]
     },
     "execution_count": 13,
     "metadata": {},
     "output_type": "execute_result"
    }
   ],
   "source": [
    "len(x_test)"
   ]
  },
  {
   "cell_type": "code",
   "execution_count": 14,
   "metadata": {},
   "outputs": [
    {
     "data": {
      "text/plain": [
       "463"
      ]
     },
     "execution_count": 14,
     "metadata": {},
     "output_type": "execute_result"
    }
   ],
   "source": [
    "len(y)"
   ]
  },
  {
   "cell_type": "code",
   "execution_count": 61,
   "metadata": {},
   "outputs": [
    {
     "data": {
      "text/html": [
       "<div>\n",
       "<style>\n",
       "    .dataframe thead tr:only-child th {\n",
       "        text-align: right;\n",
       "    }\n",
       "\n",
       "    .dataframe thead th {\n",
       "        text-align: left;\n",
       "    }\n",
       "\n",
       "    .dataframe tbody tr th {\n",
       "        vertical-align: top;\n",
       "    }\n",
       "</style>\n",
       "<table border=\"1\" class=\"dataframe\">\n",
       "  <thead>\n",
       "    <tr style=\"text-align: right;\">\n",
       "      <th></th>\n",
       "      <th>label</th>\n",
       "      <th>text</th>\n",
       "    </tr>\n",
       "  </thead>\n",
       "  <tbody>\n",
       "    <tr>\n",
       "      <th>0</th>\n",
       "      <td>[1, 0]</td>\n",
       "      <td>a</td>\n",
       "    </tr>\n",
       "    <tr>\n",
       "      <th>1</th>\n",
       "      <td>[1, 0]</td>\n",
       "      <td>b</td>\n",
       "    </tr>\n",
       "    <tr>\n",
       "      <th>2</th>\n",
       "      <td>[0, 1]</td>\n",
       "      <td>c</td>\n",
       "    </tr>\n",
       "  </tbody>\n",
       "</table>\n",
       "</div>"
      ],
      "text/plain": [
       "    label text\n",
       "0  [1, 0]    a\n",
       "1  [1, 0]    b\n",
       "2  [0, 1]    c"
      ]
     },
     "execution_count": 61,
     "metadata": {},
     "output_type": "execute_result"
    }
   ],
   "source": [
    "import random\n",
    "from sklearn.utils import shuffle\n",
    "from scipy.sparse import coo_matrix\n",
    "import pandas as  pd\n",
    "\n",
    "y = [[1,0],[1,0],[0,1]]\n",
    "x = ['a','b','c']\n",
    "\n",
    "df1 = pd.DataFrame({'text': x,'label': y})\n",
    "df1"
   ]
  },
  {
   "cell_type": "code",
   "execution_count": 67,
   "metadata": {
    "collapsed": true
   },
   "outputs": [],
   "source": [
    "df2 = df1.reindex(np.random.permutation(df1.index))"
   ]
  },
  {
   "cell_type": "code",
   "execution_count": 68,
   "metadata": {},
   "outputs": [
    {
     "data": {
      "text/html": [
       "<div>\n",
       "<style>\n",
       "    .dataframe thead tr:only-child th {\n",
       "        text-align: right;\n",
       "    }\n",
       "\n",
       "    .dataframe thead th {\n",
       "        text-align: left;\n",
       "    }\n",
       "\n",
       "    .dataframe tbody tr th {\n",
       "        vertical-align: top;\n",
       "    }\n",
       "</style>\n",
       "<table border=\"1\" class=\"dataframe\">\n",
       "  <thead>\n",
       "    <tr style=\"text-align: right;\">\n",
       "      <th></th>\n",
       "      <th>label</th>\n",
       "      <th>text</th>\n",
       "    </tr>\n",
       "  </thead>\n",
       "  <tbody>\n",
       "    <tr>\n",
       "      <th>1</th>\n",
       "      <td>[1, 0]</td>\n",
       "      <td>b</td>\n",
       "    </tr>\n",
       "    <tr>\n",
       "      <th>2</th>\n",
       "      <td>[0, 1]</td>\n",
       "      <td>c</td>\n",
       "    </tr>\n",
       "    <tr>\n",
       "      <th>0</th>\n",
       "      <td>[1, 0]</td>\n",
       "      <td>a</td>\n",
       "    </tr>\n",
       "  </tbody>\n",
       "</table>\n",
       "</div>"
      ],
      "text/plain": [
       "    label text\n",
       "1  [1, 0]    b\n",
       "2  [0, 1]    c\n",
       "0  [1, 0]    a"
      ]
     },
     "execution_count": 68,
     "metadata": {},
     "output_type": "execute_result"
    }
   ],
   "source": [
    "df2[]"
   ]
  },
  {
   "cell_type": "code",
   "execution_count": 74,
   "metadata": {},
   "outputs": [
    {
     "ename": "TypeError",
     "evalue": "'DataFrame' object is not callable",
     "output_type": "error",
     "traceback": [
      "\u001b[0;31m---------------------------------------------------------------------------\u001b[0m",
      "\u001b[0;31mTypeError\u001b[0m                                 Traceback (most recent call last)",
      "\u001b[0;32m<ipython-input-74-7fd2bad7c0ff>\u001b[0m in \u001b[0;36m<module>\u001b[0;34m()\u001b[0m\n\u001b[0;32m----> 1\u001b[0;31m \u001b[0ml\u001b[0m \u001b[0;34m=\u001b[0m \u001b[0mlist\u001b[0m\u001b[0;34m(\u001b[0m\u001b[0mdf2\u001b[0m\u001b[0;34m(\u001b[0m\u001b[0;36m0\u001b[0m\u001b[0;34m)\u001b[0m\u001b[0;34m)\u001b[0m\u001b[0;34m\u001b[0m\u001b[0m\n\u001b[0m",
      "\u001b[0;31mTypeError\u001b[0m: 'DataFrame' object is not callable"
     ]
    }
   ],
   "source": [
    "l = list(df2(0))"
   ]
  },
  {
   "cell_type": "code",
   "execution_count": 70,
   "metadata": {},
   "outputs": [
    {
     "data": {
      "text/plain": [
       "[[1, 0], [0, 1], [1, 0]]"
      ]
     },
     "execution_count": 70,
     "metadata": {},
     "output_type": "execute_result"
    }
   ],
   "source": [
    "l"
   ]
  },
  {
   "cell_type": "code",
   "execution_count": 71,
   "metadata": {},
   "outputs": [
    {
     "data": {
      "text/plain": [
       "['b', 'c', 'a']"
      ]
     },
     "execution_count": 71,
     "metadata": {},
     "output_type": "execute_result"
    }
   ],
   "source": [
    "t = list(df2.text)\n",
    "t"
   ]
  },
  {
   "cell_type": "code",
   "execution_count": 72,
   "metadata": {},
   "outputs": [
    {
     "data": {
      "text/plain": [
       "RangeIndex(start=0, stop=3, step=1)"
      ]
     },
     "execution_count": 72,
     "metadata": {},
     "output_type": "execute_result"
    }
   ],
   "source": [
    "df1.index"
   ]
  },
  {
   "cell_type": "code",
   "execution_count": 76,
   "metadata": {},
   "outputs": [
    {
     "name": "stdout",
     "output_type": "stream",
     "text": [
      "   A  B  C  D\n",
      "0  1  1  1  1\n",
      "1  2  2  2  2\n",
      "2  3  3  3  3\n",
      "3  4  4  4  4\n",
      "4  5  5  5  5\n"
     ]
    }
   ],
   "source": [
    "import pandas as pd\n",
    "\n",
    "df1 = pd.DataFrame({\n",
    "    'A': [1,2,3,4,5],\n",
    "    'B': [1,2,3,4,5]\n",
    "})\n",
    "\n",
    "df2 = pd.DataFrame({\n",
    "    'C': [1,2,3,4,5],\n",
    "    'D': [1,2,3,4,5]\n",
    "})\n",
    "\n",
    "df_concat = pd.concat([df1, df2], axis=1)\n",
    "\n",
    "print(df_concat)\n"
   ]
  },
  {
   "cell_type": "code",
   "execution_count": 178,
   "metadata": {
    "collapsed": true
   },
   "outputs": [],
   "source": [
    "l1 = [\"a\",\"b\",\"c\",\"d\",\"e\",\"f\",\"g\",\"h\",\"i\",\"j\",\"k\",\"l\",\"m\",\"n\"]\n",
    "l2 = [[1,0], [2,0], [0,3],[0,4],[0,5],[0,6],[0,7],[0,8],[0,9],[0,10],[0,11],[0,12],[0,13],[0,14]]\n",
    "l3 = [1,2,3,4,5,6,7,8,9,10,11,12,13,14]\n",
    "l = [l1,l2],[]\n",
    "\n",
    "#random.Random(2).shuffle(l1)\n",
    "#print (l1)\n",
    "#random.Random(2).shuffle(l2)\n",
    "#print (l2)"
   ]
  },
  {
   "cell_type": "code",
   "execution_count": 179,
   "metadata": {},
   "outputs": [
    {
     "data": {
      "text/plain": [
       "['a', 'c', 'd', 'h', 'e']"
      ]
     },
     "execution_count": 179,
     "metadata": {},
     "output_type": "execute_result"
    }
   ],
   "source": [
    "random.sample(l1, 5)"
   ]
  },
  {
   "cell_type": "code",
   "execution_count": 180,
   "metadata": {},
   "outputs": [
    {
     "data": {
      "text/plain": [
       "[[0, 13], [0, 9], [0, 12], [0, 11], [0, 6]]"
      ]
     },
     "execution_count": 180,
     "metadata": {},
     "output_type": "execute_result"
    }
   ],
   "source": [
    "random.sample(l2, 5)"
   ]
  },
  {
   "cell_type": "code",
   "execution_count": 217,
   "metadata": {
    "collapsed": true
   },
   "outputs": [],
   "source": [
    "shuffle_indices = list(np.random.permutation(np.arange(300)))"
   ]
  },
  {
   "cell_type": "code",
   "execution_count": 218,
   "metadata": {},
   "outputs": [
    {
     "data": {
      "text/plain": [
       "[223,\n",
       " 3,\n",
       " 125,\n",
       " 162,\n",
       " 56,\n",
       " 20,\n",
       " 11,\n",
       " 173,\n",
       " 198,\n",
       " 119,\n",
       " 172,\n",
       " 259,\n",
       " 12,\n",
       " 101,\n",
       " 122,\n",
       " 194,\n",
       " 17,\n",
       " 135,\n",
       " 99,\n",
       " 151,\n",
       " 262,\n",
       " 287,\n",
       " 297,\n",
       " 290,\n",
       " 261,\n",
       " 249,\n",
       " 189,\n",
       " 118,\n",
       " 8,\n",
       " 248,\n",
       " 211,\n",
       " 21,\n",
       " 175,\n",
       " 80,\n",
       " 270,\n",
       " 216,\n",
       " 110,\n",
       " 82,\n",
       " 177,\n",
       " 191,\n",
       " 218,\n",
       " 66,\n",
       " 225,\n",
       " 160,\n",
       " 6,\n",
       " 281,\n",
       " 176,\n",
       " 253,\n",
       " 70,\n",
       " 134,\n",
       " 104,\n",
       " 35,\n",
       " 251,\n",
       " 260,\n",
       " 105,\n",
       " 214,\n",
       " 124,\n",
       " 184,\n",
       " 215,\n",
       " 235,\n",
       " 147,\n",
       " 139,\n",
       " 197,\n",
       " 81,\n",
       " 14,\n",
       " 103,\n",
       " 252,\n",
       " 296,\n",
       " 52,\n",
       " 165,\n",
       " 13,\n",
       " 92,\n",
       " 159,\n",
       " 24,\n",
       " 34,\n",
       " 121,\n",
       " 90,\n",
       " 116,\n",
       " 89,\n",
       " 166,\n",
       " 163,\n",
       " 78,\n",
       " 178,\n",
       " 45,\n",
       " 240,\n",
       " 258,\n",
       " 171,\n",
       " 58,\n",
       " 128,\n",
       " 286,\n",
       " 233,\n",
       " 150,\n",
       " 182,\n",
       " 201,\n",
       " 278,\n",
       " 33,\n",
       " 196,\n",
       " 85,\n",
       " 84,\n",
       " 228,\n",
       " 192,\n",
       " 275,\n",
       " 231,\n",
       " 132,\n",
       " 291,\n",
       " 126,\n",
       " 221,\n",
       " 169,\n",
       " 284,\n",
       " 263,\n",
       " 145,\n",
       " 48,\n",
       " 186,\n",
       " 149,\n",
       " 208,\n",
       " 91,\n",
       " 288,\n",
       " 268,\n",
       " 96,\n",
       " 207,\n",
       " 185,\n",
       " 264,\n",
       " 273,\n",
       " 133,\n",
       " 86,\n",
       " 107,\n",
       " 170,\n",
       " 190,\n",
       " 64,\n",
       " 37,\n",
       " 283,\n",
       " 106,\n",
       " 298,\n",
       " 9,\n",
       " 202,\n",
       " 213,\n",
       " 32,\n",
       " 129,\n",
       " 241,\n",
       " 229,\n",
       " 50,\n",
       " 203,\n",
       " 76,\n",
       " 267,\n",
       " 230,\n",
       " 113,\n",
       " 217,\n",
       " 5,\n",
       " 36,\n",
       " 39,\n",
       " 115,\n",
       " 242,\n",
       " 100,\n",
       " 79,\n",
       " 15,\n",
       " 95,\n",
       " 1,\n",
       " 138,\n",
       " 57,\n",
       " 51,\n",
       " 294,\n",
       " 68,\n",
       " 222,\n",
       " 236,\n",
       " 2,\n",
       " 73,\n",
       " 22,\n",
       " 72,\n",
       " 46,\n",
       " 161,\n",
       " 250,\n",
       " 204,\n",
       " 247,\n",
       " 205,\n",
       " 61,\n",
       " 23,\n",
       " 155,\n",
       " 271,\n",
       " 53,\n",
       " 282,\n",
       " 246,\n",
       " 49,\n",
       " 209,\n",
       " 199,\n",
       " 292,\n",
       " 269,\n",
       " 153,\n",
       " 7,\n",
       " 136,\n",
       " 93,\n",
       " 243,\n",
       " 111,\n",
       " 130,\n",
       " 158,\n",
       " 140,\n",
       " 77,\n",
       " 10,\n",
       " 47,\n",
       " 28,\n",
       " 220,\n",
       " 74,\n",
       " 88,\n",
       " 98,\n",
       " 123,\n",
       " 108,\n",
       " 183,\n",
       " 60,\n",
       " 256,\n",
       " 156,\n",
       " 289,\n",
       " 254,\n",
       " 87,\n",
       " 75,\n",
       " 232,\n",
       " 18,\n",
       " 257,\n",
       " 42,\n",
       " 238,\n",
       " 226,\n",
       " 180,\n",
       " 137,\n",
       " 30,\n",
       " 16,\n",
       " 212,\n",
       " 97,\n",
       " 255,\n",
       " 4,\n",
       " 83,\n",
       " 299,\n",
       " 38,\n",
       " 157,\n",
       " 142,\n",
       " 0,\n",
       " 272,\n",
       " 143,\n",
       " 154,\n",
       " 187,\n",
       " 266,\n",
       " 31,\n",
       " 112,\n",
       " 69,\n",
       " 164,\n",
       " 234,\n",
       " 44,\n",
       " 274,\n",
       " 43,\n",
       " 54,\n",
       " 94,\n",
       " 41,\n",
       " 188,\n",
       " 131,\n",
       " 144,\n",
       " 141,\n",
       " 114,\n",
       " 210,\n",
       " 206,\n",
       " 146,\n",
       " 59,\n",
       " 293,\n",
       " 244,\n",
       " 65,\n",
       " 279,\n",
       " 25,\n",
       " 109,\n",
       " 276,\n",
       " 277,\n",
       " 280,\n",
       " 127,\n",
       " 265,\n",
       " 239,\n",
       " 117,\n",
       " 200,\n",
       " 167,\n",
       " 120,\n",
       " 219,\n",
       " 181,\n",
       " 227,\n",
       " 195,\n",
       " 71,\n",
       " 102,\n",
       " 168,\n",
       " 245,\n",
       " 40,\n",
       " 29,\n",
       " 62,\n",
       " 67,\n",
       " 152,\n",
       " 174,\n",
       " 26,\n",
       " 193,\n",
       " 237,\n",
       " 148,\n",
       " 27,\n",
       " 224,\n",
       " 55,\n",
       " 19,\n",
       " 179,\n",
       " 295,\n",
       " 285,\n",
       " 63]"
      ]
     },
     "execution_count": 218,
     "metadata": {},
     "output_type": "execute_result"
    }
   ],
   "source": [
    "shuffle_indices"
   ]
  },
  {
   "cell_type": "code",
   "execution_count": 183,
   "metadata": {},
   "outputs": [
    {
     "name": "stdout",
     "output_type": "stream",
     "text": [
      "2\n"
     ]
    }
   ],
   "source": [
    "x = (len(shuffle_indices) * 20 // 100)\n",
    "print(x)"
   ]
  },
  {
   "cell_type": "code",
   "execution_count": 184,
   "metadata": {
    "collapsed": true
   },
   "outputs": [],
   "source": [
    "shuffle_indices = random.sample(shuffle_indices,x)"
   ]
  },
  {
   "cell_type": "code",
   "execution_count": 185,
   "metadata": {},
   "outputs": [
    {
     "data": {
      "text/plain": [
       "[11, 5]"
      ]
     },
     "execution_count": 185,
     "metadata": {},
     "output_type": "execute_result"
    }
   ],
   "source": [
    "shuffle_indices"
   ]
  },
  {
   "cell_type": "code",
   "execution_count": 186,
   "metadata": {},
   "outputs": [
    {
     "ename": "TypeError",
     "evalue": "list indices must be integers or slices, not list",
     "output_type": "error",
     "traceback": [
      "\u001b[0;31m---------------------------------------------------------------------------\u001b[0m",
      "\u001b[0;31mTypeError\u001b[0m                                 Traceback (most recent call last)",
      "\u001b[0;32m<ipython-input-186-069dd9afed4b>\u001b[0m in \u001b[0;36m<module>\u001b[0;34m()\u001b[0m\n\u001b[0;32m----> 1\u001b[0;31m \u001b[0ml1\u001b[0m \u001b[0;34m=\u001b[0m \u001b[0ml1\u001b[0m\u001b[0;34m[\u001b[0m\u001b[0mshuffle_indices\u001b[0m\u001b[0;34m]\u001b[0m\u001b[0;34m\u001b[0m\u001b[0m\n\u001b[0m",
      "\u001b[0;31mTypeError\u001b[0m: list indices must be integers or slices, not list"
     ]
    }
   ],
   "source": [
    "l1 = l1[shuffle_indices]"
   ]
  },
  {
   "cell_type": "code",
   "execution_count": 187,
   "metadata": {
    "collapsed": true
   },
   "outputs": [],
   "source": [
    "l1 = [l1[i] for i in shuffle_indices]\n",
    "l2 = [l2[i] for i in shuffle_indices]"
   ]
  },
  {
   "cell_type": "code",
   "execution_count": 188,
   "metadata": {},
   "outputs": [
    {
     "data": {
      "text/plain": [
       "['l', 'f']"
      ]
     },
     "execution_count": 188,
     "metadata": {},
     "output_type": "execute_result"
    }
   ],
   "source": [
    "l1"
   ]
  },
  {
   "cell_type": "code",
   "execution_count": 189,
   "metadata": {},
   "outputs": [
    {
     "data": {
      "text/plain": [
       "[[0, 12], [0, 6]]"
      ]
     },
     "execution_count": 189,
     "metadata": {},
     "output_type": "execute_result"
    }
   ],
   "source": [
    "l2"
   ]
  },
  {
   "cell_type": "code",
   "execution_count": 193,
   "metadata": {
    "collapsed": true
   },
   "outputs": [],
   "source": [
    "def mean(numbers):\n",
    "    return float(sum(numbers)) / max(len(numbers), 1)"
   ]
  },
  {
   "cell_type": "code",
   "execution_count": 195,
   "metadata": {},
   "outputs": [
    {
     "data": {
      "text/plain": [
       "4.571428571428571"
      ]
     },
     "execution_count": 195,
     "metadata": {},
     "output_type": "execute_result"
    }
   ],
   "source": [
    "n = [1,2,3,5,8,10,3]\n",
    "mean(n)"
   ]
  },
  {
   "cell_type": "code",
   "execution_count": null,
   "metadata": {
    "collapsed": true
   },
   "outputs": [],
   "source": []
  }
 ],
 "metadata": {
  "kernelspec": {
   "display_name": "Python 3",
   "language": "python",
   "name": "python3"
  },
  "language_info": {
   "codemirror_mode": {
    "name": "ipython",
    "version": 3
   },
   "file_extension": ".py",
   "mimetype": "text/x-python",
   "name": "python",
   "nbconvert_exporter": "python",
   "pygments_lexer": "ipython3",
   "version": "3.6.2"
  }
 },
 "nbformat": 4,
 "nbformat_minor": 2
}
