{
 "cells": [
  {
   "cell_type": "code",
   "execution_count": 1,
   "metadata": {},
   "outputs": [
    {
     "name": "stderr",
     "output_type": "stream",
     "text": [
      "/Users/fatma/anaconda2/envs/py35/lib/python3.5/site-packages/sklearn/cross_validation.py:41: DeprecationWarning: This module was deprecated in version 0.18 in favor of the model_selection module into which all the refactored classes and functions are moved. Also note that the interface of the new CV iterators are different from that of this module. This module will be removed in 0.20.\n",
      "  \"This module will be removed in 0.20.\", DeprecationWarning)\n"
     ]
    }
   ],
   "source": [
    "import nltk\n",
    "import pandas as pd\n",
    "from sklearn.naive_bayes import MultinomialNB\n",
    "from sklearn.naive_bayes import BernoulliNB\n",
    "from sklearn.svm import SVC\n",
    "from sklearn.linear_model import SGDClassifier\n",
    "from sklearn.pipeline import Pipeline\n",
    "from sklearn.cross_validation import KFold, cross_val_score\n",
    "from sklearn.model_selection import cross_val_predict\n",
    "from sklearn.metrics import confusion_matrix, f1_score, precision_score, recall_score\n",
    "from sklearn.model_selection import train_test_split\n",
    "import numpy as np\n",
    "from sklearn.model_selection import train_test_split\n",
    "from sklearn.feature_extraction.text import CountVectorizer\n",
    "from sklearn.feature_extraction.text import TfidfTransformer\n",
    "from sklearn import metrics \n",
    "import matplotlib.pyplot as plt\n",
    "from sklearn.model_selection import learning_curve\n",
    "from sklearn.model_selection import ShuffleSplit\n",
    "from sklearn.model_selection import StratifiedKFold\n",
    "from sklearn.model_selection import permutation_test_score\n",
    "import re\n",
    "import random\n",
    "from sklearn.linear_model import LogisticRegression"
   ]
  },
  {
   "cell_type": "code",
   "execution_count": 137,
   "metadata": {},
   "outputs": [],
   "source": [
    "from nltk.tokenize import word_tokenize"
   ]
  },
  {
   "cell_type": "code",
   "execution_count": 2,
   "metadata": {},
   "outputs": [
    {
     "name": "stdout",
     "output_type": "stream",
     "text": [
      "[nltk_data] Downloading package stopwords to /Users/fatma/nltk_data...\n",
      "[nltk_data]   Package stopwords is already up-to-date!\n"
     ]
    }
   ],
   "source": [
    "import nltk\n",
    "nltk.download('stopwords')\n",
    "from nltk.corpus import stopwords"
   ]
  },
  {
   "cell_type": "code",
   "execution_count": 3,
   "metadata": {},
   "outputs": [],
   "source": [
    "def clean_str(string):\n",
    "    \"\"\"\n",
    "    Tokenization/string cleaning for all datasets except for SST.\n",
    "    Original taken from https://github.com/yoonkim/CNN_sentence/blob/master/process_data.py\n",
    "    \"\"\"\n",
    "    string = re.sub(r\"[^A-Za-z0-9(),!?\\'\\`]\", \" \", string)\n",
    "    string = re.sub(r\"\\'s\", \" \", string)\n",
    "    string = re.sub(r\"\\'ve\", \" \", string)\n",
    "    string = re.sub(r\"n\\'t\", \" \", string)\n",
    "    string = re.sub(r\"n\\'s\", \" \", string)\n",
    "    string = re.sub(r\"\\'re\", \" \", string)\n",
    "    string = re.sub(r\"\\'d\", \" \", string)\n",
    "    string = re.sub(r\"\\'ll\", \" \", string)\n",
    "    string = re.sub(r\",\", \" \", string)\n",
    "    string = re.sub(r\"!\", \" \", string)\n",
    "    string = re.sub(r\"\\(\", \" \", string)\n",
    "    string = re.sub(r\"\\)\", \" \", string)\n",
    "    string = re.sub(r\"\\?\", \" \", string)\n",
    "    string = re.sub(r\"\\s{2,}\", \" \", string)\n",
    "    string = re.sub(r\"\\//?\", \" \", string)\n",
    "    string = re.sub(r\"\\d+\", \" \", string)\n",
    "    string = re.sub(r\"\\$\", \" \", string)\n",
    "    string = re.sub(r\"\\#\", \" \", string)\n",
    "    return string.strip().lower()"
   ]
  },
  {
   "cell_type": "code",
   "execution_count": 174,
   "metadata": {},
   "outputs": [],
   "source": [
    "def remove_stop(str):\n",
    "    stop = set(stopwords.words('english'))\n",
    "    lst = str.split()\n",
    "    lst = [i for i in lst if i not in stop]\n",
    "    return ' '.join(lst)\n",
    "\n",
    "def stem (str):\n",
    "    lst = str.split()\n",
    "    lst = [st.stem(x) for x in lst]\n",
    "    return ' '.join(lst)\n",
    "\n",
    "#def remove_unwanted_words(str):\n",
    "##    unwanted_words = [\"httpaddress\", \"usrid\", \"D\", \"dd\", \"rt\", \"amp\", \"am\", \"pm\", '``',\n",
    "#                      \"''\", \"\", \"//\", \"\\\\\", \"\\\\'s\", \"\\\\?\", \"\\?\",\"http\",\"httpaddresshttpaddresst\", \"cohttpaddressek\", \"sat\", \"sun\", \"mon\",\n",
    "#                     \"tue\", \"wed\", \"thu\", \"fri\", \"jan\", \"feb\", \"mar\", \"apr\", \"may\", \"jun\", \"jul\", \"aug\", \"sep\", \"oct\", \"nov\", \"dec\"]\n",
    "#    lst = str.split(\" \")\n",
    "#    lst = [i for i in lst if i not in unwanted_words]\n",
    "#    return ' '.join(lst)\n",
    "\n",
    "\n",
    "def remove_unwanted_words(str):\n",
    "    unwanted_words = [\"httpaddress\", \"usrid\", \"D\", \"dd\", \"rt\", \"amp\", \"am\", \"pm\", '``', 'd',\n",
    "                      \"''\", \"\", \"//\", \"\\\\\", \"\\\\'s\", \"\\\\?\", \"\\?\",\"http\",\"httpaddresshttpaddresst\", \"cohttpaddressek\",\n",
    "                      \"taksim\",\"gezi\", \"park\", \"direngeziparki\", \"occupygezi\", \"istanbul\", \"turkish\",\"turkey\",\n",
    "                      \"protest\",\"direngezipark\",\"direnankara\",\"geziparki\", \"protesters\", \"protests\", \"sat\", \"sun\", \"mon,\",\n",
    "                     \"tue\", \"wed\", \"thu\", \"fri\", \"jan\", \"feb\", \"mar\", \"apr\", \"may\", \"jun\", \"jul\", \"aug\", \"sep\", \"oct\", \"nov\", \"dec\"]\n",
    "    lst = str.split(\" \")\n",
    "    lst = [i for i in lst if i not in unwanted_words]\n",
    "    return ' '.join(lst)\n",
    "\n",
    "def toLower(str):\n",
    "    lst = str.split()\n",
    "    lst = [i.lower() for i in lst]\n",
    "    return ' '.join(lst)\n",
    "\n",
    "def word_len (str):\n",
    "    lst = str.split()\n",
    "    lst = [i for i in lst if len(i)>1 and len(i) <7]\n",
    "    return ' '.join(lst)\n",
    "\n",
    "def sent_len (str):\n",
    "    lst = str.split()\n",
    "    if len(lst)>=3:\n",
    "        return ' '.join(lst)"
   ]
  },
  {
   "cell_type": "code",
   "execution_count": 175,
   "metadata": {},
   "outputs": [],
   "source": [
    "def clean_data(data):\n",
    "    \"\"\"\n",
    "    Loads MR polarity african_data from files, splits the african_data into words and generates labels.\n",
    "    Returns split sentences and labels.\n",
    "    \"\"\"\n",
    "    # Load african_data from files\n",
    "    positive_examples = data\n",
    "    positive_examples = positive_examples.strip() \n",
    "    positive_examples = remove_stop(positive_examples) \n",
    "    #print(positive_examples[0])\n",
    "    positive_examples = toLower(positive_examples) \n",
    "    #rint(positive_examples[0])\n",
    "    positive_examples = clean_str(positive_examples) \n",
    "    #rint(positive_examples[0])\n",
    "    #positive_examples = [stem(item) for item in positive_examples]\n",
    "    #rint(positive_examples[0])\n",
    "    positive_examples = remove_unwanted_words(positive_examples)\n",
    "    #positive_examples = word_len(positive_examples) \n",
    "    positive_examples = sent_len(positive_examples) \n",
    "    \n",
    "    return positive_examples\n",
    "    "
   ]
  },
  {
   "cell_type": "code",
   "execution_count": 176,
   "metadata": {},
   "outputs": [],
   "source": [
    "df_cf_judgments = pd.read_csv('Data/CF_label_confidence_judgments_finalized_22_05_2018.csv')"
   ]
  },
  {
   "cell_type": "code",
   "execution_count": 177,
   "metadata": {},
   "outputs": [],
   "source": [
    "df_cf_judgments['violence'] = df_cf_judgments['violence'].fillna(0)\n",
    "df_cf_judgments['violence_confidence'] = df_cf_judgments['violence_confidence'].fillna(1)\n",
    "df_cf_judgments['violence_judgment'] = df_cf_judgments['violence_judgment'].fillna(1)"
   ]
  },
  {
   "cell_type": "code",
   "execution_count": 178,
   "metadata": {},
   "outputs": [
    {
     "data": {
      "text/plain": [
       "<matplotlib.legend.Legend at 0x1a1a65afd0>"
      ]
     },
     "execution_count": 178,
     "metadata": {},
     "output_type": "execute_result"
    },
    {
     "data": {
      "image/png": "[encoded data removed]",
      "text/plain": [
       "<Figure size 432x288 with 1 Axes>"
      ]
     },
     "metadata": {},
     "output_type": "display_data"
    }
   ],
   "source": [
    "labels=['Fatma_violence','CF_violence']\n",
    "plt.hist([df_cf_judgments['Fatma_violence'],df_cf_judgments['violence']], label=labels)\n",
    "plt.title('Fatma_violence VS. CF_violenc')\n",
    "plt.legend()"
   ]
  },
  {
   "cell_type": "code",
   "execution_count": 179,
   "metadata": {},
   "outputs": [],
   "source": [
    "df_cf_judgments_pos_Fatma = df_cf_judgments[df_cf_judgments['Fatma_violence']==1]\n",
    "df_cf_judgments_pos = df_cf_judgments[df_cf_judgments['violence']==1]\n",
    "df_cf_judgments_neg_Fatma = df_cf_judgments[df_cf_judgments['Fatma_violence']==0]\n",
    "df_cf_judgments_neg = df_cf_judgments[df_cf_judgments['violence']==0]"
   ]
  },
  {
   "cell_type": "code",
   "execution_count": 180,
   "metadata": {},
   "outputs": [
    {
     "name": "stdout",
     "output_type": "stream",
     "text": [
      "no. postive_Fatma 241\n",
      "no. postive 160\n",
      "no. negative_Fatma 1074\n",
      "no. negative 1155\n"
     ]
    }
   ],
   "source": [
    "print('no. postive_Fatma', len(df_cf_judgments_pos_Fatma))\n",
    "print('no. postive', len(df_cf_judgments_pos))\n",
    "print('no. negative_Fatma', len(df_cf_judgments_neg_Fatma))\n",
    "print('no. negative', len(df_cf_judgments_neg))"
   ]
  },
  {
   "cell_type": "code",
   "execution_count": 182,
   "metadata": {},
   "outputs": [
    {
     "data": {
      "text/plain": [
       "1315"
      ]
     },
     "execution_count": 182,
     "metadata": {},
     "output_type": "execute_result"
    }
   ],
   "source": [
    "len(df_cf_judgments)"
   ]
  },
  {
   "cell_type": "code",
   "execution_count": 183,
   "metadata": {},
   "outputs": [
    {
     "data": {
      "text/plain": [
       "<matplotlib.legend.Legend at 0x1a0d9d0f98>"
      ]
     },
     "execution_count": 183,
     "metadata": {},
     "output_type": "execute_result"
    },
    {
     "data": {
      "image/png": "[encoded data removed]",
      "text/plain": [
       "<Figure size 432x288 with 1 Axes>"
      ]
     },
     "metadata": {},
     "output_type": "display_data"
    }
   ],
   "source": [
    "labels=['Fatma_protest','CF_protest']\n",
    "plt.hist([df_cf_judgments['Fatma_protest'],df_cf_judgments['protest']], label=labels)\n",
    "plt.title('Fatma_protest VS. CF_protest')\n",
    "plt.legend()"
   ]
  },
  {
   "cell_type": "code",
   "execution_count": 184,
   "metadata": {},
   "outputs": [],
   "source": [
    "df_cf_judgments['clean_text'] = df_cf_judgments['proccd_text'].apply(lambda x:clean_data(x) )"
   ]
  },
  {
   "cell_type": "code",
   "execution_count": 185,
   "metadata": {},
   "outputs": [],
   "source": [
    "df_cf_judgments['clean_text'] = df_cf_judgments['clean_text'].dropna()"
   ]
  },
  {
   "cell_type": "code",
   "execution_count": 186,
   "metadata": {},
   "outputs": [],
   "source": [
    "df_cf_judgments = df_cf_judgments[df_cf_judgments['clean_text']!=\"\"]"
   ]
  },
  {
   "cell_type": "code",
   "execution_count": 187,
   "metadata": {},
   "outputs": [],
   "source": [
    "df_cf_judgments = df_cf_judgments[df_cf_judgments['clean_text']!=\" \"]"
   ]
  },
  {
   "cell_type": "code",
   "execution_count": 188,
   "metadata": {},
   "outputs": [],
   "source": [
    "df_cf_judgments = df_cf_judgments[df_cf_judgments['clean_text'].isnull() == False]"
   ]
  },
  {
   "cell_type": "code",
   "execution_count": 189,
   "metadata": {},
   "outputs": [
    {
     "data": {
      "text/plain": [
       "1214"
      ]
     },
     "execution_count": 189,
     "metadata": {},
     "output_type": "execute_result"
    }
   ],
   "source": [
    "len(df_cf_judgments)"
   ]
  },
  {
   "cell_type": "code",
   "execution_count": 190,
   "metadata": {},
   "outputs": [],
   "source": [
    "df_cf_judgments.to_csv('Data/CF_Fatma_label_confidence_judgments_finalized_clean_text_28_05_2018.csv')"
   ]
  },
  {
   "cell_type": "code",
   "execution_count": 191,
   "metadata": {},
   "outputs": [
    {
     "data": {
      "text/plain": [
       "Index(['_unit_id', '_golden', '_unit_state_x', '_trusted_judgments',\n",
       "       '_last_judgment_at_x', 'violence_judgment', 'violence',\n",
       "       'violence_confidence', 'protest_judgment_x', 'protest',\n",
       "       'protest_confidence', 'created_at', 'id', 'proccd_text',\n",
       "       'Fatma_protest', 'Fatma_violence', 'clean_text'],\n",
       "      dtype='object')"
      ]
     },
     "execution_count": 191,
     "metadata": {},
     "output_type": "execute_result"
    }
   ],
   "source": [
    "df_cf_judgments.columns"
   ]
  },
  {
   "cell_type": "code",
   "execution_count": 192,
   "metadata": {},
   "outputs": [
    {
     "name": "stdout",
     "output_type": "stream",
     "text": [
      "training set size 607\n",
      "training pos 117\n",
      "training neg 490\n",
      "test set size 607\n",
      "test pos 118\n",
      "test neg 489\n",
      "scores [0.8852459  0.93442623 0.86885246 0.8852459  0.8852459  0.85245902\n",
      " 0.80327869 0.95       0.88333333 0.91666667]\n",
      "scores mean 0.8864754098360654\n",
      "scores std 0.0791200410088823\n",
      "cv auc 0.7832025117739403\n",
      "test set auc 0.7256074312848775\n",
      "[[461  28]\n",
      " [ 58  60]]\n",
      "training set size 607\n",
      "training pos 117\n",
      "training neg 490\n",
      "test set size 607\n",
      "test pos 118\n",
      "test neg 489\n",
      "scores [0.8852459  0.80327869 0.83606557 0.86885246 0.91803279 0.85245902\n",
      " 0.8852459  0.9        0.86666667 0.85      ]\n",
      "scores mean 0.8665846994535519\n",
      "scores std 0.06286103284917027\n",
      "cv auc 0.7416797488226059\n",
      "test set auc 0.783906970295657\n",
      "[[460  29]\n",
      " [ 44  74]]\n",
      "training set size 607\n",
      "training pos 130\n",
      "training neg 477\n",
      "test set size 607\n",
      "test pos 105\n",
      "test neg 502\n",
      "scores [0.83606557 0.91803279 0.8852459  0.83606557 0.80327869 0.91803279\n",
      " 0.83606557 0.86666667 0.8        0.88333333]\n",
      "scores mean 0.8582786885245902\n",
      "scores std 0.08116181729397896\n",
      "cv auc 0.7559667795516852\n",
      "test set auc 0.7470878391197117\n",
      "[[468  34]\n",
      " [ 46  59]]\n",
      "training set size 607\n",
      "training pos 121\n",
      "training neg 486\n",
      "test set size 607\n",
      "test pos 114\n",
      "test neg 493\n",
      "scores [0.90322581 0.91803279 0.90163934 0.8852459  0.90163934 0.96721311\n",
      " 0.9        0.86666667 0.9        0.88333333]\n",
      "scores mean 0.9026996298254891\n",
      "scores std 0.05056582727359765\n",
      "cv auc 0.7996462945957896\n",
      "test set auc 0.7442172876410091\n",
      "[[470  23]\n",
      " [ 53  61]]\n",
      "training set size 607\n",
      "training pos 119\n",
      "training neg 488\n",
      "test set size 607\n",
      "test pos 116\n",
      "test neg 491\n",
      "scores [0.85245902 0.91803279 0.81967213 0.8852459  0.86885246 0.80327869\n",
      " 0.83606557 0.83606557 0.78333333 0.83050847]\n",
      "scores mean 0.8433513939057147\n",
      "scores std 0.07511462458923873\n",
      "cv auc 0.7056843229094917\n",
      "test set auc 0.7812873095020718\n",
      "[[454  37]\n",
      " [ 42  74]]\n",
      "training set size 607\n",
      "training pos 129\n",
      "training neg 478\n",
      "test set size 607\n",
      "test pos 106\n",
      "test neg 501\n",
      "scores [0.81967213 0.90163934 0.85245902 0.85245902 0.90163934 0.93442623\n",
      " 0.85245902 0.8852459  0.86666667 0.91525424]\n",
      "scores mean 0.8781920903954802\n",
      "scores std 0.06701993473642634\n",
      "cv auc 0.8065664428659465\n",
      "test set auc 0.7615147064361842\n",
      "[[470  31]\n",
      " [ 44  62]]\n",
      "training set size 607\n",
      "training pos 113\n",
      "training neg 494\n",
      "test set size 607\n",
      "test pos 122\n",
      "test neg 485\n",
      "scores [0.85483871 0.88709677 0.82258065 0.86885246 0.91666667 0.9\n",
      " 0.86666667 0.93333333 0.88333333 0.9       ]\n",
      "scores mean 0.8833368588048651\n",
      "scores std 0.060567767750406516\n",
      "cv auc 0.76774390025438\n",
      "test set auc 0.7488169680581376\n",
      "[[460  25]\n",
      " [ 55  67]]\n",
      "training set size 607\n",
      "training pos 112\n",
      "training neg 495\n",
      "test set size 607\n",
      "test pos 123\n",
      "test neg 484\n",
      "scores [0.87096774 0.88709677 0.80327869 0.91803279 0.81967213 0.8\n",
      " 0.91666667 0.9        0.85       0.85      ]\n",
      "scores mean 0.8615714789353076\n",
      "scores std 0.0840294965375122\n",
      "cv auc 0.7355339105339105\n",
      "test set auc 0.7192434321037425\n",
      "[[468  16]\n",
      " [ 65  58]]\n",
      "training set size 607\n",
      "training pos 120\n",
      "training neg 487\n",
      "test set size 607\n",
      "test pos 115\n",
      "test neg 492\n",
      "scores [0.91803279 0.90163934 0.86885246 0.83606557 0.86885246 0.8852459\n",
      " 0.83606557 0.8        0.91666667 0.95      ]\n",
      "scores mean 0.8781420765027322\n",
      "scores std 0.08639722723743472\n",
      "cv auc 0.7701659822039699\n",
      "test set auc 0.7286320254506893\n",
      "[[456  36]\n",
      " [ 54  61]]\n"
     ]
    }
   ],
   "source": [
    "test_predict_auc_all =[]\n",
    "svm_labels = []\n",
    "\n",
    "for i in range(1,10):\n",
    "    df_X_train, df_X_test, df_y_train, df_y_test = train_test_split(df_cf_judgments.clean_text, \n",
    "                                                    df_cf_judgments.Fatma_violence, \n",
    "                                                    test_size=0.5)\n",
    "    df_train_df = pd.concat([df_X_train,df_y_train],axis=1)\n",
    "    df_test_df = pd.concat([df_X_test,df_y_test],axis = 1)\n",
    "    print('training set size', len(df_train_df))\n",
    "    print('training pos', len(df_train_df[df_train_df[\"Fatma_violence\"]==1]))\n",
    "    print('training neg', len(df_train_df[df_train_df[\"Fatma_violence\"]==0]))\n",
    "    print('test set size', len(df_test_df))\n",
    "    print('test pos', len(df_test_df[df_test_df[\"Fatma_violence\"]==1]))\n",
    "    print('test neg', len(df_test_df[df_test_df[\"Fatma_violence\"]==0]))\n",
    "    \n",
    "    df_pipeline_violence_Svc = Pipeline([\n",
    "    ('vectorizer',  CountVectorizer(ngram_range=(1, 2),stop_words='english',  min_df=3)),\n",
    "    ('classifier',  SVC(kernel='linear', probability=True)) ])\n",
    "\n",
    "    \n",
    "    df_scores = cross_val_score(df_pipeline_violence_Svc, df_train_df.clean_text, df_train_df.Fatma_violence, cv=10)\n",
    "    print('scores',df_scores)\n",
    "    print('scores mean',df_scores.mean())\n",
    "    print('scores std',df_scores.std() * 2)\n",
    "    \n",
    "    df_cv_predict = cross_val_predict(df_pipeline_violence_Svc, df_train_df.clean_text, df_train_df.Fatma_violence, cv=10)\n",
    "    df_cv_predict_scores = metrics.roc_auc_score(df_train_df.Fatma_violence, df_cv_predict)\n",
    "    print('cv auc', df_cv_predict_scores)\n",
    "    \n",
    "    df_pipeline_violence_Svc_model = df_pipeline_violence_Svc.fit(df_train_df.clean_text, df_train_df.Fatma_violence)\n",
    "    df_prediction = df_pipeline_violence_Svc_model.predict(df_test_df.clean_text)\n",
    "    df_predict_prob = df_pipeline_violence_Svc_model.predict_proba(df_test_df.clean_text)\n",
    "    test_predict_auc = metrics.roc_auc_score(df_test_df.Fatma_violence,df_prediction)\n",
    "    print('test set auc', test_predict_auc)\n",
    "    test_predict_auc_all.append(test_predict_auc)\n",
    "    print(metrics.confusion_matrix(df_test_df.Fatma_violence,df_prediction))"
   ]
  },
  {
   "cell_type": "code",
   "execution_count": 193,
   "metadata": {},
   "outputs": [
    {
     "name": "stdout",
     "output_type": "stream",
     "text": [
      "avg aucs on tests 0.7489237744324533\n"
     ]
    }
   ],
   "source": [
    "print('avg aucs on tests', np.mean(test_predict_auc_all))"
   ]
  },
  {
   "cell_type": "code",
   "execution_count": 195,
   "metadata": {},
   "outputs": [],
   "source": [
    "svm_test_results_df = pd.DataFrame({'clean_text':df_test_df.clean_text,'Fatma_violence':df_test_df.Fatma_violence,'violence_prediction':df_prediction,\n",
    "                                    'non_vio_prob':df_predict_prob[:,0],'vio_prob':df_predict_prob[:,1]})"
   ]
  },
  {
   "cell_type": "code",
   "execution_count": 196,
   "metadata": {},
   "outputs": [
    {
     "data": {
      "text/plain": [
       "607"
      ]
     },
     "execution_count": 196,
     "metadata": {},
     "output_type": "execute_result"
    }
   ],
   "source": [
    "len(svm_test_results_df)"
   ]
  },
  {
   "cell_type": "code",
   "execution_count": 197,
   "metadata": {},
   "outputs": [],
   "source": [
    "#right classififcation\n",
    "svm_test_results_df_right_classififcation = svm_test_results_df[svm_test_results_df['violence_prediction']==svm_test_results_df['Fatma_violence']]"
   ]
  },
  {
   "cell_type": "code",
   "execution_count": 198,
   "metadata": {},
   "outputs": [
    {
     "data": {
      "text/plain": [
       "517"
      ]
     },
     "execution_count": 198,
     "metadata": {},
     "output_type": "execute_result"
    }
   ],
   "source": [
    "len(svm_test_results_df_right_classififcation)"
   ]
  },
  {
   "cell_type": "code",
   "execution_count": 199,
   "metadata": {},
   "outputs": [],
   "source": [
    "#mis-classification\n",
    "svm_test_results_df_mis_classififcation = svm_test_results_df[svm_test_results_df['violence_prediction']!=svm_test_results_df['Fatma_violence']]"
   ]
  },
  {
   "cell_type": "code",
   "execution_count": 200,
   "metadata": {},
   "outputs": [
    {
     "data": {
      "text/plain": [
       "90"
      ]
     },
     "execution_count": 200,
     "metadata": {},
     "output_type": "execute_result"
    }
   ],
   "source": [
    "len(svm_test_results_df_mis_classififcation)"
   ]
  },
  {
   "cell_type": "code",
   "execution_count": 201,
   "metadata": {},
   "outputs": [],
   "source": [
    "svm_test_results_df_right_classififcation_pos = svm_test_results_df_right_classififcation[\n",
    "    svm_test_results_df_right_classififcation['violence_prediction'] == 1]"
   ]
  },
  {
   "cell_type": "code",
   "execution_count": 202,
   "metadata": {},
   "outputs": [
    {
     "name": "stdout",
     "output_type": "stream",
     "text": [
      "avg svm vio probability the correctly classififed violent tweets is 0.6884379996680189\n"
     ]
    }
   ],
   "source": [
    "print('avg svm vio probability the correctly classififed violent tweets is', \n",
    "      np.mean(svm_test_results_df_right_classififcation_pos.vio_prob))"
   ]
  },
  {
   "cell_type": "code",
   "execution_count": 203,
   "metadata": {},
   "outputs": [
    {
     "name": "stdout",
     "output_type": "stream",
     "text": [
      "avg svm nonviolence probability the correctly classififed violent tweets is 0.31156200033198134\n"
     ]
    }
   ],
   "source": [
    "print('avg svm nonviolence probability the correctly classififed violent tweets is', \n",
    "      np.mean(svm_test_results_df_right_classififcation_pos.non_vio_prob))"
   ]
  },
  {
   "cell_type": "code",
   "execution_count": 204,
   "metadata": {},
   "outputs": [
    {
     "name": "stderr",
     "output_type": "stream",
     "text": [
      "/Users/fatma/anaconda2/envs/py35/lib/python3.5/site-packages/matplotlib/axes/_axes.py:6462: UserWarning: The 'normed' kwarg is deprecated, and has been replaced by the 'density' kwarg.\n",
      "  warnings.warn(\"The 'normed' kwarg is deprecated, and has been \"\n"
     ]
    },
    {
     "data": {
      "image/png": "[encoded data removed]",
      "text/plain": [
       "<Figure size 432x288 with 1 Axes>"
      ]
     },
     "metadata": {},
     "output_type": "display_data"
    }
   ],
   "source": [
    "colors = ['red', 'green','orange', 'blue']\n",
    "labels = ['svm_non_violence_prb', 'svm_violence_prb','predicted_violence', 'Fatma_violence']\n",
    "plt.hist([svm_test_results_df_right_classififcation_pos.non_vio_prob,\n",
    "         svm_test_results_df_right_classififcation_pos.vio_prob,\n",
    "          svm_test_results_df_right_classififcation_pos.violence_prediction,\n",
    "         svm_test_results_df_right_classififcation_pos.Fatma_violence],stacked=True,normed=1,\n",
    "         histtype='bar',color=colors, label=labels )\n",
    "plt.legend(prop={'size': 10})\n",
    "plt.title('violence tweets (right classification)')\n",
    "plt.tight_layout()\n",
    "plt.show()"
   ]
  },
  {
   "cell_type": "code",
   "execution_count": 205,
   "metadata": {},
   "outputs": [],
   "source": [
    "svm_test_results_df_right_classififcation_neg = svm_test_results_df_right_classififcation[\n",
    "    svm_test_results_df_right_classififcation['violence_prediction'] == 0]"
   ]
  },
  {
   "cell_type": "code",
   "execution_count": 206,
   "metadata": {},
   "outputs": [
    {
     "name": "stdout",
     "output_type": "stream",
     "text": [
      "avg svm vio probability the correctly classififed non-violent tweets is 0.07648413979169211\n"
     ]
    }
   ],
   "source": [
    "print('avg svm vio probability the correctly classififed non-violent tweets is', \n",
    "      np.mean(svm_test_results_df_right_classififcation_neg.vio_prob))"
   ]
  },
  {
   "cell_type": "code",
   "execution_count": 207,
   "metadata": {},
   "outputs": [
    {
     "name": "stdout",
     "output_type": "stream",
     "text": [
      "avg svm nonviolence probability the correctly classififed non-violent tweets is 0.9235158602083078\n"
     ]
    }
   ],
   "source": [
    "print('avg svm nonviolence probability the correctly classififed non-violent tweets is', \n",
    "      np.mean(svm_test_results_df_right_classififcation_neg.non_vio_prob))"
   ]
  },
  {
   "cell_type": "code",
   "execution_count": 208,
   "metadata": {},
   "outputs": [
    {
     "name": "stderr",
     "output_type": "stream",
     "text": [
      "/Users/fatma/anaconda2/envs/py35/lib/python3.5/site-packages/matplotlib/axes/_axes.py:6462: UserWarning: The 'normed' kwarg is deprecated, and has been replaced by the 'density' kwarg.\n",
      "  warnings.warn(\"The 'normed' kwarg is deprecated, and has been \"\n"
     ]
    },
    {
     "data": {
      "image/png": "[encoded data removed]",
      "text/plain": [
       "<Figure size 432x288 with 1 Axes>"
      ]
     },
     "metadata": {},
     "output_type": "display_data"
    }
   ],
   "source": [
    "colors = ['red', 'green','orange', 'blue']\n",
    "labels = ['svm_non_violence_prb', 'svm_violence_prb','predicted_violence', 'Fatma_violence']\n",
    "plt.hist([svm_test_results_df_right_classififcation_neg.non_vio_prob,\n",
    "         svm_test_results_df_right_classififcation_neg.vio_prob,\n",
    "          svm_test_results_df_right_classififcation_neg.violence_prediction,\n",
    "         svm_test_results_df_right_classififcation_neg.Fatma_violence],stacked=True,normed=1,\n",
    "         histtype='bar',color=colors, label=labels )\n",
    "plt.legend(prop={'size': 10})\n",
    "plt.title('non-violence tweets (right classification)')\n",
    "plt.tight_layout()\n",
    "plt.show()"
   ]
  },
  {
   "cell_type": "code",
   "execution_count": null,
   "metadata": {},
   "outputs": [],
   "source": []
  },
  {
   "cell_type": "code",
   "execution_count": 209,
   "metadata": {},
   "outputs": [],
   "source": [
    "svm_test_results_df_mis_classififcation_pos = svm_test_results_df_mis_classififcation[\n",
    "    svm_test_results_df_mis_classififcation['violence_prediction'] == 1]"
   ]
  },
  {
   "cell_type": "code",
   "execution_count": 210,
   "metadata": {},
   "outputs": [
    {
     "name": "stdout",
     "output_type": "stream",
     "text": [
      "avg svm vio probability the mis classififed violent tweets is 0.5785162749835095\n"
     ]
    }
   ],
   "source": [
    "print('avg svm vio probability the mis classififed violent tweets is', \n",
    "      np.mean(svm_test_results_df_mis_classififcation_pos.vio_prob))"
   ]
  },
  {
   "cell_type": "code",
   "execution_count": 211,
   "metadata": {},
   "outputs": [
    {
     "name": "stdout",
     "output_type": "stream",
     "text": [
      "avg svm nonviolence probability the mis classififed violent tweets is 0.42148372501649056\n"
     ]
    }
   ],
   "source": [
    "print('avg svm nonviolence probability the mis classififed violent tweets is', \n",
    "      np.mean(svm_test_results_df_mis_classififcation_pos.non_vio_prob))"
   ]
  },
  {
   "cell_type": "code",
   "execution_count": 217,
   "metadata": {},
   "outputs": [
    {
     "name": "stderr",
     "output_type": "stream",
     "text": [
      "/Users/fatma/anaconda2/envs/py35/lib/python3.5/site-packages/matplotlib/axes/_axes.py:6462: UserWarning: The 'normed' kwarg is deprecated, and has been replaced by the 'density' kwarg.\n",
      "  warnings.warn(\"The 'normed' kwarg is deprecated, and has been \"\n"
     ]
    },
    {
     "data": {
      "image/png": "[encoded data removed]",
      "text/plain": [
       "<Figure size 432x288 with 1 Axes>"
      ]
     },
     "metadata": {},
     "output_type": "display_data"
    }
   ],
   "source": [
    "colors = ['red', 'green','orange', 'blue']\n",
    "labels = ['svm_non_violence_prb', 'svm_violence_prb','predicted_violence', 'Fatma_violence']\n",
    "plt.hist([svm_test_results_df_mis_classififcation_pos.non_vio_prob,\n",
    "         svm_test_results_df_mis_classififcation_pos.vio_prob,\n",
    "          svm_test_results_df_mis_classififcation_pos.violence_prediction,\n",
    "         svm_test_results_df_mis_classififcation_pos.Fatma_violence],stacked=True,normed=1,\n",
    "         histtype='bar',color=colors, label=labels )\n",
    "plt.legend(prop={'size': 10})\n",
    "plt.title('non violence  Mis classification as violent')\n",
    "plt.tight_layout()\n",
    "plt.show()"
   ]
  },
  {
   "cell_type": "code",
   "execution_count": 213,
   "metadata": {},
   "outputs": [],
   "source": [
    "svm_test_results_df_mis_classififcation_neg = svm_test_results_df_mis_classififcation[\n",
    "    svm_test_results_df_mis_classififcation['violence_prediction'] == 0]"
   ]
  },
  {
   "cell_type": "code",
   "execution_count": 214,
   "metadata": {},
   "outputs": [
    {
     "name": "stdout",
     "output_type": "stream",
     "text": [
      "avg svm vio probability the mis-correctly classififed violent tweets is 0.1617566301641587\n"
     ]
    }
   ],
   "source": [
    "print('avg svm vio probability the mis-correctly classififed violent tweets is', \n",
    "      np.mean(svm_test_results_df_mis_classififcation_neg.vio_prob))"
   ]
  },
  {
   "cell_type": "code",
   "execution_count": 215,
   "metadata": {},
   "outputs": [
    {
     "name": "stdout",
     "output_type": "stream",
     "text": [
      "avg svm non-violence probability the mis classififed violent tweets is 0.8382433698358412\n"
     ]
    }
   ],
   "source": [
    "print('avg svm non-violence probability the mis classififed violent tweets is', \n",
    "      np.mean(svm_test_results_df_mis_classififcation_neg.non_vio_prob))"
   ]
  },
  {
   "cell_type": "code",
   "execution_count": 218,
   "metadata": {},
   "outputs": [
    {
     "name": "stderr",
     "output_type": "stream",
     "text": [
      "/Users/fatma/anaconda2/envs/py35/lib/python3.5/site-packages/matplotlib/axes/_axes.py:6462: UserWarning: The 'normed' kwarg is deprecated, and has been replaced by the 'density' kwarg.\n",
      "  warnings.warn(\"The 'normed' kwarg is deprecated, and has been \"\n"
     ]
    },
    {
     "data": {
      "image/png": "[encoded data removed]",
      "text/plain": [
       "<Figure size 432x288 with 1 Axes>"
      ]
     },
     "metadata": {},
     "output_type": "display_data"
    }
   ],
   "source": [
    "colors = ['red', 'green','orange', 'blue']\n",
    "labels = ['svm_non_violence_prb', 'svm_violence_prb','predicted_violence', 'Fatma_violence']\n",
    "plt.hist([svm_test_results_df_mis_classififcation_neg.non_vio_prob,\n",
    "         svm_test_results_df_mis_classififcation_neg.vio_prob,\n",
    "         svm_test_results_df_mis_classififcation_neg.violence_prediction,\n",
    "         svm_test_results_df_mis_classififcation_neg.Fatma_violence],stacked=True,normed=1,\n",
    "         histtype='bar',color=colors, label=labels )\n",
    "plt.legend(prop={'size': 10})\n",
    "plt.title('violent Mis classified as non-violent')\n",
    "plt.tight_layout()\n",
    "plt.show()"
   ]
  },
  {
   "cell_type": "code",
   "execution_count": 219,
   "metadata": {},
   "outputs": [],
   "source": [
    "svm_test_results_df_mis_classififcation.to_csv('Data/svm_Fatma_violence_mis_classififcations.csv')\n",
    "svm_test_results_df_right_classififcation.to_csv('Data/Fatma_violence_right_classififcation.casv')"
   ]
  },
  {
   "cell_type": "code",
   "execution_count": 220,
   "metadata": {},
   "outputs": [],
   "source": [
    "def word_frequencies(word_list):\n",
    "    freq={}\n",
    "\n",
    "    for word in word_list:\n",
    "        count=freq.get(word,0)\n",
    "        freq[word]=count + 1\n",
    "\n",
    "    frequency_list  = freq.keys()    \n",
    "\n",
    "    results = []\n",
    "    for word in frequency_list:\n",
    "        tuple = (word, freq[word])\n",
    "        results.append(tuple)\n",
    "\n",
    "    byFreq=sorted(results, key=lambda word: word[1], reverse=True)\n",
    "\n",
    "\n",
    "    words_names=[]\n",
    "    words_count=[]\n",
    "    for (word, freq) in byFreq[:10]:\n",
    "        print (word, freq)\n",
    "        words_names.append(word)\n",
    "        words_count.append(freq)\n",
    "    return words_names, words_count    "
   ]
  },
  {
   "cell_type": "code",
   "execution_count": 221,
   "metadata": {},
   "outputs": [],
   "source": [
    "mis_classififed_pos_words_list = svm_test_results_df_mis_classififcation_pos['clean_text'].apply(lambda x:word_tokenize(x) )\n",
    "mis_classififed_neg_words_list = svm_test_results_df_mis_classififcation_neg['clean_text'].apply(lambda x:word_tokenize(x) )"
   ]
  },
  {
   "cell_type": "code",
   "execution_count": 222,
   "metadata": {},
   "outputs": [],
   "source": [
    "right_classififed_pos_words_list = svm_test_results_df_right_classififcation_pos['clean_text'].apply(lambda x:word_tokenize(x) )\n",
    "right_classififed_neg_words_list = svm_test_results_df_right_classififcation_neg['clean_text'].apply(lambda x:word_tokenize(x) )"
   ]
  },
  {
   "cell_type": "code",
   "execution_count": 223,
   "metadata": {},
   "outputs": [],
   "source": [
    "right_pos_words_list = [item for items in right_classififed_pos_words_list for item in items] #flatten the list of lists into one list\n",
    "right_neg_words_list = [item for items in right_classififed_neg_words_list for item in items]"
   ]
  },
  {
   "cell_type": "code",
   "execution_count": 224,
   "metadata": {},
   "outputs": [],
   "source": [
    "mis_pos_words_list = [item for items in mis_classififed_pos_words_list for item in items] #flatten the list of lists into one list\n",
    "mis_neg_words_list = [item for items in mis_classififed_neg_words_list for item in items]"
   ]
  },
  {
   "cell_type": "code",
   "execution_count": 225,
   "metadata": {},
   "outputs": [
    {
     "name": "stdout",
     "output_type": "stream",
     "text": [
      "police 16\n",
      "tear 7\n",
      "people 7\n",
      "gas 7\n",
      "erdogan 4\n",
      "riot 4\n",
      "day 4\n",
      "attack 4\n",
      "cnn 4\n",
      "gezipark 4\n"
     ]
    },
    {
     "data": {
      "text/plain": [
       "Text(0.5,1,'word freq for misclassified pos tweets')"
      ]
     },
     "execution_count": 225,
     "metadata": {},
     "output_type": "execute_result"
    },
    {
     "data": {
      "image/png": "[encoded data removed]",
      "text/plain": [
       "<Figure size 432x288 with 1 Axes>"
      ]
     },
     "metadata": {},
     "output_type": "display_data"
    }
   ],
   "source": [
    "word, freq = word_frequencies(mis_pos_words_list)\n",
    "plt.plot(word,freq)\n",
    "plt.tight_layout()\n",
    "plt.title('word freq for misclassified pos tweets')"
   ]
  },
  {
   "cell_type": "code",
   "execution_count": 226,
   "metadata": {},
   "outputs": [
    {
     "name": "stdout",
     "output_type": "stream",
     "text": [
      "police 13\n",
      "arrested 10\n",
      "via 8\n",
      "erdogan 5\n",
      "people 5\n",
      "square 5\n",
      "photos 4\n",
      "video 4\n",
      "riots 4\n",
      "gas 4\n"
     ]
    },
    {
     "data": {
      "text/plain": [
       "Text(0.5,1,'word freq for misclassified neg tweets')"
      ]
     },
     "execution_count": 226,
     "metadata": {},
     "output_type": "execute_result"
    },
    {
     "data": {
      "image/png": "[encoded data removed]",
      "text/plain": [
       "<Figure size 432x288 with 1 Axes>"
      ]
     },
     "metadata": {},
     "output_type": "display_data"
    }
   ],
   "source": [
    "word, freq = word_frequencies(mis_neg_words_list)\n",
    "plt.plot(word,freq)\n",
    "plt.tight_layout()\n",
    "plt.title('word freq for misclassified neg tweets')\n"
   ]
  },
  {
   "cell_type": "code",
   "execution_count": 227,
   "metadata": {},
   "outputs": [
    {
     "name": "stdout",
     "output_type": "stream",
     "text": [
      "police 48\n",
      "gas 17\n",
      "tear 16\n",
      "ankara 10\n",
      "square 8\n",
      "government 7\n",
      "peaceful 7\n",
      "riot 6\n",
      "erdogan 5\n",
      "clashes 5\n"
     ]
    },
    {
     "data": {
      "text/plain": [
       "Text(0.5,1,'word freq for right classified pos tweets')"
      ]
     },
     "execution_count": 227,
     "metadata": {},
     "output_type": "execute_result"
    },
    {
     "data": {
      "image/png": "[encoded data removed]",
      "text/plain": [
       "<Figure size 432x288 with 1 Axes>"
      ]
     },
     "metadata": {},
     "output_type": "display_data"
    }
   ],
   "source": [
    "word, freq = word_frequencies(right_pos_words_list)\n",
    "plt.plot(word,freq)\n",
    "plt.tight_layout()\n",
    "plt.title('word freq for right classified pos tweets')"
   ]
  },
  {
   "cell_type": "code",
   "execution_count": 228,
   "metadata": {},
   "outputs": [
    {
     "name": "stdout",
     "output_type": "stream",
     "text": [
      "erdogan 56\n",
      "square 22\n",
      "world 21\n",
      "people 21\n",
      "via 18\n",
      "says 17\n",
      "media 14\n",
      "day 13\n",
      "would 13\n",
      "one 12\n"
     ]
    },
    {
     "data": {
      "text/plain": [
       "Text(0.5,1,'word freq for right classified neg tweets')"
      ]
     },
     "execution_count": 228,
     "metadata": {},
     "output_type": "execute_result"
    },
    {
     "data": {
      "image/png": "[encoded data removed]",
      "text/plain": [
       "<Figure size 432x288 with 1 Axes>"
      ]
     },
     "metadata": {},
     "output_type": "display_data"
    }
   ],
   "source": [
    "word, freq = word_frequencies(right_neg_words_list)\n",
    "plt.plot(word,freq)\n",
    "plt.tight_layout()\n",
    "plt.title('word freq for right classified neg tweets')"
   ]
  },
  {
   "cell_type": "code",
   "execution_count": null,
   "metadata": {},
   "outputs": [],
   "source": []
  },
  {
   "cell_type": "code",
   "execution_count": null,
   "metadata": {},
   "outputs": [],
   "source": []
  }
 ],
 "metadata": {
  "kernelspec": {
   "display_name": "Python 3",
   "language": "python",
   "name": "python3"
  },
  "language_info": {
   "codemirror_mode": {
    "name": "ipython",
    "version": 3
   },
   "file_extension": ".py",
   "mimetype": "text/x-python",
   "name": "python",
   "nbconvert_exporter": "python",
   "pygments_lexer": "ipython3",
   "version": "3.5.3"
  }
 },
 "nbformat": 4,
 "nbformat_minor": 2
}
