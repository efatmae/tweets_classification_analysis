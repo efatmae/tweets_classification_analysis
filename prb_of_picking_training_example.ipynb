{
 "cells": [
  {
   "cell_type": "code",
   "execution_count": 19,
   "metadata": {
    "collapsed": true
   },
   "outputs": [],
   "source": [
    "B = 128\n",
    "N = 325\n",
    "M = 100"
   ]
  },
  {
   "cell_type": "code",
   "execution_count": 20,
   "metadata": {},
   "outputs": [
    {
     "name": "stdout",
     "output_type": "stream",
     "text": [
      "probability of picking an example :  0.39384615384615485\n",
      "probability of picking an example, in  100  iterations:  1.0\n",
      "probability of not picking an example, in  100  iterations:  1.8125354871892897e-22\n"
     ]
    }
   ],
   "source": [
    "pr_not_pckng_ex = 0\n",
    "x = 1\n",
    "for i  in range (0,B):\n",
    "    x *= (N-(i+1))/(N-i)\n",
    "    \n",
    "pr_not_pckng_ex =  x\n",
    "pr_pckng_ex = 1 - pr_not_pckng_ex\n",
    "\n",
    "\n",
    "pr_not_pckng_ex_all_iterations = pow(1 - pr_pckng_ex, M) \n",
    "pr_pckng_ex_all_itrations = 1 - pr_not_pckng_ex_all_iterations\n",
    "\n",
    "print (\"probability of picking an example : \", pr_pckng_ex)\n",
    "print (\"probability of picking an example, in \", M ,  \" iterations: \", pr_pckng_ex_all_itrations)\n",
    "print (\"probability of not picking an example, in \", M ,  \" iterations: \", pr_not_pckng_ex_all_iterations)"
   ]
  },
  {
   "cell_type": "code",
   "execution_count": 2,
   "metadata": {
    "collapsed": true
   },
   "outputs": [],
   "source": [
    "import matplotlib.pyplot as plt"
   ]
  },
  {
   "cell_type": "code",
   "execution_count": 3,
   "metadata": {},
   "outputs": [
    {
     "data": {
      "text/plain": [
       "[0, 1, 0, 510]"
      ]
     },
     "execution_count": 3,
     "metadata": {},
     "output_type": "execute_result"
    }
   ],
   "source": [
    "plt.axis([0,1,0,510])"
   ]
  },
  {
   "cell_type": "code",
   "execution_count": null,
   "metadata": {
    "collapsed": true
   },
   "outputs": [],
   "source": []
  }
 ],
 "metadata": {
  "kernelspec": {
   "display_name": "Python 3",
   "language": "python",
   "name": "python3"
  },
  "language_info": {
   "codemirror_mode": {
    "name": "ipython",
    "version": 3
   },
   "file_extension": ".py",
   "mimetype": "text/x-python",
   "name": "python",
   "nbconvert_exporter": "python",
   "pygments_lexer": "ipython3",
   "version": "3.6.2"
  }
 },
 "nbformat": 4,
 "nbformat_minor": 2
}
